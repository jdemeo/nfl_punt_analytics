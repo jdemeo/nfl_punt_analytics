{
 "cells": [
  {
   "cell_type": "markdown",
   "metadata": {},
   "source": [
    "## Objective:\n",
    "- Combine NGS data with particular play subsets (punt returns, fair catches, concussions) to reduce memory requirements to run analysis notebooks."
   ]
  },
  {
   "cell_type": "code",
   "execution_count": 2,
   "metadata": {},
   "outputs": [],
   "source": [
    "import pandas as pd\n",
    "import numpy as np"
   ]
  },
  {
   "cell_type": "code",
   "execution_count": 3,
   "metadata": {},
   "outputs": [
    {
     "name": "stderr",
     "output_type": "stream",
     "text": [
      "<string>:2: DtypeWarning: Columns (10) have mixed types. Specify dtype option on import or set low_memory=False.\n"
     ]
    },
    {
     "name": "stdout",
     "output_type": "stream",
     "text": [
      "CPU times: user 2min 36s, sys: 41.8 s, total: 3min 18s\n",
      "Wall time: 2min 48s\n"
     ]
    }
   ],
   "source": [
    "%%time\n",
    "\n",
    "# 2016 Season Data Processing\n",
    "ngs_2016_pre = pd.read_csv('data/NGS-2016-pre.csv')\n",
    "ngs_2016_1_6 = pd.read_csv('data/NGS-2016-reg-wk1-6.csv')\n",
    "ngs_2016_7_12 = pd.read_csv('data/NGS-2016-reg-wk7-12.csv')\n",
    "ngs_2016_13_17 = pd.read_csv('data/NGS-2016-reg-wk13-17.csv')\n",
    "ngs_2016_post = pd.read_csv('data/NGS-2016-post.csv')\n",
    "\n",
    "# Combine\n",
    "ngs_2016 = pd.concat([ngs_2016_pre, ngs_2016_1_6, ngs_2016_7_12, ngs_2016_13_17, ngs_2016_post], axis=0)\n",
    "\n",
    "# Clear up memory\n",
    "del ngs_2016_pre\n",
    "del ngs_2016_1_6\n",
    "del ngs_2016_7_12\n",
    "del ngs_2016_13_17\n",
    "del ngs_2016_post\n",
    "\n",
    "# 2017 Season Data Processing\n",
    "ngs_2017_pre = pd.read_csv('data/NGS-2017-pre.csv')\n",
    "ngs_2017_1_6 = pd.read_csv('data/NGS-2017-reg-wk1-6.csv')\n",
    "ngs_2017_7_12 = pd.read_csv('data/NGS-2017-reg-wk7-12.csv')\n",
    "ngs_2017_13_17 = pd.read_csv('data/NGS-2017-reg-wk13-17.csv')\n",
    "ngs_2017_post = pd.read_csv('data/NGS-2017-post.csv')\n",
    "\n",
    "# Combine\n",
    "ngs_2017 = pd.concat([ngs_2017_pre, ngs_2017_1_6, ngs_2017_7_12, ngs_2017_13_17, ngs_2017_post], axis=0)\n",
    "\n",
    "# Clear up memory\n",
    "del ngs_2017_pre\n",
    "del ngs_2017_1_6\n",
    "del ngs_2017_7_12\n",
    "del ngs_2017_13_17\n",
    "del ngs_2017_post\n",
    "\n",
    "# Combine\n",
    "ngs_all = pd.concat([ngs_2016, ngs_2017], axis=0)\n",
    "\n",
    "# Clear up memory\n",
    "del ngs_2016\n",
    "del ngs_2017\n",
    "\n",
    "# Drop unneeded columns\n",
    "droppers = ['Season_Year', 'o', 'dir']\n",
    "ngs_all.drop(columns=droppers, inplace=True)"
   ]
  },
  {
   "cell_type": "markdown",
   "metadata": {},
   "source": [
    "- Get NGS subsets\n",
    "- **play-fair_catch.csv and play-punt_return.csv** can be obtained from: https://www.kaggle.com/jdemeo/preprocessing-punt-play"
   ]
  },
  {
   "cell_type": "code",
   "execution_count": 10,
   "metadata": {},
   "outputs": [],
   "source": [
    "# Fair Catch\n",
    "fair_catch_df = pd.read_csv('data/play-fair_catch.csv')\n",
    "remainder_df = fair_catch_df.groupby(['GameKey','PlayID']).size().reset_index().rename(columns={0:'count'})\n",
    "\n",
    "# Create condensed set of NGS data\n",
    "condensed_ngs = pd.merge(remainder_df, ngs_all,\n",
    "                          how='inner',\n",
    "                          on=['GameKey', 'PlayID'])\n",
    "\n",
    "condensed_ngs.to_csv('data/NGS-fair_catch.csv', index=False)"
   ]
  },
  {
   "cell_type": "code",
   "execution_count": 12,
   "metadata": {},
   "outputs": [],
   "source": [
    "# Punt Return\n",
    "fair_catch_df = pd.read_csv('data/play-punt_return.csv')\n",
    "remainder_df = fair_catch_df.groupby(['GameKey','PlayID']).size().reset_index().rename(columns={0:'count'})\n",
    "\n",
    "# Create condensed set of NGS data\n",
    "condensed_ngs = pd.merge(remainder_df, ngs_all,\n",
    "                          how='inner',\n",
    "                          on=['GameKey', 'PlayID'])\n",
    "\n",
    "condensed_ngs.to_csv('data/NGS-punt_return.csv', index=False)"
   ]
  },
  {
   "cell_type": "code",
   "execution_count": 13,
   "metadata": {},
   "outputs": [],
   "source": [
    "# Concussion\n",
    "concussion_df = pd.read_csv('data/video_review.csv')\n",
    "remainder_df = concussion_df.groupby(['GameKey','PlayID']).size().reset_index().rename(columns={0:'count'})\n",
    "\n",
    "# Create condensed set of NGS data\n",
    "condensed_ngs = pd.merge(remainder_df, ngs_all,\n",
    "                          how='inner',\n",
    "                          on=['GameKey', 'PlayID'])\n",
    "\n",
    "condensed_ngs.to_csv('data/NGS-concussion.csv', index=False)"
   ]
  },
  {
   "cell_type": "markdown",
   "metadata": {},
   "source": [
    "# Links to other notebooks:\n",
    "- Concussion play analysis with proposed rule changes: https://www.kaggle.com/jdemeo/analysis-concussions\n",
    "- Analysis of uncalled penalties: https://www.kaggle.com/jdemeo/analysis-uncalled-penalties\n",
    "- Analysis of punt returns: https://www.kaggle.com/jdemeo/analysis-punt-returns\n",
    "- Analysis of fair catches: https://www.kaggle.com/jdemeo/analysis-fair-catches\n",
    "- Preprocessing of Play Information: https://www.kaggle.com/jdemeo/preprocessing-punt-play\n",
    "- Preprocessing of NGS data for the above notebooks: https://www.kaggle.com/jdemeo/preprocessing-ngs"
   ]
  },
  {
   "cell_type": "code",
   "execution_count": null,
   "metadata": {},
   "outputs": [],
   "source": []
  }
 ],
 "metadata": {
  "kernelspec": {
   "display_name": "ML",
   "language": "python",
   "name": "ml"
  },
  "language_info": {
   "codemirror_mode": {
    "name": "ipython",
    "version": 3
   },
   "file_extension": ".py",
   "mimetype": "text/x-python",
   "name": "python",
   "nbconvert_exporter": "python",
   "pygments_lexer": "ipython3",
   "version": "3.7.1"
  }
 },
 "nbformat": 4,
 "nbformat_minor": 2
}
