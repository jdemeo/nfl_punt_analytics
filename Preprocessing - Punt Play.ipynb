{
 "cells": [
  {
   "cell_type": "markdown",
   "metadata": {},
   "source": [
    "## Objective:\n",
    "- Preprocess 'PlayDescription' from the play information dataset to create subsets of data that will be used in other notebooks for analysis."
   ]
  },
  {
   "cell_type": "code",
   "execution_count": 1,
   "metadata": {},
   "outputs": [],
   "source": [
    "import pandas as pd\n",
    "import numpy as np\n",
    "import seaborn as sns\n",
    "import matplotlib.pyplot as plt\n",
    "import matplotlib.patches as mpatches\n",
    "import re"
   ]
  },
  {
   "cell_type": "markdown",
   "metadata": {},
   "source": [
    "# PLAY INFORMATION\n",
    "- <b>Play Information</b>: Play level data that describes the type of play, possession team, score and a brief narrative of each play. Plays are uniquely identified using a its PlayID along with the corresponding GameKey. \n",
    "- All plays are punts (just check counts of 'Play_Type')\n",
    "- I'll look specifically at <b>'PlayDescription'</b> to get a rough idea of how a play panned out and use that data to create one-hot encodings of types of plays (touchback, punt return, blocked kick, etc) and miscellaneous attributes of a play (fumble, muffed, etc). This will help to understand how many plays could be deemed 'interesting' (exciting, action after the catch, a blocked kick) and 'uninteresting' (out of bounds kicks, touchbacks, fair catches, etc.). This labeling is subjective and is used later to place value on the result of a punt both to a team and its fanbase."
   ]
  },
  {
   "cell_type": "code",
   "execution_count": 2,
   "metadata": {},
   "outputs": [
    {
     "name": "stdout",
     "output_type": "stream",
     "text": [
      "(6681, 14)\n"
     ]
    },
    {
     "data": {
      "text/html": [
       "<div>\n",
       "<style scoped>\n",
       "    .dataframe tbody tr th:only-of-type {\n",
       "        vertical-align: middle;\n",
       "    }\n",
       "\n",
       "    .dataframe tbody tr th {\n",
       "        vertical-align: top;\n",
       "    }\n",
       "\n",
       "    .dataframe thead th {\n",
       "        text-align: right;\n",
       "    }\n",
       "</style>\n",
       "<table border=\"1\" class=\"dataframe\">\n",
       "  <thead>\n",
       "    <tr style=\"text-align: right;\">\n",
       "      <th></th>\n",
       "      <th>Season_Year</th>\n",
       "      <th>Season_Type</th>\n",
       "      <th>GameKey</th>\n",
       "      <th>Game_Date</th>\n",
       "      <th>Week</th>\n",
       "      <th>PlayID</th>\n",
       "      <th>Game_Clock</th>\n",
       "      <th>YardLine</th>\n",
       "      <th>Quarter</th>\n",
       "      <th>Play_Type</th>\n",
       "      <th>Poss_Team</th>\n",
       "      <th>Home_Team_Visit_Team</th>\n",
       "      <th>Score_Home_Visiting</th>\n",
       "      <th>PlayDescription</th>\n",
       "    </tr>\n",
       "  </thead>\n",
       "  <tbody>\n",
       "    <tr>\n",
       "      <th>0</th>\n",
       "      <td>2016</td>\n",
       "      <td>Pre</td>\n",
       "      <td>2</td>\n",
       "      <td>08/13/2016</td>\n",
       "      <td>2</td>\n",
       "      <td>191</td>\n",
       "      <td>12:30</td>\n",
       "      <td>LA 47</td>\n",
       "      <td>1</td>\n",
       "      <td>Punt</td>\n",
       "      <td>LA</td>\n",
       "      <td>LA-DAL</td>\n",
       "      <td>0 - 7</td>\n",
       "      <td>(12:30) J.Hekker punts 52 yards to DAL 1, Cent...</td>\n",
       "    </tr>\n",
       "  </tbody>\n",
       "</table>\n",
       "</div>"
      ],
      "text/plain": [
       "   Season_Year Season_Type  GameKey   Game_Date  Week  PlayID Game_Clock  \\\n",
       "0         2016         Pre        2  08/13/2016     2     191      12:30   \n",
       "\n",
       "  YardLine  Quarter Play_Type Poss_Team Home_Team_Visit_Team  \\\n",
       "0    LA 47        1      Punt        LA               LA-DAL   \n",
       "\n",
       "  Score_Home_Visiting                                    PlayDescription  \n",
       "0               0 - 7  (12:30) J.Hekker punts 52 yards to DAL 1, Cent...  "
      ]
     },
     "execution_count": 2,
     "metadata": {},
     "output_type": "execute_result"
    }
   ],
   "source": [
    "play_df = pd.read_csv('data/play_information.csv')\n",
    "print(play_df.shape)\n",
    "play_df.head(1)"
   ]
  },
  {
   "cell_type": "code",
   "execution_count": 3,
   "metadata": {},
   "outputs": [
    {
     "name": "stdout",
     "output_type": "stream",
     "text": [
      "Number of games without a punt: 4\n",
      "Game 1 had no punts\n",
      "Game 333 had no punts\n",
      "Game 390 had no punts\n",
      "Game 666 had no punts\n"
     ]
    }
   ],
   "source": [
    "# HOW MANY GAMES HAD NO PUNTS AND WHICH GAMES\n",
    "stuff = []\n",
    "# Collect all game id's in punt data\n",
    "for element in play_df['GameKey']:\n",
    "    stuff.append(element)\n",
    "print('Number of games without a punt:', 666 - len(set(stuff)))\n",
    "\n",
    "for element in [i for i in range(1, 667)]:\n",
    "    if element not in set(stuff):\n",
    "        print('Game', element, 'had no punts')"
   ]
  },
  {
   "cell_type": "markdown",
   "metadata": {},
   "source": [
    "- Game 1: 'Hall of Fame Game' was cancelled due to weather\n",
    "- Game 333: Probowl game\n",
    "    - If you search the game and find the box-score, there were 3 punts\n",
    "- Game 399: Was cancelled due to Hurricane Harvey :(\n",
    "- Game 666: Probowl game\n",
    "    - If you search the game and find the box-score, there were 8 punts"
   ]
  },
  {
   "cell_type": "markdown",
   "metadata": {},
   "source": [
    "- Example Play Descriptions for one-hot-encodings:\n",
    "    - <b>Interesting outcomes</b>:\n",
    "        - <b>Returned Punt</b>: B.Nortman punts 40 yards to BUF 23, Center-C.Holba. B.Tate to BUF 34 for 11 yards (D.Payne).\n",
    "        - <b>Muffed catch</b>: S.Waters punts 36 yards to BLT 15, Center-J.Jansen. K.Clay MUFFS catch, RECOVERED by CAR-F.Whittaker at BLT 12. F.Whittaker to BLT 12 for no gain (K.Clay).\n",
    "        - <b>Blocked Punt</b>: B.Wing punt is BLOCKED by B.Carter, Center-Z.DeOssie, recovered by NYG-J.Currie at NYG 15. J.Currie to NYG 15 for no gain (J.Burris).\n",
    "        - <b>Fumbles</b>: M.Darr punts 42 yards to TEN 14, Center-J.Denney. K.Reed to TEN 21 for 7 yards (Dan.Thomas). FUMBLES (Dan.Thomas), RECOVERED by MIA-J.Denney at TEN 23. J.Denney to TEN 23 for no gain (K.Byard).\n",
    "        - <b>Touchdown</b>: J.Locke punts 61 yards to CIN 20, Center-K.McDermott. A.Erickson for 80 yards, TOUCHDOWN.\n",
    "        - <b>Fake Punt</b>: P.McAfee pass deep right to E.Swoope to PIT 8 for 35 yards (J.Gilbert).\n",
    "            - Passing: P.McAfee pass deep right to E.Swoope to PIT 8 for 35 yards (J.Gilbert).\n",
    "            - Running: C.Jones left end to PHI 43 for 30 yards (D.Sproles). Fake punt run around left end.\n",
    "                - Lots of variations in descriptions for these bad boys\n",
    "    - Uninteresting outcomes:\n",
    "        - <b>Fair Catch</b>: J.Locke punts 47 yards to GB 10, Center-K.McDermott, fair catch by M.Hyde.\n",
    "        - <b>Downed Punt</b>: J.Locke punts 50 yards to GB 9, Center-K.McDermott, downed by MIN-J.Kearse.\n",
    "            - This is a play where the punting team controls the ball before any receiving team player after the ball has been punted\n",
    "        - <b>Touchbacks</b>: J.Hekker punts 50 yards to end zone, Center-J.Overbaugh, Touchback.\n",
    "        - <b>Out of Bounds Punt</b>: J.Schum punts 35 yards to MIN 34, Center-B.Goode, out of bounds.\n",
    "        - <b>Dead Ball</b>: B.Nortman punts 51 yards to BUF 34, Center-C.Holba. B.Tate, dead ball declared at BUF 34 for no gain.\n",
    "        - <b>No Play</b>: (:04) (Punt formation) PENALTY on ATL-M.Bosher, Delay of Game, 5 yards, enforced at ATL 49 - No Play.\n",
    "            - Some 'No Play' or '(Punt formation) Penalty' descriptions vary where a punt was executed and a penalty occurred that would negate the play, such that the punt is reattempted\n",
    "            - Such penalties include: False Start, Illegal Substitution, Delay of Game, Illegal Formation, Neutral Zone Infraction, Player Out of Bounds on Punt, Defensive 12 On-field, Ineligible Downfield Kick, Illegal Shift, Unnecessary Roughness, Roughing the Kicker, Defensive Offside, Ineligible Downfield Kick, Offensive Holding\n",
    "\n",
    "- Note: a play may have more than one of the above classifications."
   ]
  },
  {
   "cell_type": "code",
   "execution_count": 4,
   "metadata": {},
   "outputs": [],
   "source": [
    "# Create condensed version of play data\n",
    "keeper_columns = ['GameKey', 'PlayID', 'PlayDescription', 'Poss_Team', 'YardLine']\n",
    "condensed_play_df = play_df[keeper_columns].copy()"
   ]
  },
  {
   "cell_type": "code",
   "execution_count": 5,
   "metadata": {},
   "outputs": [],
   "source": [
    "def find_that_play_word(keyword, df):\n",
    "    \"\"\"Help to find keywords\"\"\"\n",
    "    df[keyword] = 0\n",
    "    count = 0\n",
    "    for i, description in enumerate(df['PlayDescription']):\n",
    "        game_key = df.loc[i, 'GameKey']\n",
    "        play_id = df.loc[i, 'PlayID']\n",
    "        # Find keyword in lowercased string of play description\n",
    "        if description.lower().find(keyword) != -1:\n",
    "#             print('Keyword', keyword, 'found for (game, play):', '(' + str(game_key) + ',' + str(play_id) + ')')\n",
    "#             print('Play description:', description)\n",
    "#             print('---')\n",
    "                \n",
    "            # One-hot encode with keyword\n",
    "            df.loc[i, keyword] = 1\n",
    "            count += 1\n",
    "\n",
    "    print('# of', keyword, 'occuring on a punt play:', count)"
   ]
  },
  {
   "cell_type": "markdown",
   "metadata": {},
   "source": [
    "The coice of strings to parse for were determined based off reading through the Play Descriptions. There are probably cases where I'm still making poor assumptions, but I'll have to live with it.\n",
    "\n",
    "### Uninteresting Outcomes"
   ]
  },
  {
   "cell_type": "code",
   "execution_count": 6,
   "metadata": {},
   "outputs": [
    {
     "name": "stdout",
     "output_type": "stream",
     "text": [
      "# of fair catch occuring on a punt play: 1663\n",
      "# of touchback occuring on a punt play: 407\n",
      "# of downed occuring on a punt play: 811\n",
      "# of , out of bounds occuring on a punt play: 640\n",
      "# of dead ball occuring on a punt play: 2\n",
      "# of no play occuring on a punt play: 243\n",
      "# of (punt formation) penalty on occuring on a punt play: 138\n"
     ]
    }
   ],
   "source": [
    "find_that_play_word('fair catch', condensed_play_df)\n",
    "find_that_play_word('touchback', condensed_play_df)\n",
    "find_that_play_word('downed', condensed_play_df)\n",
    "find_that_play_word(', out of bounds', condensed_play_df)\n",
    "find_that_play_word('dead ball', condensed_play_df)\n",
    "find_that_play_word('no play', condensed_play_df)\n",
    "find_that_play_word('(punt formation) penalty on', condensed_play_df) # Picks up additional 'no play' type punts"
   ]
  },
  {
   "cell_type": "markdown",
   "metadata": {},
   "source": [
    "- Some of these counts may overlap, but won't matter for the processing"
   ]
  },
  {
   "cell_type": "code",
   "execution_count": 7,
   "metadata": {},
   "outputs": [
    {
     "name": "stdout",
     "output_type": "stream",
     "text": [
      "There are now 2980 \"interesting plays\" from 6681 punt plays\n",
      "Proportion of interesting punts: 0.44604101182457717\n"
     ]
    },
    {
     "data": {
      "text/html": [
       "<div>\n",
       "<style scoped>\n",
       "    .dataframe tbody tr th:only-of-type {\n",
       "        vertical-align: middle;\n",
       "    }\n",
       "\n",
       "    .dataframe tbody tr th {\n",
       "        vertical-align: top;\n",
       "    }\n",
       "\n",
       "    .dataframe thead th {\n",
       "        text-align: right;\n",
       "    }\n",
       "</style>\n",
       "<table border=\"1\" class=\"dataframe\">\n",
       "  <thead>\n",
       "    <tr style=\"text-align: right;\">\n",
       "      <th></th>\n",
       "      <th>GameKey</th>\n",
       "      <th>PlayID</th>\n",
       "      <th>PlayDescription</th>\n",
       "      <th>Poss_Team</th>\n",
       "      <th>YardLine</th>\n",
       "      <th>fair catch</th>\n",
       "      <th>touchback</th>\n",
       "      <th>downed</th>\n",
       "      <th>, out of bounds</th>\n",
       "      <th>dead ball</th>\n",
       "      <th>no play</th>\n",
       "      <th>(punt formation) penalty on</th>\n",
       "    </tr>\n",
       "  </thead>\n",
       "  <tbody>\n",
       "    <tr>\n",
       "      <th>0</th>\n",
       "      <td>2</td>\n",
       "      <td>1227</td>\n",
       "      <td>(10:01) C.Jones punts 40 yards to LA 42, Cente...</td>\n",
       "      <td>DAL</td>\n",
       "      <td>DAL 18</td>\n",
       "      <td>0</td>\n",
       "      <td>0</td>\n",
       "      <td>0</td>\n",
       "      <td>0</td>\n",
       "      <td>0</td>\n",
       "      <td>0</td>\n",
       "      <td>0</td>\n",
       "    </tr>\n",
       "  </tbody>\n",
       "</table>\n",
       "</div>"
      ],
      "text/plain": [
       "   GameKey  PlayID                                    PlayDescription  \\\n",
       "0        2    1227  (10:01) C.Jones punts 40 yards to LA 42, Cente...   \n",
       "\n",
       "  Poss_Team YardLine  fair catch  touchback  downed  , out of bounds  \\\n",
       "0       DAL   DAL 18           0          0       0                0   \n",
       "\n",
       "   dead ball  no play  (punt formation) penalty on  \n",
       "0          0        0                            0  "
      ]
     },
     "execution_count": 7,
     "metadata": {},
     "output_type": "execute_result"
    }
   ],
   "source": [
    "# Reduce play_df even further \n",
    "where_condition = (\n",
    "    (condensed_play_df['fair catch'] == 1) |\n",
    "    (condensed_play_df['touchback'] == 1) |\n",
    "    (condensed_play_df['downed'] == 1) |\n",
    "    (condensed_play_df[', out of bounds'] == 1) |\n",
    "    (condensed_play_df['dead ball'] == 1) |\n",
    "    (condensed_play_df['no play'] == 1) |\n",
    "    (condensed_play_df['(punt formation) penalty on'] == 1))\n",
    "interesting_plays_df = condensed_play_df[~where_condition].reset_index(drop=True)\n",
    "\n",
    "print('There are now', len(interesting_plays_df), '\"interesting plays\" from', len(condensed_play_df), 'punt plays')\n",
    "print('Proportion of interesting punts:', len(interesting_plays_df)/len(condensed_play_df))\n",
    "interesting_plays_df.head(1)"
   ]
  },
  {
   "cell_type": "markdown",
   "metadata": {},
   "source": [
    "- So we can see that around <b>55.4% of punts (3701/6681)</b> result in a play that is 'uninteresting'. Maybe the punt isn't worth the time.\n",
    "- The <b>touchback rate was 57.6% for kickoffs in 2016</b>. Just for perspective of 'uninteresting outcomes'.\n",
    "    - Reference: http://www.espn.com/nfl/story/_/id/18393780/kickoff-returns-reduced-18-percentage-points-2016-season\n",
    "\n",
    "\n",
    "Now that we have a condensed set of punt plays where something potentially interesting occurred, lets parse for the more interesting than interesting plays on punts (touchdowns, fumbles, blocks, etc.). I'll also create datasets that will be needed for other notebooks."
   ]
  },
  {
   "cell_type": "code",
   "execution_count": 8,
   "metadata": {},
   "outputs": [],
   "source": [
    "'''I only have this here for reference of what I've filtered by'''\n",
    "uninteresting_keywords = ['fair catch', 'touchback.', 'downed', ', out of bounds', 'dead ball', 'no play',\n",
    "                         '(punt formation) penalty on']\n",
    "interesting_keywords = ['muffs', 'blocked by','touchdown.', 'fumble', 'ruling', 'fake punt',\n",
    "                        'up the middle', 'pass', 'right end', 'left end', 'right guard',\n",
    "                        'direct snap', 'touchdown nullified']"
   ]
  },
  {
   "cell_type": "markdown",
   "metadata": {},
   "source": [
    "### Interesting outcomes"
   ]
  },
  {
   "cell_type": "code",
   "execution_count": 9,
   "metadata": {},
   "outputs": [
    {
     "name": "stdout",
     "output_type": "stream",
     "text": [
      "# of muffs occuring on a punt play: 198\n",
      "# of blocked by occuring on a punt play: 29\n",
      "# of touchdown. occuring on a punt play: 41\n",
      "# of fumble occuring on a punt play: 68\n",
      "# of ruling occuring on a punt play: 25\n",
      "# of fake punt occuring on a punt play: 6\n",
      "# of safety occuring on a punt play: 8\n",
      "# of up the middle occuring on a punt play: 11\n",
      "# of pass occuring on a punt play: 20\n",
      "# of right end occuring on a punt play: 7\n",
      "# of left end occuring on a punt play: 3\n",
      "# of right guard occuring on a punt play: 3\n",
      "# of direct snap occuring on a punt play: 9\n",
      "# of touchdown nullified occuring on a punt play: 12\n"
     ]
    }
   ],
   "source": [
    "# 'Interesting outcomes'\n",
    "find_that_play_word('muffs', interesting_plays_df)\n",
    "find_that_play_word('blocked by', interesting_plays_df)\n",
    "find_that_play_word('touchdown.', interesting_plays_df)\n",
    "find_that_play_word('fumble', interesting_plays_df)\n",
    "find_that_play_word('ruling', interesting_plays_df)\n",
    "find_that_play_word('fake punt', interesting_plays_df)\n",
    "find_that_play_word('safety', interesting_plays_df)\n",
    "find_that_play_word('up the middle', interesting_plays_df)\n",
    "find_that_play_word('pass', interesting_plays_df)\n",
    "find_that_play_word('right end', interesting_plays_df)\n",
    "find_that_play_word('left end', interesting_plays_df)\n",
    "find_that_play_word('right guard', interesting_plays_df)\n",
    "find_that_play_word('direct snap', interesting_plays_df)\n",
    "find_that_play_word('touchdown nullified', interesting_plays_df)"
   ]
  },
  {
   "cell_type": "code",
   "execution_count": 10,
   "metadata": {},
   "outputs": [
    {
     "name": "stdout",
     "output_type": "stream",
     "text": [
      "(2627, 5)\n"
     ]
    },
    {
     "data": {
      "text/html": [
       "<div>\n",
       "<style scoped>\n",
       "    .dataframe tbody tr th:only-of-type {\n",
       "        vertical-align: middle;\n",
       "    }\n",
       "\n",
       "    .dataframe tbody tr th {\n",
       "        vertical-align: top;\n",
       "    }\n",
       "\n",
       "    .dataframe thead th {\n",
       "        text-align: right;\n",
       "    }\n",
       "</style>\n",
       "<table border=\"1\" class=\"dataframe\">\n",
       "  <thead>\n",
       "    <tr style=\"text-align: right;\">\n",
       "      <th></th>\n",
       "      <th>GameKey</th>\n",
       "      <th>PlayID</th>\n",
       "      <th>PlayDescription</th>\n",
       "      <th>Poss_Team</th>\n",
       "      <th>YardLine</th>\n",
       "    </tr>\n",
       "  </thead>\n",
       "  <tbody>\n",
       "    <tr>\n",
       "      <th>0</th>\n",
       "      <td>2</td>\n",
       "      <td>1227</td>\n",
       "      <td>(10:01) C.Jones punts 40 yards to LA 42, Cente...</td>\n",
       "      <td>DAL</td>\n",
       "      <td>DAL 18</td>\n",
       "    </tr>\n",
       "    <tr>\n",
       "      <th>1</th>\n",
       "      <td>3</td>\n",
       "      <td>455</td>\n",
       "      <td>(6:44) (Punt formation) S.Koch punts 54 yards ...</td>\n",
       "      <td>BLT</td>\n",
       "      <td>BLT 32</td>\n",
       "    </tr>\n",
       "    <tr>\n",
       "      <th>2</th>\n",
       "      <td>3</td>\n",
       "      <td>1542</td>\n",
       "      <td>(2:54) (Punt formation) S.Koch punts 45 yards ...</td>\n",
       "      <td>BLT</td>\n",
       "      <td>BLT 34</td>\n",
       "    </tr>\n",
       "    <tr>\n",
       "      <th>3</th>\n",
       "      <td>4</td>\n",
       "      <td>927</td>\n",
       "      <td>(1:53) A.Lee punts 40 yards to GB 27, Center-C...</td>\n",
       "      <td>CLV</td>\n",
       "      <td>CLV 33</td>\n",
       "    </tr>\n",
       "    <tr>\n",
       "      <th>4</th>\n",
       "      <td>4</td>\n",
       "      <td>1725</td>\n",
       "      <td>(2:48) A.Lee punts 66 yards to GB 15, Center-C...</td>\n",
       "      <td>CLV</td>\n",
       "      <td>CLV 19</td>\n",
       "    </tr>\n",
       "  </tbody>\n",
       "</table>\n",
       "</div>"
      ],
      "text/plain": [
       "   GameKey  PlayID                                    PlayDescription  \\\n",
       "0        2    1227  (10:01) C.Jones punts 40 yards to LA 42, Cente...   \n",
       "1        3     455  (6:44) (Punt formation) S.Koch punts 54 yards ...   \n",
       "2        3    1542  (2:54) (Punt formation) S.Koch punts 45 yards ...   \n",
       "3        4     927  (1:53) A.Lee punts 40 yards to GB 27, Center-C...   \n",
       "4        4    1725  (2:48) A.Lee punts 66 yards to GB 15, Center-C...   \n",
       "\n",
       "  Poss_Team YardLine  \n",
       "0       DAL   DAL 18  \n",
       "1       BLT   BLT 32  \n",
       "2       BLT   BLT 34  \n",
       "3       CLV   CLV 33  \n",
       "4       CLV   CLV 19  "
      ]
     },
     "execution_count": 10,
     "metadata": {},
     "output_type": "execute_result"
    }
   ],
   "source": [
    "# Create a dataset where plays are currently assumed to be actual punt returns \n",
    "where_condition = (\n",
    "    (interesting_plays_df['muffs'] == 1) |\n",
    "    (interesting_plays_df['blocked by'] == 1) |\n",
    "    (interesting_plays_df['touchdown.'] == 1) |\n",
    "    (interesting_plays_df['fumble'] == 1) |\n",
    "    (interesting_plays_df['ruling'] == 1) |\n",
    "    (interesting_plays_df['fake punt'] == 1) |\n",
    "    (interesting_plays_df['safety'] == 1) |\n",
    "    (interesting_plays_df['up the middle'] == 1) |\n",
    "    (interesting_plays_df['pass'] == 1) |\n",
    "    (interesting_plays_df['right end'] == 1) |\n",
    "    (interesting_plays_df['left end'] == 1) |\n",
    "    (interesting_plays_df['right guard'] == 1) |\n",
    "    (interesting_plays_df['direct snap'] == 1) |\n",
    "    (interesting_plays_df['touchdown nullified'] == 1))\n",
    "remainder_df = interesting_plays_df[~where_condition].reset_index(drop=True)\n",
    "\n",
    "# Isolate touchdowns that were from punt returns\n",
    "where_condition = ((interesting_plays_df['touchdown.'] == 1) &\n",
    "                   (interesting_plays_df['blocked by'] == 0) &\n",
    "                   (interesting_plays_df['direct snap'] == 0) &\n",
    "                   (interesting_plays_df['right guard'] == 0) &\n",
    "                   (interesting_plays_df['fumble'] == 0) &\n",
    "                   (interesting_plays_df['pass'] == 0))\n",
    "td_df = interesting_plays_df[where_condition].reset_index(drop=True)\n",
    "\n",
    "# Combine touchdown punt returns and regular punt returns\n",
    "remainder_df = pd.concat([remainder_df, td_df], axis=0)\n",
    "\n",
    "# Drop unnecessary columns\n",
    "keeper_columns = ['GameKey', 'PlayID', 'PlayDescription', 'Poss_Team', 'YardLine']\n",
    "remainder_df = remainder_df[keeper_columns]\n",
    "remainder_df.reset_index(inplace=True, drop=True)\n",
    "print(remainder_df.shape)\n",
    "remainder_df.head()"
   ]
  },
  {
   "cell_type": "markdown",
   "metadata": {},
   "source": [
    "**play-punt_retrn.csv and play-fair_catch.csv** are used in notebook: https://www.kaggle.com/jdemeo/preprocessing-ngs"
   ]
  },
  {
   "cell_type": "code",
   "execution_count": 11,
   "metadata": {},
   "outputs": [],
   "source": [
    "# Create dataset of punt return plays\n",
    "remainder_df.to_csv('data/play-punt_return.csv', index=False)\n",
    "\n",
    "# Create dataset of fair catch plays\n",
    "where_condition = ((condensed_play_df['fair catch'] == 1))\n",
    "fc_df = condensed_play_df[where_condition].reset_index(drop=True)\\\n",
    "\n",
    "# Drop unnecessary columns\n",
    "keeper_columns = ['GameKey', 'PlayID', 'PlayDescription', 'Poss_Team', 'YardLine']\n",
    "fc_df = fc_df[keeper_columns]\n",
    "fc_df.to_csv('data/play-fair_catch.csv', index=False)"
   ]
  },
  {
   "cell_type": "code",
   "execution_count": 12,
   "metadata": {},
   "outputs": [
    {
     "name": "stdout",
     "output_type": "stream",
     "text": [
      "# of penalty on occuring on a punt play: 531\n"
     ]
    }
   ],
   "source": [
    "# Just for reference if you want to filter return plays that have a penalty\n",
    "find_that_play_word('penalty on', remainder_df)"
   ]
  },
  {
   "cell_type": "markdown",
   "metadata": {},
   "source": [
    "So now we have a condensed set of punts that result in some return minus the above filtered 'interesting' plays. We'll now look at this set of plays and extract some information from the 'PlayDescription'"
   ]
  },
  {
   "cell_type": "markdown",
   "metadata": {},
   "source": [
    "### Play Description Parsing of Punt Return Plays\n",
    "- The following work-up/analysis does not adjust for penalties on the play. I know this isn't clean and big returns on punts do have a pretty good chance of a penalty was helping with the success of the return, but I'm only parsing the PlayDescription to get a rough idea of the return amounts and potential value of a return."
   ]
  },
  {
   "cell_type": "code",
   "execution_count": 13,
   "metadata": {},
   "outputs": [],
   "source": [
    "'''\n",
    "Need to parse through PlayDescription in order to get return distance of play and distance to touchdown\n",
    "Patterns that return two distances for yardage on play are lateral plays\n",
    "'''\n",
    "\n",
    "# Regex for them patterns\n",
    "punt_distance_pattern = re.compile(r'punts ((-?)\\d+) yards? to(\\s| \\w+ )((-?)\\d+)')\n",
    "yards_gained_pattern = re.compile(r'for ((-?)\\d+) yard')\n",
    "no_yards_gained_pattern = re.compile(r'([A-Z]\\w+) ((-?)\\d+) (for no gain)')\n",
    "\n",
    "remainder_df['punt distance'] = 0\n",
    "remainder_df['side ball lands'] = ''\n",
    "remainder_df['yardline received'] = 0\n",
    "remainder_df['yardage on play'] = 0\n",
    "\n",
    "for i, element in enumerate(remainder_df['PlayDescription']):\n",
    "\n",
    "    punt_distance = punt_distance_pattern.findall(element) # ('Punt distance', '', 'Side Ball Lands', 'Yardline Received')\n",
    "    yards_gained = yards_gained_pattern.findall(element)   # ('Yardage on Play', '', )\n",
    "    no_gain = no_yards_gained_pattern.findall(element)\n",
    "    \n",
    "#     print(punt_distance)\n",
    "#     print(yards_gained)\n",
    "#     print(no_gain)\n",
    "    \n",
    "    # A play that results in yards gained or lossed\n",
    "    if yards_gained != []:\n",
    "        remainder_df.loc[i, 'punt distance'] = int(punt_distance[0][0])\n",
    "        remainder_df.loc[i, 'side ball lands'] = punt_distance[0][2]\n",
    "        remainder_df.loc[i, 'yardline received'] = int(punt_distance[0][3])\n",
    "        \n",
    "        # A normal return\n",
    "        if len(yards_gained) == 1:\n",
    "            remainder_df.loc[i, 'yardage on play'] = int(yards_gained[0][0])\n",
    "            \n",
    "        # For laterals\n",
    "        else:\n",
    "            remainder_df.loc[i, 'yardage on play'] = int(yards_gained[0][0]) + int(yards_gained[1][0])\n",
    "            \n",
    "    # A play that resulted in no gain in yards\n",
    "    elif no_gain != []:\n",
    "        remainder_df.loc[i, 'punt distance'] = int(punt_distance[0][0])\n",
    "        remainder_df.loc[i, 'side ball lands'] = punt_distance[0][2]\n",
    "        remainder_df.loc[i, 'yardline received'] = int(punt_distance[0][3])\n",
    "\n",
    "#     print('---')"
   ]
  },
  {
   "cell_type": "code",
   "execution_count": 14,
   "metadata": {},
   "outputs": [],
   "source": [
    "# Doing some hand processing of specific returns where the yardage gained on return was\n",
    "# officially changed (I know not elegant, especially if dataframe indices change overtime)\n",
    "culprits = [476, 891, 1062, 1064, 1096, 2193]\n",
    "yard_changes = [14, 6, 0, 3, 0, 4]\n",
    "for i, element in enumerate(culprits):\n",
    "    remainder_df.loc[element, 'yardage on play'] = yard_changes[i]"
   ]
  },
  {
   "cell_type": "markdown",
   "metadata": {},
   "source": [
    "We'll calculate distance to a touchdown for each play to create a reward metric for each play. A more proper metric for the value of a punt return should also take into account the current score, time remaining, playoff implications, and return by the home team or not just to name a few factors. I don't do this just to have a simplified model for reward. "
   ]
  },
  {
   "cell_type": "code",
   "execution_count": 15,
   "metadata": {},
   "outputs": [],
   "source": [
    "def calculate_distance_to_td (data_sample):\n",
    "    '''Calculate distance needed for touchdown for each play'''\n",
    "    # Punts that land on the 50 yard line\n",
    "    if data_sample['yardline received'] == 50:\n",
    "        distance_to_touchdown = 50\n",
    "    \n",
    "    # Punting on punting team's side of field\n",
    "    elif data_sample['Poss_Team'] == data_sample['YardLine'][:len(data_sample['Poss_Team'])]:\n",
    "        # Ball remains on punt team's side of field\n",
    "        if data_sample['side ball lands'] == data_sample['YardLine'][:len(data_sample['Poss_Team'])]:\n",
    "            distance_to_touchdown = data_sample['yardline received']\n",
    "        # Ball is punted to return team's side of field\n",
    "        else:\n",
    "            distance_to_touchdown = (50 - data_sample['yardline received']) + 50\n",
    "            \n",
    "    # Punting on opponents side of field\n",
    "    else:\n",
    "        distance_to_touchdown = (50 - data_sample['yardline received']) + 50\n",
    "    return distance_to_touchdown"
   ]
  },
  {
   "cell_type": "code",
   "execution_count": 16,
   "metadata": {},
   "outputs": [
    {
     "data": {
      "text/html": [
       "<div>\n",
       "<style scoped>\n",
       "    .dataframe tbody tr th:only-of-type {\n",
       "        vertical-align: middle;\n",
       "    }\n",
       "\n",
       "    .dataframe tbody tr th {\n",
       "        vertical-align: top;\n",
       "    }\n",
       "\n",
       "    .dataframe thead th {\n",
       "        text-align: right;\n",
       "    }\n",
       "</style>\n",
       "<table border=\"1\" class=\"dataframe\">\n",
       "  <thead>\n",
       "    <tr style=\"text-align: right;\">\n",
       "      <th></th>\n",
       "      <th>GameKey</th>\n",
       "      <th>PlayID</th>\n",
       "      <th>PlayDescription</th>\n",
       "      <th>Poss_Team</th>\n",
       "      <th>YardLine</th>\n",
       "      <th>penalty on</th>\n",
       "      <th>punt distance</th>\n",
       "      <th>side ball lands</th>\n",
       "      <th>yardline received</th>\n",
       "      <th>yardage on play</th>\n",
       "      <th>reward</th>\n",
       "    </tr>\n",
       "  </thead>\n",
       "  <tbody>\n",
       "    <tr>\n",
       "      <th>0</th>\n",
       "      <td>2</td>\n",
       "      <td>1227</td>\n",
       "      <td>(10:01) C.Jones punts 40 yards to LA 42, Cente...</td>\n",
       "      <td>DAL</td>\n",
       "      <td>DAL 18</td>\n",
       "      <td>0</td>\n",
       "      <td>40</td>\n",
       "      <td>LA</td>\n",
       "      <td>42</td>\n",
       "      <td>25</td>\n",
       "      <td>0.431034</td>\n",
       "    </tr>\n",
       "    <tr>\n",
       "      <th>1</th>\n",
       "      <td>3</td>\n",
       "      <td>455</td>\n",
       "      <td>(6:44) (Punt formation) S.Koch punts 54 yards ...</td>\n",
       "      <td>BLT</td>\n",
       "      <td>BLT 32</td>\n",
       "      <td>0</td>\n",
       "      <td>54</td>\n",
       "      <td>CAR</td>\n",
       "      <td>14</td>\n",
       "      <td>9</td>\n",
       "      <td>0.104651</td>\n",
       "    </tr>\n",
       "    <tr>\n",
       "      <th>2</th>\n",
       "      <td>3</td>\n",
       "      <td>1542</td>\n",
       "      <td>(2:54) (Punt formation) S.Koch punts 45 yards ...</td>\n",
       "      <td>BLT</td>\n",
       "      <td>BLT 34</td>\n",
       "      <td>1</td>\n",
       "      <td>45</td>\n",
       "      <td>CAR</td>\n",
       "      <td>21</td>\n",
       "      <td>-1</td>\n",
       "      <td>-0.012658</td>\n",
       "    </tr>\n",
       "    <tr>\n",
       "      <th>3</th>\n",
       "      <td>4</td>\n",
       "      <td>927</td>\n",
       "      <td>(1:53) A.Lee punts 40 yards to GB 27, Center-C...</td>\n",
       "      <td>CLV</td>\n",
       "      <td>CLV 33</td>\n",
       "      <td>0</td>\n",
       "      <td>40</td>\n",
       "      <td>GB</td>\n",
       "      <td>27</td>\n",
       "      <td>1</td>\n",
       "      <td>0.013699</td>\n",
       "    </tr>\n",
       "    <tr>\n",
       "      <th>4</th>\n",
       "      <td>4</td>\n",
       "      <td>1725</td>\n",
       "      <td>(2:48) A.Lee punts 66 yards to GB 15, Center-C...</td>\n",
       "      <td>CLV</td>\n",
       "      <td>CLV 19</td>\n",
       "      <td>0</td>\n",
       "      <td>66</td>\n",
       "      <td>GB</td>\n",
       "      <td>15</td>\n",
       "      <td>5</td>\n",
       "      <td>0.058824</td>\n",
       "    </tr>\n",
       "  </tbody>\n",
       "</table>\n",
       "</div>"
      ],
      "text/plain": [
       "   GameKey  PlayID                                    PlayDescription  \\\n",
       "0        2    1227  (10:01) C.Jones punts 40 yards to LA 42, Cente...   \n",
       "1        3     455  (6:44) (Punt formation) S.Koch punts 54 yards ...   \n",
       "2        3    1542  (2:54) (Punt formation) S.Koch punts 45 yards ...   \n",
       "3        4     927  (1:53) A.Lee punts 40 yards to GB 27, Center-C...   \n",
       "4        4    1725  (2:48) A.Lee punts 66 yards to GB 15, Center-C...   \n",
       "\n",
       "  Poss_Team YardLine  penalty on  punt distance side ball lands  \\\n",
       "0       DAL   DAL 18           0             40             LA    \n",
       "1       BLT   BLT 32           0             54            CAR    \n",
       "2       BLT   BLT 34           1             45            CAR    \n",
       "3       CLV   CLV 33           0             40             GB    \n",
       "4       CLV   CLV 19           0             66             GB    \n",
       "\n",
       "   yardline received  yardage on play    reward  \n",
       "0                 42               25  0.431034  \n",
       "1                 14                9  0.104651  \n",
       "2                 21               -1 -0.012658  \n",
       "3                 27                1  0.013699  \n",
       "4                 15                5  0.058824  "
      ]
     },
     "execution_count": 16,
     "metadata": {},
     "output_type": "execute_result"
    }
   ],
   "source": [
    "# Calculate the value of a punt return based solely on the proportion of yardage gained on the return\n",
    "# Relative to how many yards are needed to score a touchdown from where the punt initially lands\n",
    "remainder_df['reward'] = 0\n",
    "for i in range(len(remainder_df)):\n",
    "    yards_on_return = remainder_df.loc[i, 'yardage on play']\n",
    "    distance_to_touchdown = calculate_distance_to_td(remainder_df.iloc[i, :])\n",
    "    remainder_df.loc[i, 'reward'] = yards_on_return / distance_to_touchdown\n",
    "#     print('Value of return:', yards_on_return / distance_to_touchdown)\n",
    "\n",
    "remainder_df.head()"
   ]
  },
  {
   "cell_type": "code",
   "execution_count": 17,
   "metadata": {},
   "outputs": [],
   "source": [
    "# Cleanup\n",
    "keepers = ['GameKey', 'PlayID', 'PlayDescription', 'yardage on play', 'reward']\n",
    "remainder_df = remainder_df[keepers]\n",
    "\n",
    "# Create dataset for external usage\n",
    "remainder_df.to_csv('data/play-punt_return-yardage.csv', index=False)"
   ]
  },
  {
   "cell_type": "code",
   "execution_count": 18,
   "metadata": {},
   "outputs": [],
   "source": [
    "remainder_df = pd.read_csv('data/play-punt_return-yardage.csv')"
   ]
  },
  {
   "cell_type": "markdown",
   "metadata": {},
   "source": [
    "**play-punt_return-yardage.csv** used in notebook: https://www.kaggle.com/jdemeo/analysis-punt-returns"
   ]
  },
  {
   "cell_type": "markdown",
   "metadata": {},
   "source": [
    "### PLAY PLAYER ROLE DATA\n",
    "- <b>Play Player Role Data</b>: Play and player level data that specifies a punt specific player role. This dataset will specify each player that played in each play. A player’s role in a play is uniquely defined by the Gamekey PlayID and GSISID."
   ]
  },
  {
   "cell_type": "code",
   "execution_count": 19,
   "metadata": {},
   "outputs": [
    {
     "name": "stdout",
     "output_type": "stream",
     "text": [
      "(146573, 5)\n"
     ]
    },
    {
     "data": {
      "text/html": [
       "<div>\n",
       "<style scoped>\n",
       "    .dataframe tbody tr th:only-of-type {\n",
       "        vertical-align: middle;\n",
       "    }\n",
       "\n",
       "    .dataframe tbody tr th {\n",
       "        vertical-align: top;\n",
       "    }\n",
       "\n",
       "    .dataframe thead th {\n",
       "        text-align: right;\n",
       "    }\n",
       "</style>\n",
       "<table border=\"1\" class=\"dataframe\">\n",
       "  <thead>\n",
       "    <tr style=\"text-align: right;\">\n",
       "      <th></th>\n",
       "      <th>Season_Year</th>\n",
       "      <th>GameKey</th>\n",
       "      <th>PlayID</th>\n",
       "      <th>GSISID</th>\n",
       "      <th>Role</th>\n",
       "    </tr>\n",
       "  </thead>\n",
       "  <tbody>\n",
       "    <tr>\n",
       "      <th>146571</th>\n",
       "      <td>2017</td>\n",
       "      <td>414</td>\n",
       "      <td>3425</td>\n",
       "      <td>33704</td>\n",
       "      <td>PRG</td>\n",
       "    </tr>\n",
       "    <tr>\n",
       "      <th>146572</th>\n",
       "      <td>2017</td>\n",
       "      <td>414</td>\n",
       "      <td>2210</td>\n",
       "      <td>33704</td>\n",
       "      <td>PRG</td>\n",
       "    </tr>\n",
       "  </tbody>\n",
       "</table>\n",
       "</div>"
      ],
      "text/plain": [
       "        Season_Year  GameKey  PlayID  GSISID Role\n",
       "146571         2017      414    3425   33704  PRG\n",
       "146572         2017      414    2210   33704  PRG"
      ]
     },
     "execution_count": 19,
     "metadata": {},
     "output_type": "execute_result"
    }
   ],
   "source": [
    "play_player_role_df = pd.read_csv('data/play_player_role_data.csv')\n",
    "print(play_player_role_df.shape)\n",
    "play_player_role_df.tail(2)"
   ]
  },
  {
   "cell_type": "code",
   "execution_count": 20,
   "metadata": {},
   "outputs": [
    {
     "name": "stdout",
     "output_type": "stream",
     "text": [
      "# of unique plays according to play_player_role dataset: 6670\n",
      "# of roles in dataset: 52\n"
     ]
    }
   ],
   "source": [
    "# How many unique plays in play_player_role dataset?\n",
    "print('# of unique plays according to play_player_role dataset:',\n",
    "      len(play_player_role_df.groupby(['GameKey','PlayID']).size().reset_index().rename(columns={0:'count'})))\n",
    "\n",
    "# How many roles are there?\n",
    "print('# of roles in dataset:', len(play_player_role_df['Role'].value_counts()))"
   ]
  },
  {
   "cell_type": "markdown",
   "metadata": {},
   "source": [
    "- NGS dataset has 6666 punt plays\n",
    "- Play Information dataset has 6681 punt plays\n",
    "- **I wanted to note that there is some missing data between the datasets**"
   ]
  },
  {
   "cell_type": "markdown",
   "metadata": {},
   "source": [
    "# Links to other notebooks:\n",
    "- Concussion play analysis with proposed rule changes: https://www.kaggle.com/jdemeo/analysis-concussions\n",
    "- Analysis of uncalled penalties: https://www.kaggle.com/jdemeo/analysis-uncalled-penalties\n",
    "- Analysis of punt returns: https://www.kaggle.com/jdemeo/analysis-punt-returns\n",
    "- Analysis of fair catches: https://www.kaggle.com/jdemeo/analysis-fair-catches\n",
    "- Preprocessing of NGS data for the above notebooks: https://www.kaggle.com/jdemeo/preprocessing-ngs"
   ]
  },
  {
   "cell_type": "code",
   "execution_count": null,
   "metadata": {},
   "outputs": [],
   "source": []
  }
 ],
 "metadata": {
  "kernelspec": {
   "display_name": "ML",
   "language": "python",
   "name": "ml"
  },
  "language_info": {
   "codemirror_mode": {
    "name": "ipython",
    "version": 3
   },
   "file_extension": ".py",
   "mimetype": "text/x-python",
   "name": "python",
   "nbconvert_exporter": "python",
   "pygments_lexer": "ipython3",
   "version": "3.7.1"
  }
 },
 "nbformat": 4,
 "nbformat_minor": 2
}
