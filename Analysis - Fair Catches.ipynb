{
 "cells": [
  {
   "cell_type": "code",
   "execution_count": 1,
   "metadata": {},
   "outputs": [],
   "source": [
    "import pandas as pd\n",
    "import numpy as np\n",
    "import seaborn as sns\n",
    "import matplotlib.pyplot as plt\n",
    "import matplotlib.patches as mpatches\n",
    "sns.set()"
   ]
  },
  {
   "cell_type": "markdown",
   "metadata": {},
   "source": [
    "- Skip to [Observations and Discussion](#oad)\n",
    "- 'NGS-fair_catch.csv' is obtained from: https://www.kaggle.com/jdemeo/preprocessing-ngs"
   ]
  },
  {
   "cell_type": "code",
   "execution_count": 2,
   "metadata": {},
   "outputs": [
    {
     "data": {
      "text/html": [
       "<div>\n",
       "<style scoped>\n",
       "    .dataframe tbody tr th:only-of-type {\n",
       "        vertical-align: middle;\n",
       "    }\n",
       "\n",
       "    .dataframe tbody tr th {\n",
       "        vertical-align: top;\n",
       "    }\n",
       "\n",
       "    .dataframe thead th {\n",
       "        text-align: right;\n",
       "    }\n",
       "</style>\n",
       "<table border=\"1\" class=\"dataframe\">\n",
       "  <thead>\n",
       "    <tr style=\"text-align: right;\">\n",
       "      <th></th>\n",
       "      <th>GameKey</th>\n",
       "      <th>PlayID</th>\n",
       "      <th>GSISID</th>\n",
       "      <th>Time</th>\n",
       "      <th>x</th>\n",
       "      <th>y</th>\n",
       "      <th>dis</th>\n",
       "      <th>Event</th>\n",
       "      <th>Role</th>\n",
       "      <th>PlayDescription</th>\n",
       "    </tr>\n",
       "  </thead>\n",
       "  <tbody>\n",
       "    <tr>\n",
       "      <th>0</th>\n",
       "      <td>3</td>\n",
       "      <td>1676</td>\n",
       "      <td>30559.0</td>\n",
       "      <td>2016-08-12 00:45:56.500</td>\n",
       "      <td>18.299999</td>\n",
       "      <td>8.37</td>\n",
       "      <td>0.04</td>\n",
       "      <td>NaN</td>\n",
       "      <td>VLi</td>\n",
       "      <td>(1:51) (Punt formation) S.Waters punts 38 yard...</td>\n",
       "    </tr>\n",
       "    <tr>\n",
       "      <th>1</th>\n",
       "      <td>3</td>\n",
       "      <td>1676</td>\n",
       "      <td>30559.0</td>\n",
       "      <td>2016-08-12 00:45:56.600</td>\n",
       "      <td>18.290001</td>\n",
       "      <td>8.33</td>\n",
       "      <td>0.04</td>\n",
       "      <td>NaN</td>\n",
       "      <td>VLi</td>\n",
       "      <td>(1:51) (Punt formation) S.Waters punts 38 yard...</td>\n",
       "    </tr>\n",
       "    <tr>\n",
       "      <th>2</th>\n",
       "      <td>3</td>\n",
       "      <td>1676</td>\n",
       "      <td>30559.0</td>\n",
       "      <td>2016-08-12 00:45:56.700</td>\n",
       "      <td>18.270000</td>\n",
       "      <td>8.29</td>\n",
       "      <td>0.04</td>\n",
       "      <td>NaN</td>\n",
       "      <td>VLi</td>\n",
       "      <td>(1:51) (Punt formation) S.Waters punts 38 yard...</td>\n",
       "    </tr>\n",
       "    <tr>\n",
       "      <th>3</th>\n",
       "      <td>3</td>\n",
       "      <td>1676</td>\n",
       "      <td>30559.0</td>\n",
       "      <td>2016-08-12 00:45:56.800</td>\n",
       "      <td>18.280001</td>\n",
       "      <td>8.21</td>\n",
       "      <td>0.08</td>\n",
       "      <td>NaN</td>\n",
       "      <td>VLi</td>\n",
       "      <td>(1:51) (Punt formation) S.Waters punts 38 yard...</td>\n",
       "    </tr>\n",
       "    <tr>\n",
       "      <th>4</th>\n",
       "      <td>3</td>\n",
       "      <td>1676</td>\n",
       "      <td>30559.0</td>\n",
       "      <td>2016-08-12 00:45:56.900</td>\n",
       "      <td>18.270000</td>\n",
       "      <td>8.17</td>\n",
       "      <td>0.04</td>\n",
       "      <td>NaN</td>\n",
       "      <td>VLi</td>\n",
       "      <td>(1:51) (Punt formation) S.Waters punts 38 yard...</td>\n",
       "    </tr>\n",
       "  </tbody>\n",
       "</table>\n",
       "</div>"
      ],
      "text/plain": [
       "   GameKey  PlayID   GSISID                     Time          x     y   dis  \\\n",
       "0        3    1676  30559.0  2016-08-12 00:45:56.500  18.299999  8.37  0.04   \n",
       "1        3    1676  30559.0  2016-08-12 00:45:56.600  18.290001  8.33  0.04   \n",
       "2        3    1676  30559.0  2016-08-12 00:45:56.700  18.270000  8.29  0.04   \n",
       "3        3    1676  30559.0  2016-08-12 00:45:56.800  18.280001  8.21  0.08   \n",
       "4        3    1676  30559.0  2016-08-12 00:45:56.900  18.270000  8.17  0.04   \n",
       "\n",
       "  Event Role                                    PlayDescription  \n",
       "0   NaN  VLi  (1:51) (Punt formation) S.Waters punts 38 yard...  \n",
       "1   NaN  VLi  (1:51) (Punt formation) S.Waters punts 38 yard...  \n",
       "2   NaN  VLi  (1:51) (Punt formation) S.Waters punts 38 yard...  \n",
       "3   NaN  VLi  (1:51) (Punt formation) S.Waters punts 38 yard...  \n",
       "4   NaN  VLi  (1:51) (Punt formation) S.Waters punts 38 yard...  "
      ]
     },
     "execution_count": 2,
     "metadata": {},
     "output_type": "execute_result"
    }
   ],
   "source": [
    "# Load in NGS data, player role data, and play info\n",
    "ngs_df = pd.read_csv('data/NGS-fair_catch.csv')\n",
    "play_player_role_df = pd.read_csv('data/play_player_role_data.csv')\n",
    "play_df = pd.read_csv('data/play_information.csv')\n",
    "\n",
    "# Merge datasets\n",
    "ngs_df = pd.merge(ngs_df, play_player_role_df,\n",
    "                  how=\"inner\",\n",
    "                  on=['GameKey', 'PlayID', 'GSISID'])\n",
    "\n",
    "ngs_df = pd.merge(ngs_df, play_df,\n",
    "                  how=\"inner\",\n",
    "                  on=['GameKey', 'PlayID'])\n",
    "\n",
    "# Cleanup\n",
    "keepers = ['GameKey', 'PlayID', 'GSISID', 'Time', 'x', 'y', 'dis', 'Event', 'Role', 'PlayDescription']\n",
    "ngs_df = ngs_df[keepers]\n",
    "ngs_df.head()"
   ]
  },
  {
   "cell_type": "code",
   "execution_count": 3,
   "metadata": {},
   "outputs": [
    {
     "data": {
      "text/plain": [
       "(1657, 3)"
      ]
     },
     "execution_count": 3,
     "metadata": {},
     "output_type": "execute_result"
    }
   ],
   "source": [
    "# NGS Unique_ids\n",
    "ngs_ids = ngs_df.groupby(['GameKey','PlayID']).size().reset_index().rename(columns={0:'count'})\n",
    "ngs_ids.shape"
   ]
  },
  {
   "cell_type": "markdown",
   "metadata": {},
   "source": [
    "### Goal: find the proximity of the nearest punt player to the PR when a fair catch is called.\n",
    "- I am interested in this distribution because it will give me an idea at what distance the PR might be deciding to except a fair catch. This helps to understand their decision making and wether a PR restricted zone of 8 yards would have negated a fair catch. \n",
    "- I will use the event 'fair catch' to get the approximate distances from the PR."
   ]
  },
  {
   "cell_type": "code",
   "execution_count": 4,
   "metadata": {},
   "outputs": [
    {
     "data": {
      "text/plain": [
       "'ONLY RUN THE FOLLOWING TWO BLOCKS TO GET AN IDEA OF THE COURSE OF EVENTS FOR A PARTICULAR PLAY'"
      ]
     },
     "execution_count": 4,
     "metadata": {},
     "output_type": "execute_result"
    }
   ],
   "source": [
    "'''ONLY RUN THE FOLLOWING TWO BLOCKS TO GET AN IDEA OF THE COURSE OF EVENTS FOR A PARTICULAR PLAY'''\n",
    "\n",
    "# def isolate_play(df, game_key, play_id):\n",
    "#     '''Create a dataframe of a particular play'''\n",
    "#     where_condition = ((df['GameKey'] == game_key) &\n",
    "#                        (df['PlayID'] == play_id))\n",
    "#     new_df = df[where_condition].copy()\n",
    "#     new_df.sort_values(by=['Time'], inplace=True)\n",
    "#     new_df.reset_index(drop=True, inplace=True)\n",
    "#     return new_df\n",
    "\n",
    "# def course_of_events(df):\n",
    "#     '''Get list of events in order of occurrence for a particular play'''\n",
    "#     events = []\n",
    "#     for i in range(len(df)):\n",
    "#         event = df.loc[i, 'Event']\n",
    "#         if event not in events:\n",
    "#             events.append(event)\n",
    "           \n",
    "#     print('Play Description:', df.loc[0, 'PlayDescription'])\n",
    "#     print('---')\n",
    "#     print('Game Events:', events)\n",
    "#     print('-----------------------------------------------')"
   ]
  },
  {
   "cell_type": "code",
   "execution_count": 5,
   "metadata": {},
   "outputs": [],
   "source": [
    "# # Iterate through ids to get events for each play\n",
    "# for i in range(len(ngs_ids)):\n",
    "#     game_key = ngs_ids.loc[i, 'GameKey']\n",
    "#     play_id = ngs_ids.loc[i, 'PlayID']\n",
    "#     the_play = isolate_play(ngs_df, game_key, play_id)\n",
    "#     course_of_events(the_play)"
   ]
  },
  {
   "cell_type": "markdown",
   "metadata": {},
   "source": [
    "- Looking at the course of events during a play, 'fair_catch' seems like a reasonable place to see proximity of oponnent players"
   ]
  },
  {
   "cell_type": "code",
   "execution_count": 6,
   "metadata": {},
   "outputs": [],
   "source": [
    "def event_df_creation(df, event):\n",
    "    '''Get a new dataframe with data pertinent to a particular event'''\n",
    "    new_df = df[df['Event'] == event].reset_index(drop=True)\n",
    "    unique_ids = new_df.groupby(['GameKey','PlayID']).size().reset_index().rename(columns={0:'count'})\n",
    "    return new_df, unique_ids"
   ]
  },
  {
   "cell_type": "code",
   "execution_count": 7,
   "metadata": {},
   "outputs": [],
   "source": [
    "# Let's indicate what team the player is playing on based off player role\n",
    "return_team_positions = ['PR', 'PDL1', 'PDL2', 'PDL3', 'PDL4', 'PDR1', 'PDR2', 'PDR3', 'PDR4', 'VL', 'VR', \n",
    "                         'PLL', 'PLR', 'VRo', 'VRi', 'VLi', 'VLo', 'PLM', 'PLR1', 'PLR2', 'PLL1', 'PLL2',\n",
    "                         'PFB', 'PDL5', 'PDR5', 'PDL6', 'PLR3', 'PLL3', 'PDR6', 'PLM1', 'PDM']\n",
    "punt_team_positions = ['P', 'PLS', 'PPR', 'PLG', 'PRG', 'PLT', 'PRT', 'PLW', 'PRW', 'GL', 'GR',\n",
    "                       'GRo', 'GRi', 'GLi', 'GLo', 'PC', 'PPRo', 'PPRi', 'PPL', 'PPLi', 'PPLo']\n",
    "\n",
    "def label_team(df):\n",
    "    '''Label each player by the team they play on'''\n",
    "    df['team'] = ''\n",
    "    print('Determining player roles')\n",
    "\n",
    "    for i, role in enumerate(df['Role']):\n",
    "        if role in return_team_positions:\n",
    "            df.loc[i, 'team'] = 'return team'\n",
    "        elif role in punt_team_positions:\n",
    "            df.loc[i, 'team'] = 'punt team'\n",
    "        else:\n",
    "            df.loc[i, 'team'] = 'unknown'"
   ]
  },
  {
   "cell_type": "code",
   "execution_count": 8,
   "metadata": {},
   "outputs": [],
   "source": [
    "def calculate_player_proximity(role_x, role_y, player_x, player_y):\n",
    "    '''Calculate euclidean distance between two players'''\n",
    "    leg_x = (role_x - player_x) ** 2\n",
    "    leg_y = (role_y - player_y) ** 2\n",
    "    hypotenuse = np.sqrt(leg_x + leg_y)\n",
    "    return hypotenuse"
   ]
  },
  {
   "cell_type": "code",
   "execution_count": 9,
   "metadata": {},
   "outputs": [],
   "source": [
    "def calculate_x_proximity(role_x, player_x):\n",
    "    '''Calculate distance of a player to a particular role only by yardline'''\n",
    "    return np.abs(role_x - player_x)"
   ]
  },
  {
   "cell_type": "code",
   "execution_count": 10,
   "metadata": {},
   "outputs": [],
   "source": [
    "def calculate_proximity_for_play(df, unique_ids, role):\n",
    "    '''Calculate proximity of each player to the player of a particular role'''\n",
    "    # Create feature for player proximity\n",
    "    df['proximity_to_' + role + '_circle'] = 0\n",
    "    df['proximity_to_' + role + '_x'] = 0\n",
    "    \n",
    "    print('Calculating player proximities to', role)\n",
    "    \n",
    "    # Go through each data point in particular NGS dataset\n",
    "    for i in range(len(df)):\n",
    "        \n",
    "        # Play Information\n",
    "        game_key = df.loc[i, 'GameKey']\n",
    "        play_id = df.loc[i, 'PlayID']\n",
    "        \n",
    "        # Get one unique set of data points related to a single (GameKey, PlayID) pair\n",
    "        where_condition = ((df['GameKey'] == game_key) &\\\n",
    "                           (df['PlayID'] == play_id))\n",
    "        just_view = df[where_condition].reset_index()\n",
    "        \n",
    "        # Get coordinates of a player with a particular role\n",
    "        if any(just_view['Role'] == role):\n",
    "            role_x = just_view.loc[just_view['Role'] == role, 'x'].values[0]\n",
    "            role_y = just_view.loc[just_view['Role'] == role, 'y'].values[0]\n",
    "            \n",
    "        # Plays that don't actually have the particular role represented\n",
    "        else:\n",
    "            continue\n",
    "\n",
    "        # Current Player coordinates\n",
    "        position_x = df.loc[i, 'x']\n",
    "        position_y = df.loc[i, 'y']\n",
    "\n",
    "        # Calculate proximity\n",
    "        proximity_hypo = calculate_player_proximity(role_x, role_y, position_x, position_y)\n",
    "        proximity_x = calculate_x_proximity(role_x, position_x)\n",
    "        df.loc[i, 'proximity_to_' + role + '_circle'] = proximity_hypo\n",
    "        df.loc[i, 'proximity_to_' + role + '_x'] = proximity_x"
   ]
  },
  {
   "cell_type": "code",
   "execution_count": 11,
   "metadata": {},
   "outputs": [],
   "source": [
    "def calculate_closest_player(df, unique_ids, column):\n",
    "    '''Find who the closest player on the punt team is and create new id set'''\n",
    "    unique_ids[column] = 0\n",
    "    good_indexes = []\n",
    "    role = 'PR'\n",
    "    print('Determining closest player to', role)\n",
    "    \n",
    "    for i in range(len(unique_ids)):\n",
    "        \n",
    "        # Play information\n",
    "        game_key = unique_ids.loc[i, 'GameKey']\n",
    "        play_id = unique_ids.loc[i, 'PlayID']\n",
    "\n",
    "        # Get one unique set of data points related to a single (GameKey, PlayID) pair\n",
    "        where_condition = ((df['GameKey'] == game_key) &\\\n",
    "                           (df['PlayID'] == play_id) &\\\n",
    "                           (df['team'] == 'punt team'))\n",
    "        just_view = df[where_condition].reset_index(drop=True)\n",
    "        \n",
    "        # Take minimum of series and Error handling where the NGS data had no punt team :(\n",
    "        try:\n",
    "            unique_ids.loc[i, column] = min(just_view[column])\n",
    "            good_indexes.append(i)\n",
    "        except ValueError:\n",
    "            continue\n",
    "    \n",
    "    # Create new set of ids\n",
    "    new_ids = unique_ids.loc[good_indexes, :].copy()\n",
    "    new_ids.reset_index(inplace=True, drop=True)\n",
    "    \n",
    "    return new_ids"
   ]
  },
  {
   "cell_type": "markdown",
   "metadata": {},
   "source": [
    "### Goal: Want to look at the closest punt player's proximity when the ball is fair caught\n",
    "- Workflow:\n",
    "    - Get datapoints for a particular plays event\n",
    "    - Label the players by what team they are\n",
    "    - Calculate each players proximity to a particular role\n",
    "    - Find the minimum distance from punt player to PR\n",
    "    - Return those proximities for each play"
   ]
  },
  {
   "cell_type": "code",
   "execution_count": 18,
   "metadata": {},
   "outputs": [
    {
     "name": "stdout",
     "output_type": "stream",
     "text": [
      "Determining player roles\n",
      "Calculating player proximities to PR\n",
      "Determining closest player to PR\n",
      "Determining closest player to PR\n"
     ]
    }
   ],
   "source": [
    "event_df, event_ids = event_df_creation(ngs_df, 'fair_catch')\n",
    "label_team(event_df)\n",
    "calculate_proximity_for_play(event_df, event_ids, 'PR')\n",
    "new_ids = calculate_closest_player(event_df, event_ids, 'proximity_to_PR_circle')\n",
    "new_ids = calculate_closest_player(event_df, new_ids, 'proximity_to_PR_x')\n",
    "new_ids.to_csv('data/FC-proximity.csv', index=False)"
   ]
  },
  {
   "cell_type": "code",
   "execution_count": 13,
   "metadata": {},
   "outputs": [
    {
     "data": {
      "image/png": "[encoded data removed]",
      "text/plain": [
       "<Figure size 432x288 with 1 Axes>"
      ]
     },
     "metadata": {
      "needs_background": "light"
     },
     "output_type": "display_data"
    },
    {
     "data": {
      "text/plain": [
       "count    1637.000000\n",
       "mean        2.723213\n",
       "std         2.640359\n",
       "min         0.000000\n",
       "25%         0.949997\n",
       "50%         2.000000\n",
       "75%         3.560001\n",
       "max        19.650002\n",
       "Name: proximity_to_PR_x, dtype: float64"
      ]
     },
     "execution_count": 13,
     "metadata": {},
     "output_type": "execute_result"
    }
   ],
   "source": [
    "'''Plot of distribution distance of closest punt team player to punt receiver'''\n",
    "bins = [i for i in range(0, 25, 1)]\n",
    "plt.hist(new_ids['proximity_to_PR_x'], bins=bins)\n",
    "\n",
    "plt.title('Distribution of closest player on punt team to punt receiver')\n",
    "plt.xlabel('Yards')\n",
    "plt.ylabel('count')\n",
    "plt.show()\n",
    "\n",
    "new_ids['proximity_to_PR_x'].describe()"
   ]
  },
  {
   "cell_type": "code",
   "execution_count": 14,
   "metadata": {},
   "outputs": [
    {
     "data": {
      "image/png": "[encoded data removed]",
      "text/plain": [
       "<Figure size 432x288 with 1 Axes>"
      ]
     },
     "metadata": {
      "needs_background": "light"
     },
     "output_type": "display_data"
    },
    {
     "data": {
      "text/plain": [
       "count    1637.000000\n",
       "mean        4.037048\n",
       "std         3.045901\n",
       "min         0.000000\n",
       "25%         2.000252\n",
       "50%         3.191694\n",
       "75%         5.040604\n",
       "max        24.298479\n",
       "Name: proximity_to_PR_circle, dtype: float64"
      ]
     },
     "execution_count": 14,
     "metadata": {},
     "output_type": "execute_result"
    }
   ],
   "source": [
    "'''Plot of distribution distance of closest punt team player to punt receiver'''\n",
    "bins = [i for i in range(0, 25, 1)]\n",
    "plt.hist(new_ids['proximity_to_PR_circle'], bins=bins)\n",
    "\n",
    "plt.title('Distribution of closest player on punt team to punt receiver')\n",
    "plt.xlabel('Yards')\n",
    "plt.ylabel('count')\n",
    "plt.show()\n",
    "\n",
    "new_ids['proximity_to_PR_circle'].describe()"
   ]
  },
  {
   "cell_type": "markdown",
   "metadata": {},
   "source": [
    "## <a id=\"oad\">Observations and Discussion</a>\n",
    "- Average of the closest punt team player to the PR yardline distance: 2.72 yards\n",
    "- Average of the closest punt team player to the PR Euclidean distance: 4.04 yards"
   ]
  },
  {
   "cell_type": "code",
   "execution_count": 15,
   "metadata": {},
   "outputs": [
    {
     "name": "stdout",
     "output_type": "stream",
     "text": [
      "Count of fair catches with punt team player greater than 8 yards away by yardline: 86\n",
      "Count of fair catches with punt team player greater than 8 yards away by Euclidean distance: 83\n"
     ]
    }
   ],
   "source": [
    "print('Count of fair catches with punt team player greater than 8 yards away by yardline:',\n",
    "      new_ids[new_ids['proximity_to_PR_x'] > 8].shape[0])\n",
    "print('Count of fair catches with punt team player greater than 8 yards away by Euclidean distance:',\n",
    "      new_ids[new_ids['proximity_to_PR_circle'] > 10].shape[0])"
   ]
  },
  {
   "cell_type": "markdown",
   "metadata": {},
   "source": [
    "- Given a PR restricted zone of 8 yards by yardline and 10 yards by euclidean distance:\n",
    "    - **Yardline distance**: 86 of 1637 -> 5.25% of fair catches\n",
    "    - **Euclidean distance**: 83 of 1637 -> 5.07% of fair catches\n",
    "- **~95% of fair catches** occur when a punt team player is within the above yardline cutoffs\n",
    "    - I'd assume that these fair catches are called in a large part due to proximity of a punt team player so by providing a restricted zone for the PR, a fair catch is far less likely to occur as only about 5% of the time is a fair catch called further out then this proposed restricted zone"
   ]
  },
  {
   "cell_type": "markdown",
   "metadata": {},
   "source": [
    "## Graphic of proximities for fair catch and punt returns\n",
    "- **PR-proximity.csv** can be obtained from: https://www.kaggle.com/jdemeo/analysis-punt-returns\n",
    "- **FC-proximity.csv** is produce in this notebook"
   ]
  },
  {
   "cell_type": "code",
   "execution_count": 19,
   "metadata": {},
   "outputs": [
    {
     "data": {
      "text/html": [
       "<div>\n",
       "<style scoped>\n",
       "    .dataframe tbody tr th:only-of-type {\n",
       "        vertical-align: middle;\n",
       "    }\n",
       "\n",
       "    .dataframe tbody tr th {\n",
       "        vertical-align: top;\n",
       "    }\n",
       "\n",
       "    .dataframe thead th {\n",
       "        text-align: right;\n",
       "    }\n",
       "</style>\n",
       "<table border=\"1\" class=\"dataframe\">\n",
       "  <thead>\n",
       "    <tr style=\"text-align: right;\">\n",
       "      <th></th>\n",
       "      <th>GameKey</th>\n",
       "      <th>PlayID</th>\n",
       "      <th>count</th>\n",
       "      <th>proximity_to_PR_circle</th>\n",
       "      <th>proximity_to_PR_x</th>\n",
       "    </tr>\n",
       "  </thead>\n",
       "  <tbody>\n",
       "    <tr>\n",
       "      <th>0</th>\n",
       "      <td>3</td>\n",
       "      <td>455</td>\n",
       "      <td>22</td>\n",
       "      <td>7.248727</td>\n",
       "      <td>7.120003</td>\n",
       "    </tr>\n",
       "    <tr>\n",
       "      <th>1</th>\n",
       "      <td>3</td>\n",
       "      <td>1542</td>\n",
       "      <td>21</td>\n",
       "      <td>1.998125</td>\n",
       "      <td>0.730001</td>\n",
       "    </tr>\n",
       "    <tr>\n",
       "      <th>2</th>\n",
       "      <td>4</td>\n",
       "      <td>927</td>\n",
       "      <td>22</td>\n",
       "      <td>5.117831</td>\n",
       "      <td>4.889999</td>\n",
       "    </tr>\n",
       "    <tr>\n",
       "      <th>3</th>\n",
       "      <td>4</td>\n",
       "      <td>1725</td>\n",
       "      <td>20</td>\n",
       "      <td>16.594451</td>\n",
       "      <td>15.660004</td>\n",
       "    </tr>\n",
       "    <tr>\n",
       "      <th>4</th>\n",
       "      <td>4</td>\n",
       "      <td>2888</td>\n",
       "      <td>22</td>\n",
       "      <td>13.772817</td>\n",
       "      <td>12.639999</td>\n",
       "    </tr>\n",
       "  </tbody>\n",
       "</table>\n",
       "</div>"
      ],
      "text/plain": [
       "   GameKey  PlayID  count  proximity_to_PR_circle  proximity_to_PR_x\n",
       "0        3     455     22                7.248727           7.120003\n",
       "1        3    1542     21                1.998125           0.730001\n",
       "2        4     927     22                5.117831           4.889999\n",
       "3        4    1725     20               16.594451          15.660004\n",
       "4        4    2888     22               13.772817          12.639999"
      ]
     },
     "execution_count": 19,
     "metadata": {},
     "output_type": "execute_result"
    }
   ],
   "source": [
    "pr_proximity = pd.read_csv('data/PR-proximity.csv')\n",
    "pr_proximity.head()"
   ]
  },
  {
   "cell_type": "code",
   "execution_count": 20,
   "metadata": {},
   "outputs": [
    {
     "data": {
      "text/html": [
       "<div>\n",
       "<style scoped>\n",
       "    .dataframe tbody tr th:only-of-type {\n",
       "        vertical-align: middle;\n",
       "    }\n",
       "\n",
       "    .dataframe tbody tr th {\n",
       "        vertical-align: top;\n",
       "    }\n",
       "\n",
       "    .dataframe thead th {\n",
       "        text-align: right;\n",
       "    }\n",
       "</style>\n",
       "<table border=\"1\" class=\"dataframe\">\n",
       "  <thead>\n",
       "    <tr style=\"text-align: right;\">\n",
       "      <th></th>\n",
       "      <th>GameKey</th>\n",
       "      <th>PlayID</th>\n",
       "      <th>count</th>\n",
       "      <th>proximity_to_PR_circle</th>\n",
       "      <th>proximity_to_PR_x</th>\n",
       "    </tr>\n",
       "  </thead>\n",
       "  <tbody>\n",
       "    <tr>\n",
       "      <th>0</th>\n",
       "      <td>3</td>\n",
       "      <td>1676</td>\n",
       "      <td>22</td>\n",
       "      <td>0.894932</td>\n",
       "      <td>0.220001</td>\n",
       "    </tr>\n",
       "    <tr>\n",
       "      <th>1</th>\n",
       "      <td>4</td>\n",
       "      <td>291</td>\n",
       "      <td>21</td>\n",
       "      <td>4.669017</td>\n",
       "      <td>1.090004</td>\n",
       "    </tr>\n",
       "    <tr>\n",
       "      <th>2</th>\n",
       "      <td>4</td>\n",
       "      <td>1056</td>\n",
       "      <td>22</td>\n",
       "      <td>1.961250</td>\n",
       "      <td>0.070000</td>\n",
       "    </tr>\n",
       "    <tr>\n",
       "      <th>3</th>\n",
       "      <td>4</td>\n",
       "      <td>1618</td>\n",
       "      <td>22</td>\n",
       "      <td>2.199659</td>\n",
       "      <td>0.360001</td>\n",
       "    </tr>\n",
       "    <tr>\n",
       "      <th>4</th>\n",
       "      <td>5</td>\n",
       "      <td>3521</td>\n",
       "      <td>22</td>\n",
       "      <td>2.015465</td>\n",
       "      <td>0.869995</td>\n",
       "    </tr>\n",
       "  </tbody>\n",
       "</table>\n",
       "</div>"
      ],
      "text/plain": [
       "   GameKey  PlayID  count  proximity_to_PR_circle  proximity_to_PR_x\n",
       "0        3    1676     22                0.894932           0.220001\n",
       "1        4     291     21                4.669017           1.090004\n",
       "2        4    1056     22                1.961250           0.070000\n",
       "3        4    1618     22                2.199659           0.360001\n",
       "4        5    3521     22                2.015465           0.869995"
      ]
     },
     "execution_count": 20,
     "metadata": {},
     "output_type": "execute_result"
    }
   ],
   "source": [
    "fc_proximity = pd.read_csv('data/FC-proximity.csv')\n",
    "fc_proximity.head()"
   ]
  },
  {
   "cell_type": "code",
   "execution_count": 22,
   "metadata": {},
   "outputs": [
    {
     "data": {
      "image/png": "[encoded data removed]",
      "text/plain": [
       "<Figure size 720x432 with 1 Axes>"
      ]
     },
     "metadata": {
      "needs_background": "light"
     },
     "output_type": "display_data"
    }
   ],
   "source": [
    "plt.figure(figsize=(10, 6))\n",
    "sns.distplot(pr_proximity['proximity_to_PR_x'], kde=False)\n",
    "sns.distplot(fc_proximity['proximity_to_PR_x'], kde=False)\n",
    "plt.axvline(8, color='black', linestyle='dashed', linewidth=1)\n",
    "\n",
    "plt.xlim(0, 40)\n",
    "plt.legend(['8 Yards', 'Fair Catches', 'Punt Returns'], fontsize=12)\n",
    "plt.title('Distribution of closest punt team player to punt receiver', fontsize=16)\n",
    "plt.xlabel('Yards', fontsize=14)\n",
    "plt.ylabel('Count', fontsize=14)\n",
    "plt.savefig('figures/fc_pr_distributions.png', bbox_inches='tight')\n",
    "plt.show()"
   ]
  },
  {
   "cell_type": "markdown",
   "metadata": {},
   "source": [
    "# Links to other notebooks:\n",
    "- Concussion play analysis with proposed rule changes: https://www.kaggle.com/jdemeo/analysis-concussions\n",
    "- Analysis of uncalled penalties: https://www.kaggle.com/jdemeo/analysis-uncalled-penalties\n",
    "- Analysis of punt returns: https://www.kaggle.com/jdemeo/analysis-punt-returns\n",
    "- Preprocessing of Play Information: https://www.kaggle.com/jdemeo/preprocessing-punt-play\n",
    "- Preprocessing of NGS data for the above notebooks: https://www.kaggle.com/jdemeo/preprocessing-ngs"
   ]
  },
  {
   "cell_type": "code",
   "execution_count": null,
   "metadata": {},
   "outputs": [],
   "source": []
  }
 ],
 "metadata": {
  "kernelspec": {
   "display_name": "ML",
   "language": "python",
   "name": "ml"
  },
  "language_info": {
   "codemirror_mode": {
    "name": "ipython",
    "version": 3
   },
   "file_extension": ".py",
   "mimetype": "text/x-python",
   "name": "python",
   "nbconvert_exporter": "python",
   "pygments_lexer": "ipython3",
   "version": "3.7.1"
  }
 },
 "nbformat": 4,
 "nbformat_minor": 2
}
