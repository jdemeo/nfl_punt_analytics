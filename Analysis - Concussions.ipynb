{
 "cells": [
  {
   "cell_type": "markdown",
   "metadata": {},
   "source": [
    "## Objective:\n",
    "<b>My aim throughout this process has been to look at what is common to plays involving concussions in the NGS data and what you can perceive in the videos (empirical approach). From that analysis I choose to propose rule changes that would likely affect the outcome of the punt plays by negating the possibility of certain events or to have rules that would hopefully create a behavioral change in how players partake in the punt play. I lead with my proposed rules and attempt to walk you through why I am proposing these rules.</b>"
   ]
  },
  {
   "cell_type": "markdown",
   "metadata": {},
   "source": [
    "### Proposed rule changes include:\n",
    "1. **Allowance of video review of plays where an injury occurs and to allow for subsequent calls of penalties directly related to the injury to be called. If injury isn't apparent immediately and a penalty is thus an unsuitable deterant, a fine may be incurred on the perpetrater of the penalty after a confirmation later by video review (potential overlap with Rule 17 Section 2 Article 3).**\n",
    "2. **Expanding the defenseless player status to punt team players who are within 5 yards of the PR and are running towards their own endzone (this would be similar to the afforded protection to the punter, Rule 12 Section 2 Article 7-a-8)**\n",
    "3. **Restricted zone of 8 yards (by yardline) for the punt receiver during play.**\n",
    "    - Return and punt team players may not be within 8 yards of the PR (by yardline distance) during a punt play unless the PR has signaled for a fair catch, the ball has been caught/muffed by the PR, or the ball has hit the ground.\n",
    "    - **Penalty**: 10 yards from the PR and the play is called dead when infraction occurs.\n",
    "    - The fair catch rule could also be removed similar to CFL punt return rules to increase the number of returns, but I believe the number instances where a fair catch would be called is going to be severely reduced because of the restricted zone for the punt returner anyway."
   ]
  },
  {
   "cell_type": "markdown",
   "metadata": {},
   "source": [
    "Table of contents:\n",
    "- [Analysis and Discussion](#aad)\n",
    "- [Concussion Play and Video Analysis](#cpava)\n",
    "- [Observations of concussion dataset](#oocd)\n",
    "- [Observations of concussion film](#oocf)\n",
    "- [Concussions before the punt](#cbtp)\n",
    "- [Observations of conussions after the punt](#oocatp)\n",
    "- [Behavioral Deterrent Rule Changes](#bdrc)\n",
    "- [Structural Changes to the Punt Return](#scttpr)\n",
    "- [PR Restricted Zone Analysis](#PR)\n",
    "- [Overall Rule Coverage of Concussion Related Plays](#coverage)\n",
    "- [Links to Other Notebooks](#lton)"
   ]
  },
  {
   "cell_type": "markdown",
   "metadata": {},
   "source": [
    "## <a id='aad'>Analysis and Discussion</a>\n",
    "My entire process for deriving the above rules comes from viewing the concussion related plays, noting features of those plays I found are distinctive and are directly or indirectly related to the concussion causing event, and understanding the impact of the hypothetical rule change. As we all have seen, the number of concussion events is extremely low (37) and any feature given to us or otherwise derived will likely be used to overfit in any sense to what is contributing to a concussion. **I will also admit I did not particularly focus on ways to reduce the number of punt returns inorder to reduce the number of concussions because punts are already pretty 'uninteresting' at 55.4% of punt plays** resulting in a fair catch, touchback, dead ball, downed ball, no punt, or a kick out of bounds and I was motivated to find ways to potentially increase the number of punt returns while reducing features involved with concussion events. Hopefully the following notebook cells give you an idea of how I came to my conclusions. I also apologize that my analysis spreads out to multiple notebooks, but it made it easier on the memory for the kernels especially with the NGS data."
   ]
  },
  {
   "cell_type": "markdown",
   "metadata": {},
   "source": [
    "Just for context I have provided some statistics that were derived in this notebook (https://www.kaggle.com/jdemeo/preprocessing-punt-play) and I may reference occasionally throughout my analysis:\n",
    "- 3701 of 6681 punt plays are 'uninteresting' (55.4%)\n",
    "- 2627 of 6681 punt plays result in a punt return (39.3%)\n",
    "- 353 of 6681 punt plays result in an 'interesting' play other than a punt return (5.3%)\n",
    "    - Muffs, blocked kicks, fumbles, fake punts, etc.\n",
    "- 37 of 6681 punt plays result in a concussion (0.55%)"
   ]
  },
  {
   "cell_type": "markdown",
   "metadata": {},
   "source": [
    "### <a id=\"cpava\">Concussion Play and Video Analysis</a>"
   ]
  },
  {
   "cell_type": "code",
   "execution_count": 29,
   "metadata": {},
   "outputs": [],
   "source": [
    "import pandas as pd\n",
    "import numpy as np\n",
    "import seaborn as sns\n",
    "import matplotlib.pyplot as plt\n",
    "import matplotlib.patches as mpatches\n",
    "from IPython.display import Image, display\n",
    "sns.set()"
   ]
  },
  {
   "cell_type": "code",
   "execution_count": 2,
   "metadata": {},
   "outputs": [
    {
     "name": "stdout",
     "output_type": "stream",
     "text": [
      "(37, 10)\n"
     ]
    },
    {
     "data": {
      "text/html": [
       "<div>\n",
       "<style scoped>\n",
       "    .dataframe tbody tr th:only-of-type {\n",
       "        vertical-align: middle;\n",
       "    }\n",
       "\n",
       "    .dataframe tbody tr th {\n",
       "        vertical-align: top;\n",
       "    }\n",
       "\n",
       "    .dataframe thead th {\n",
       "        text-align: right;\n",
       "    }\n",
       "</style>\n",
       "<table border=\"1\" class=\"dataframe\">\n",
       "  <thead>\n",
       "    <tr style=\"text-align: right;\">\n",
       "      <th></th>\n",
       "      <th>Season_Year</th>\n",
       "      <th>GameKey</th>\n",
       "      <th>PlayID</th>\n",
       "      <th>GSISID</th>\n",
       "      <th>Player_Activity_Derived</th>\n",
       "      <th>Turnover_Related</th>\n",
       "      <th>Primary_Impact_Type</th>\n",
       "      <th>Primary_Partner_GSISID</th>\n",
       "      <th>Primary_Partner_Activity_Derived</th>\n",
       "      <th>Friendly_Fire</th>\n",
       "    </tr>\n",
       "  </thead>\n",
       "  <tbody>\n",
       "    <tr>\n",
       "      <th>0</th>\n",
       "      <td>2016</td>\n",
       "      <td>5</td>\n",
       "      <td>3129</td>\n",
       "      <td>31057</td>\n",
       "      <td>Tackling</td>\n",
       "      <td>No</td>\n",
       "      <td>Helmet-to-body</td>\n",
       "      <td>32482</td>\n",
       "      <td>Tackled</td>\n",
       "      <td>No</td>\n",
       "    </tr>\n",
       "  </tbody>\n",
       "</table>\n",
       "</div>"
      ],
      "text/plain": [
       "   Season_Year  GameKey  PlayID  GSISID Player_Activity_Derived  \\\n",
       "0         2016        5    3129   31057                Tackling   \n",
       "\n",
       "  Turnover_Related Primary_Impact_Type Primary_Partner_GSISID  \\\n",
       "0               No      Helmet-to-body                  32482   \n",
       "\n",
       "  Primary_Partner_Activity_Derived Friendly_Fire  \n",
       "0                          Tackled            No  "
      ]
     },
     "execution_count": 2,
     "metadata": {},
     "output_type": "execute_result"
    }
   ],
   "source": [
    "# Load in concussion data deduced from video review of the play\n",
    "video_review_df = pd.read_csv('data/video_review.csv')\n",
    "print(video_review_df.shape)\n",
    "video_review_df.head(1)"
   ]
  },
  {
   "cell_type": "code",
   "execution_count": 3,
   "metadata": {},
   "outputs": [
    {
     "data": {
      "text/html": [
       "<div>\n",
       "<style scoped>\n",
       "    .dataframe tbody tr th:only-of-type {\n",
       "        vertical-align: middle;\n",
       "    }\n",
       "\n",
       "    .dataframe tbody tr th {\n",
       "        vertical-align: top;\n",
       "    }\n",
       "\n",
       "    .dataframe thead th {\n",
       "        text-align: right;\n",
       "    }\n",
       "</style>\n",
       "<table border=\"1\" class=\"dataframe\">\n",
       "  <thead>\n",
       "    <tr style=\"text-align: right;\">\n",
       "      <th></th>\n",
       "      <th>GSISID</th>\n",
       "      <th>Number</th>\n",
       "      <th>Position</th>\n",
       "      <th>GameKey</th>\n",
       "      <th>PlayID</th>\n",
       "      <th>Role</th>\n",
       "    </tr>\n",
       "  </thead>\n",
       "  <tbody>\n",
       "    <tr>\n",
       "      <th>0</th>\n",
       "      <td>32069</td>\n",
       "      <td>36</td>\n",
       "      <td>SS</td>\n",
       "      <td>23</td>\n",
       "      <td>2255</td>\n",
       "      <td>PPL</td>\n",
       "    </tr>\n",
       "    <tr>\n",
       "      <th>1</th>\n",
       "      <td>32069</td>\n",
       "      <td>36</td>\n",
       "      <td>SS</td>\n",
       "      <td>23</td>\n",
       "      <td>884</td>\n",
       "      <td>PRW</td>\n",
       "    </tr>\n",
       "    <tr>\n",
       "      <th>2</th>\n",
       "      <td>32069</td>\n",
       "      <td>36</td>\n",
       "      <td>SS</td>\n",
       "      <td>23</td>\n",
       "      <td>1157</td>\n",
       "      <td>PRW</td>\n",
       "    </tr>\n",
       "    <tr>\n",
       "      <th>3</th>\n",
       "      <td>32069</td>\n",
       "      <td>36</td>\n",
       "      <td>SS</td>\n",
       "      <td>23</td>\n",
       "      <td>848</td>\n",
       "      <td>PRW</td>\n",
       "    </tr>\n",
       "    <tr>\n",
       "      <th>4</th>\n",
       "      <td>32069</td>\n",
       "      <td>36</td>\n",
       "      <td>SS</td>\n",
       "      <td>23</td>\n",
       "      <td>3065</td>\n",
       "      <td>PPL</td>\n",
       "    </tr>\n",
       "  </tbody>\n",
       "</table>\n",
       "</div>"
      ],
      "text/plain": [
       "   GSISID Number Position  GameKey  PlayID Role\n",
       "0   32069     36       SS       23    2255  PPL\n",
       "1   32069     36       SS       23     884  PRW\n",
       "2   32069     36       SS       23    1157  PRW\n",
       "3   32069     36       SS       23     848  PRW\n",
       "4   32069     36       SS       23    3065  PPL"
      ]
     },
     "execution_count": 3,
     "metadata": {},
     "output_type": "execute_result"
    }
   ],
   "source": [
    "# Load in player related data\n",
    "player_df = pd.read_csv('data/player_punt_data.csv')\n",
    "play_player_role_df = pd.read_csv('data/play_player_role_data.csv')\n",
    "\n",
    "# Combine Relevant Player Information, Position, Role, Number\n",
    "master_player_df = pd.merge(player_df, play_player_role_df,\n",
    "                          how='inner',\n",
    "                          on=['GSISID']).drop(columns=['Season_Year'])\n",
    "master_player_df.head()"
   ]
  },
  {
   "cell_type": "code",
   "execution_count": 4,
   "metadata": {},
   "outputs": [
    {
     "name": "stdout",
     "output_type": "stream",
     "text": [
      "Tackling    13\n",
      "Blocked     10\n",
      "Blocking     8\n",
      "Tackled      6\n",
      "Name: Player_Activity_Derived, dtype: int64\n",
      "---\n",
      "No    37\n",
      "Name: Turnover_Related, dtype: int64\n",
      "---\n",
      "Helmet-to-body      17\n",
      "Helmet-to-helmet    17\n",
      "Helmet-to-ground     2\n",
      "Unclear              1\n",
      "Name: Primary_Impact_Type, dtype: int64\n",
      "---\n",
      "Blocked     10\n",
      "Tackling    10\n",
      "Tackled      8\n",
      "Blocking     6\n",
      "Unclear      1\n",
      "Name: Primary_Partner_Activity_Derived, dtype: int64\n",
      "---\n",
      "No         28\n",
      "Yes         6\n",
      "Unclear     1\n",
      "Name: Friendly_Fire, dtype: int64\n"
     ]
    },
    {
     "data": {
      "text/html": [
       "<div>\n",
       "<style scoped>\n",
       "    .dataframe tbody tr th:only-of-type {\n",
       "        vertical-align: middle;\n",
       "    }\n",
       "\n",
       "    .dataframe tbody tr th {\n",
       "        vertical-align: top;\n",
       "    }\n",
       "\n",
       "    .dataframe thead th {\n",
       "        text-align: right;\n",
       "    }\n",
       "</style>\n",
       "<table border=\"1\" class=\"dataframe\">\n",
       "  <thead>\n",
       "    <tr style=\"text-align: right;\">\n",
       "      <th></th>\n",
       "      <th>Season_Year</th>\n",
       "      <th>GameKey</th>\n",
       "      <th>PlayID</th>\n",
       "      <th>GSISID</th>\n",
       "      <th>Player_Activity_Derived</th>\n",
       "      <th>Turnover_Related</th>\n",
       "      <th>Primary_Impact_Type</th>\n",
       "      <th>Primary_Partner_GSISID</th>\n",
       "      <th>Primary_Partner_Activity_Derived</th>\n",
       "      <th>Friendly_Fire</th>\n",
       "    </tr>\n",
       "  </thead>\n",
       "  <tbody>\n",
       "    <tr>\n",
       "      <th>9</th>\n",
       "      <td>2016</td>\n",
       "      <td>218</td>\n",
       "      <td>3468</td>\n",
       "      <td>28987</td>\n",
       "      <td>Blocked</td>\n",
       "      <td>No</td>\n",
       "      <td>Helmet-to-ground</td>\n",
       "      <td>NaN</td>\n",
       "      <td>NaN</td>\n",
       "      <td>NaN</td>\n",
       "    </tr>\n",
       "    <tr>\n",
       "      <th>26</th>\n",
       "      <td>2017</td>\n",
       "      <td>414</td>\n",
       "      <td>1262</td>\n",
       "      <td>33941</td>\n",
       "      <td>Tackling</td>\n",
       "      <td>No</td>\n",
       "      <td>Helmet-to-ground</td>\n",
       "      <td>NaN</td>\n",
       "      <td>NaN</td>\n",
       "      <td>NaN</td>\n",
       "    </tr>\n",
       "    <tr>\n",
       "      <th>29</th>\n",
       "      <td>2017</td>\n",
       "      <td>506</td>\n",
       "      <td>1988</td>\n",
       "      <td>27060</td>\n",
       "      <td>Tackled</td>\n",
       "      <td>No</td>\n",
       "      <td>Helmet-to-helmet</td>\n",
       "      <td>NaN</td>\n",
       "      <td>Tackling</td>\n",
       "      <td>No</td>\n",
       "    </tr>\n",
       "    <tr>\n",
       "      <th>33</th>\n",
       "      <td>2017</td>\n",
       "      <td>585</td>\n",
       "      <td>733</td>\n",
       "      <td>30384</td>\n",
       "      <td>Blocked</td>\n",
       "      <td>No</td>\n",
       "      <td>Unclear</td>\n",
       "      <td>Unclear</td>\n",
       "      <td>Unclear</td>\n",
       "      <td>Unclear</td>\n",
       "    </tr>\n",
       "  </tbody>\n",
       "</table>\n",
       "</div>"
      ],
      "text/plain": [
       "    Season_Year  GameKey  PlayID  GSISID Player_Activity_Derived  \\\n",
       "9          2016      218    3468   28987                 Blocked   \n",
       "26         2017      414    1262   33941                Tackling   \n",
       "29         2017      506    1988   27060                 Tackled   \n",
       "33         2017      585     733   30384                 Blocked   \n",
       "\n",
       "   Turnover_Related Primary_Impact_Type Primary_Partner_GSISID  \\\n",
       "9                No    Helmet-to-ground                    NaN   \n",
       "26               No    Helmet-to-ground                    NaN   \n",
       "29               No    Helmet-to-helmet                    NaN   \n",
       "33               No             Unclear                Unclear   \n",
       "\n",
       "   Primary_Partner_Activity_Derived Friendly_Fire  \n",
       "9                               NaN           NaN  \n",
       "26                              NaN           NaN  \n",
       "29                         Tackling            No  \n",
       "33                          Unclear       Unclear  "
      ]
     },
     "execution_count": 4,
     "metadata": {},
     "output_type": "execute_result"
    }
   ],
   "source": [
    "# Check summary counts to see if any are needed\n",
    "print(video_review_df['Player_Activity_Derived'].value_counts())\n",
    "print('---')\n",
    "print(video_review_df['Turnover_Related'].value_counts())\n",
    "print('---')\n",
    "print(video_review_df['Primary_Impact_Type'].value_counts())\n",
    "print('---')\n",
    "print(video_review_df['Primary_Partner_Activity_Derived'].value_counts())\n",
    "print('---')\n",
    "print(video_review_df['Friendly_Fire'].value_counts())\n",
    "\n",
    "where_condition = ((video_review_df['Primary_Partner_GSISID'] == 'Unclear') |\n",
    "                   (video_review_df['Primary_Partner_GSISID'].isna()))\n",
    "video_review_df[where_condition]"
   ]
  },
  {
   "cell_type": "markdown",
   "metadata": {},
   "source": [
    "### <a id=\"oocd\">Observations of concussion dataset</a>\n",
    "- So we know things involve tackling and blocking (you need contact of some sort to have a concussion)\n",
    "- We see no plays resulted in a turnover.\n",
    "- We can see the majority of concussions are related to a helmet hitting some other mass minus the one 'unclear' instance\n",
    "- Majority of concussions are not a result of friendly fire\n",
    "- There are 4 plays that have no designated primary_partner: two were helmet-to-ground, 1 was unclear, and 1 was helmet to helmet (H2H).\n",
    "    - If you review those two latter videos, the 'unclear' designation was a clear helmet to the back of the head of #44 by Houston Player #55/56 (not sure of number; could probably verify with GSISID from NGS data for the play) and for the H2H you can see Dolphins #34 make a diving head tackle on Baltimore #21.\n",
    "        - This information you can deduce by looking at the play video"
   ]
  },
  {
   "cell_type": "code",
   "execution_count": 5,
   "metadata": {},
   "outputs": [],
   "source": [
    "# Now that we have a descriptive idea of what's going on, I'm gonna just drop these columns\n",
    "# and also clear up the unclear designation and convert it to NaN\n",
    "droppers = ['Player_Activity_Derived', 'Turnover_Related', 'Primary_Partner_Activity_Derived', \n",
    "            'Friendly_Fire', 'Season_Year']\n",
    "video_review_df.drop(columns=droppers, inplace=True)\n",
    "\n",
    "# Remove 'Unclear' designation\n",
    "video_review_df.loc[33, 'Primary_Partner_GSISID'] = 'NaN'"
   ]
  },
  {
   "cell_type": "markdown",
   "metadata": {},
   "source": [
    "#### VIDEO FOOTAGE"
   ]
  },
  {
   "cell_type": "code",
   "execution_count": 6,
   "metadata": {},
   "outputs": [
    {
     "name": "stdout",
     "output_type": "stream",
     "text": [
      "(37, 10)\n"
     ]
    },
    {
     "data": {
      "text/html": [
       "<div>\n",
       "<style scoped>\n",
       "    .dataframe tbody tr th:only-of-type {\n",
       "        vertical-align: middle;\n",
       "    }\n",
       "\n",
       "    .dataframe tbody tr th {\n",
       "        vertical-align: top;\n",
       "    }\n",
       "\n",
       "    .dataframe thead th {\n",
       "        text-align: right;\n",
       "    }\n",
       "</style>\n",
       "<table border=\"1\" class=\"dataframe\">\n",
       "  <thead>\n",
       "    <tr style=\"text-align: right;\">\n",
       "      <th></th>\n",
       "      <th>season</th>\n",
       "      <th>Type</th>\n",
       "      <th>Week</th>\n",
       "      <th>Home_team</th>\n",
       "      <th>Visit_Team</th>\n",
       "      <th>Qtr</th>\n",
       "      <th>PlayDescription</th>\n",
       "      <th>gamekey</th>\n",
       "      <th>playid</th>\n",
       "      <th>PREVIEW LINK (5000K)</th>\n",
       "    </tr>\n",
       "  </thead>\n",
       "  <tbody>\n",
       "    <tr>\n",
       "      <th>0</th>\n",
       "      <td>2016</td>\n",
       "      <td>Pre</td>\n",
       "      <td>2</td>\n",
       "      <td>Chicago Bears</td>\n",
       "      <td>Denver Broncos</td>\n",
       "      <td>3</td>\n",
       "      <td>(3:44) (Punt formation) P.O'Donnell punts 58 y...</td>\n",
       "      <td>5</td>\n",
       "      <td>3129</td>\n",
       "      <td>http://a.video.nfl.com//films/vodzilla/153233/...</td>\n",
       "    </tr>\n",
       "  </tbody>\n",
       "</table>\n",
       "</div>"
      ],
      "text/plain": [
       "   season Type  Week      Home_team      Visit_Team  Qtr  \\\n",
       "0    2016  Pre     2  Chicago Bears  Denver Broncos    3   \n",
       "\n",
       "                                     PlayDescription  gamekey  playid  \\\n",
       "0  (3:44) (Punt formation) P.O'Donnell punts 58 y...        5    3129   \n",
       "\n",
       "                                PREVIEW LINK (5000K)  \n",
       "0  http://a.video.nfl.com//films/vodzilla/153233/...  "
      ]
     },
     "execution_count": 6,
     "metadata": {},
     "output_type": "execute_result"
    }
   ],
   "source": [
    "'''Concussion Video Footage'''\n",
    "video_footage_injury_df = pd.read_csv('data/video_footage-injury.csv')\n",
    "print(video_footage_injury_df.shape)\n",
    "video_footage_injury_df.head(1)"
   ]
  },
  {
   "cell_type": "code",
   "execution_count": 7,
   "metadata": {},
   "outputs": [
    {
     "data": {
      "text/html": [
       "<div>\n",
       "<style scoped>\n",
       "    .dataframe tbody tr th:only-of-type {\n",
       "        vertical-align: middle;\n",
       "    }\n",
       "\n",
       "    .dataframe tbody tr th {\n",
       "        vertical-align: top;\n",
       "    }\n",
       "\n",
       "    .dataframe thead th {\n",
       "        text-align: right;\n",
       "    }\n",
       "</style>\n",
       "<table border=\"1\" class=\"dataframe\">\n",
       "  <thead>\n",
       "    <tr style=\"text-align: right;\">\n",
       "      <th></th>\n",
       "      <th>GameKey</th>\n",
       "      <th>PlayID</th>\n",
       "      <th>GSISID</th>\n",
       "      <th>Primary_Impact_Type</th>\n",
       "      <th>Primary_Partner_GSISID</th>\n",
       "      <th>PlayDescription</th>\n",
       "      <th>PREVIEW LINK (5000K)</th>\n",
       "    </tr>\n",
       "  </thead>\n",
       "  <tbody>\n",
       "    <tr>\n",
       "      <th>0</th>\n",
       "      <td>5</td>\n",
       "      <td>3129</td>\n",
       "      <td>31057</td>\n",
       "      <td>Helmet-to-body</td>\n",
       "      <td>32482</td>\n",
       "      <td>(3:44) (Punt formation) P.O'Donnell punts 58 y...</td>\n",
       "      <td>http://a.video.nfl.com//films/vodzilla/153233/...</td>\n",
       "    </tr>\n",
       "  </tbody>\n",
       "</table>\n",
       "</div>"
      ],
      "text/plain": [
       "   GameKey  PlayID  GSISID Primary_Impact_Type Primary_Partner_GSISID  \\\n",
       "0        5    3129   31057      Helmet-to-body                  32482   \n",
       "\n",
       "                                     PlayDescription  \\\n",
       "0  (3:44) (Punt formation) P.O'Donnell punts 58 y...   \n",
       "\n",
       "                                PREVIEW LINK (5000K)  \n",
       "0  http://a.video.nfl.com//films/vodzilla/153233/...  "
      ]
     },
     "execution_count": 7,
     "metadata": {},
     "output_type": "execute_result"
    }
   ],
   "source": [
    "# Preprocess to allow for easier joins\n",
    "rename_columns = {'gamekey': 'GameKey', 'playid': 'PlayID', 'season': 'Season_Year'}\n",
    "video_footage_injury_df.rename(columns=rename_columns, inplace=True)\n",
    "\n",
    "# Combine Video Review and Video Injury DataFrames to have the injured player and partner player data\n",
    "injury_play = pd.merge(video_review_df, video_footage_injury_df, \n",
    "                       how='inner', \n",
    "                       on=['GameKey', 'PlayID'])\n",
    "\n",
    "# Lets Drop Some More Data I consider uncritical for getting a feel for the data\n",
    "droppers = ['Season_Year', 'Type', 'Week', 'Home_team', 'Visit_Team', 'Qtr']\n",
    "injury_play.drop(columns=droppers, inplace=True)\n",
    "\n",
    "injury_play.head(1)"
   ]
  },
  {
   "cell_type": "code",
   "execution_count": 8,
   "metadata": {},
   "outputs": [
    {
     "name": "stdout",
     "output_type": "stream",
     "text": [
      "Shape: (58, 10)\n"
     ]
    },
    {
     "data": {
      "text/html": [
       "<div>\n",
       "<style scoped>\n",
       "    .dataframe tbody tr th:only-of-type {\n",
       "        vertical-align: middle;\n",
       "    }\n",
       "\n",
       "    .dataframe tbody tr th {\n",
       "        vertical-align: top;\n",
       "    }\n",
       "\n",
       "    .dataframe thead th {\n",
       "        text-align: right;\n",
       "    }\n",
       "</style>\n",
       "<table border=\"1\" class=\"dataframe\">\n",
       "  <thead>\n",
       "    <tr style=\"text-align: right;\">\n",
       "      <th></th>\n",
       "      <th>GameKey</th>\n",
       "      <th>PlayID</th>\n",
       "      <th>GSISID</th>\n",
       "      <th>Primary_Impact_Type</th>\n",
       "      <th>Primary_Partner_GSISID</th>\n",
       "      <th>PlayDescription</th>\n",
       "      <th>PREVIEW LINK (5000K)</th>\n",
       "      <th>Number</th>\n",
       "      <th>Position</th>\n",
       "      <th>Role</th>\n",
       "    </tr>\n",
       "  </thead>\n",
       "  <tbody>\n",
       "    <tr>\n",
       "      <th>0</th>\n",
       "      <td>5</td>\n",
       "      <td>3129</td>\n",
       "      <td>31057</td>\n",
       "      <td>Helmet-to-body</td>\n",
       "      <td>32482</td>\n",
       "      <td>(3:44) (Punt formation) P.O'Donnell punts 58 y...</td>\n",
       "      <td>http://a.video.nfl.com//films/vodzilla/153233/...</td>\n",
       "      <td>25</td>\n",
       "      <td>RB</td>\n",
       "      <td>PLW</td>\n",
       "    </tr>\n",
       "  </tbody>\n",
       "</table>\n",
       "</div>"
      ],
      "text/plain": [
       "   GameKey  PlayID  GSISID Primary_Impact_Type Primary_Partner_GSISID  \\\n",
       "0        5    3129   31057      Helmet-to-body                  32482   \n",
       "\n",
       "                                     PlayDescription  \\\n",
       "0  (3:44) (Punt formation) P.O'Donnell punts 58 y...   \n",
       "\n",
       "                                PREVIEW LINK (5000K) Number Position Role  \n",
       "0  http://a.video.nfl.com//films/vodzilla/153233/...     25       RB  PLW  "
      ]
     },
     "execution_count": 8,
     "metadata": {},
     "output_type": "execute_result"
    }
   ],
   "source": [
    "# Join Info (their jersey number, position, role) on the concussed player\n",
    "injury_play = pd.merge(injury_play, master_player_df,\n",
    "                           how='inner',\n",
    "                           on=['GSISID', 'GameKey', 'PlayID'])\n",
    "\n",
    "print('Shape:', injury_play.shape)\n",
    "injury_play.head(1)"
   ]
  },
  {
   "cell_type": "markdown",
   "metadata": {},
   "source": [
    "I get the concussed player's information to identify their jersey number in the video. With potentially multiple jersey numbers associated with a player, this was needed information to focus on what events led up to the concussion. I watched the film and cross referenced plays where it was unclear as to the players number with game recaps (googled) to identify the concussed players number."
   ]
  },
  {
   "cell_type": "code",
   "execution_count": 9,
   "metadata": {},
   "outputs": [
    {
     "data": {
      "text/plain": [
       "(37, 10)"
      ]
     },
     "execution_count": 9,
     "metadata": {},
     "output_type": "execute_result"
    }
   ],
   "source": [
    "# Drop Certain Rows After Identifying Concussed Players Jersey Number from video\n",
    "drop_rows = [1, 7, 17, 20, 23, 26, 27, 28, 29, 32, 33, 36, 38, 39, 45, 46, 47, 50, 52, 55, 57]\n",
    "injury_play.drop(labels=drop_rows, inplace=True)\n",
    "injury_play.reset_index(drop=True, inplace=True)\n",
    "\n",
    "# Convert Primary_Partner_GSISID from str to float\n",
    "injury_play['Primary_Partner_GSISID'] = injury_play['Primary_Partner_GSISID'].astype('float')\n",
    "injury_play.shape"
   ]
  },
  {
   "cell_type": "markdown",
   "metadata": {},
   "source": [
    "So from this point I view the films and begin noting features I found important for my analysis or that I thought were indirecty/directly related to a concussion event.\n",
    "\n",
    "### <a id=\"oocf\">Observations of concussion film</a>\n",
    "- Many concussions look to be very bang-bang in nature, that is a **play progresses quickly from one impact to another**\n",
    "- I noticed that many players who were concussed were in situations where they had **little to no time to anticipate or brace for a particular impact**\n",
    "- I also noticed that the result of some concussions were aided by some **illegal action** (blindside block/tackle on defenseless player, illegal block above the waist, low block) that was not flagged for a particular play \n",
    "    - **It's also very notable that every one of these uncalled penalties was executed by the return team**\n",
    "    - This is all from my un-expert opinion and I will be labeling some plays based on illegal actions in subsequent analysis\n",
    "- The new (2018) **use-of-helmet rule** would apply to many of the plays in this dataset so I also label these cases\n",
    "    - https://operations.nfl.com/the-rules/2018-rules-changes-and-points-of-emphasis/\n",
    "    - https://operations.nfl.com/the-rules/nfl-video-rulebook/use-of-the-helmet/\n",
    "- The vast majority of concussions are occuring after the ball is punted and after the ball is received"
   ]
  },
  {
   "cell_type": "markdown",
   "metadata": {},
   "source": [
    "After viewing the the concussion films multiple times, I hand labeled and categorized the films based on specific film attributes from my observations above."
   ]
  },
  {
   "cell_type": "code",
   "execution_count": 10,
   "metadata": {},
   "outputs": [],
   "source": [
    "# 0 = No, 1 = Yes, 2 = inconclusive\n",
    "# When concussions are occuring\n",
    "after_ball_punted = [1,1,1,1,1,0,1,1,1,1,1,1,1,0,0,1,1,1,1,1,1,1,1,1,1,1,1,1,1,1,1,1,1,1,1,0,1]\n",
    "after_punt_received = [1,0,1,1,1,0,1,1,1,0,1,1,1,0,0,1,1,1,1,1,1,1,1,1,1,1,1,1,1,1,1,1,1,1,1,0,1]\n",
    "fake = [0,0,0,0,0,0,0,0,0,0,0,0,0,1,0,0,0,0,0,0,0,0,0,0,0,0,0,0,0,0,0,0,0,0,0,0,0]\n",
    "\n",
    "# My un-expert labeling for uncalled penalties and where the new use-of-helmet rule would apply\n",
    "uncalled_penalty = [2,0,2,0,1,0,0,1,0,1,1,0,0,0,0,0,1,2,0,0,1,1,2,1,0,0,0,1,0,0,0,0,0,0,0,0,0]\n",
    "helmet_rule = [1,1,1,1,0,0,0,0,1,0,1,1,1,0,0,1,2,0,1,1,1,0,1,0,0,0,0,0,0,1,1,1,1,1,0,1,0]"
   ]
  },
  {
   "cell_type": "code",
   "execution_count": 11,
   "metadata": {},
   "outputs": [],
   "source": [
    "# Add one hot encodings\n",
    "injury_play['after_ball_punted'] = after_ball_punted\n",
    "injury_play['after_punt_received'] = after_punt_received\n",
    "injury_play['fake'] = fake\n",
    "injury_play['uncalled_penalty'] = uncalled_penalty\n",
    "injury_play['helmet_rule'] = helmet_rule\n",
    "injury_play.to_csv('data/injury_play.csv', index=False)"
   ]
  },
  {
   "cell_type": "markdown",
   "metadata": {},
   "source": [
    "Created **'injury_play.csv'** to be used in notebook: https://www.kaggle.com/jdemeo/analysis-uncalled-penalties"
   ]
  },
  {
   "cell_type": "markdown",
   "metadata": {},
   "source": [
    "---\n",
    "### <a id=\"cbtp\">Concussions before the punt</a>\n",
    "I wanted to add explicitly that I do not address the concussions **(4 of 37)**  that were at the line of scrimmage or of the fake pyend beyond my statements below:\n",
    "- **(60, 905)**: The bull rush results in H2H contact, where the punt team PRW leads with his helmet, the new **use-of-helmet rule** may apply in this scenario.\n",
    "- **(274, 3609)**: The fake punt doesn't seem preventable and was an unfortunate circumstance\n",
    "- **(280, 2918)**: The punt team PLW is either slipping and hits his helmet into knee of return team player or is executing an illegal low block. I think he is more slipping than anything and is an unfortunate circumstance.\n",
    "- **(607, 978)**: Return team player has slight lead with his helmet onto the punt teams PLW's helmet. I wouldn't say the use-of-helmet applies because the return team player leads with his hands. Again this is an unfortunate circumstance and I don't think is preventable.\n",
    "- **As a suggestion, it should be emphasized to players in the tackle box to make better use of leading with their hands on punt plays**\n",
    "    - Just an aside, It would be interesting to see how often players are banging heads on such plays relative to normal offensive plays.\n",
    "---"
   ]
  },
  {
   "cell_type": "code",
   "execution_count": 12,
   "metadata": {},
   "outputs": [
    {
     "name": "stdout",
     "output_type": "stream",
     "text": [
      "1    31\n",
      "0     2\n",
      "Name: after_punt_received, dtype: int64\n",
      "---\n",
      "0    20\n",
      "1     9\n",
      "2     4\n",
      "Name: uncalled_penalty, dtype: int64\n",
      "---\n",
      "1    18\n",
      "0    14\n",
      "2     1\n",
      "Name: helmet_rule, dtype: int64\n",
      "---\n"
     ]
    }
   ],
   "source": [
    "columns_of_interest = ['after_punt_received', 'uncalled_penalty', 'helmet_rule']\n",
    "for column in columns_of_interest:\n",
    "    print(injury_play[injury_play['after_ball_punted'] == 1][column].value_counts())\n",
    "    print('---')"
   ]
  },
  {
   "cell_type": "markdown",
   "metadata": {},
   "source": [
    "### <a id=\"oocatp\">Observations of concussions after the punt:</a>\n",
    "All future analysis focuses on concussions that occured after the punt **(33 of 37)**\n",
    "- Notable features\n",
    "    - Only **2** of these punt plays had a concussion occur before the punt was received\n",
    "    - There were **9 uncalled penalties, all of which were executed by the return team** that resulted in a players concussion\n",
    "        - **4 plays** were inconclusive because the video does not show enough of the play to come to a conclusion\n",
    "    - There were **18** punts where the new **use-of-helmet rule** would likely apply\n",
    " \n",
    "### <a id=\"bdrc\">Behavioral Deterrent rule changes</a>\n",
    "Of these features, one area I focused attention was on the **uncalled penalties** that directly resulted in a players concussion. It is important to reduce unnecessary and illegal behavior that may be directly related to a concussion event or any injury related play. Any prevention of concussions will have to be behavioral (change to how a player plays) or a restructuring of a particular play (touchback rules, allowable distances between players, etc.). The below two proposed rules aim to be deterrants for unnecessary behavior. I reference my notebook here (https://www.kaggle.com/jdemeo/analysis-uncalled-penalties) for my reasoning of the below two rules as well as a short discussion of their potential impact to the game:\n",
    "1. **Allowance of video review of plays where an injury occurs and to allow for subsequent calls of penalties directly related to the injury to be called. If injury isn't apparent immediately and a penalty is thus an unsuitable deterant, a fine may be incurred on the perpetrater of the penalty after a confirmation later by video review (potential overlap with Rule 17 Section 2 Article 3).**\n",
    "2. **Expanding the defenseless player status to punt team players who are within 5 yards of the PR and are running towards their own endzone (this would be similar to the afforded protection to the punter, Rule 12 Section 2 Article 7-a-8)**\n",
    "---"
   ]
  },
  {
   "cell_type": "markdown",
   "metadata": {},
   "source": [
    "### <a id=\"scttpr\">Structural Change to the Punt Return</a>\n",
    "In a previous notebook (https://www.kaggle.com/jdemeo/nfl-concussion-video-analysis) I looked at the speed of the concussed player and the primary partner involved in the concussion, to get a better idea of the speeds at which concussions occurred. Players were at times reaching speeds faster than the average speeds of the top 40-yard dash runners. Also a number of the concussions were occurring very close the PR. From the gist of that, I wanted to consider ways to reduce the speeds at which players could potentially be playing at in hopes that could reduce high speed collisions as well as allow for more time for a players decision making and anticipation of how a play will unfold especially for the punt receiver. \n",
    "\n",
    "As for a fun hypothetical I considered the Canadian Football Leagues rules for punt returns. In the CFL, essentially a PR is given a 5 yard buffer (as long as the punt is still in the air) against any opponent player to allow for receiving the punt or else a \"no yards\" penalty of 5 or 15 yards is given depending on the circumstance and there is no option for a fair catch (example of penalty: https://www.cfl.ca/2018/06/20/football-operations-video-series-week-1-no-yards-interference/). As, I looked at more film of this type of penalty and looked deeper into how such a rule would hypothetically affect concussion related punts, punt returns, and fair catches over the 2016 and 2017 NFL seasons, it became more reasonable to me to make a proposal. The proposed rule change:\n",
    "\n",
    "3. **Restricted zone of 8 yards (yardline distance) for PR during play.**\n",
    "    - Return and punt team players may not be within 8 yards of the PR (by yardline distance) during a punt play unless the PR has signaled for a fair catch, the ball has been caught/muffed by the PR, or the ball has hit the ground.\n",
    "    - **Penalty**: 10 yards from the PR and the play is called dead when infraction occurs.\n",
    "    - The fair catch rule could also be removed similar to CFL punt return rules to increase the number of returns, but I believe the number instances where a fair catch would be called is going to be severely reduced because of the restricted zone for the punt returner anyway.\n",
    "    \n",
    "<img src=\"https://i.imgur.com/NfkRtPP.png\"/>"
   ]
  },
  {
   "cell_type": "markdown",
   "metadata": {},
   "source": [
    "Now how did I come to this reasoning? I particularly look at the proximity of the **closest punt team player to the PR at the time of a particular event** (most often when the punt is received; varies with regards to the concussion data). Looking at this attribute for concussion plays, fair catches, and returned punts gives me a framework for considering the affect of a restricted zone. Essentially I am looking to see well, if this restricted zone existed, how many concussion related plays would have been affected by this rule and possibly have negated the concussion. Let's say we want to cover half of those concussions in hopes to prevent them by this restructuring of the punt play. Well given that restricted zone distance how many punt returns would have been negated? What was the average yardage gained for punt returns that would be negated? Is the penalty then more favorable then that yardage gained? What's the average yardage gained for returns that are not affected by this penalty? Does the penalty balance the risk reward for the punt team and return team? Would fair catches still be called?\n",
    "\n",
    "I know alot of questions, but this was my thought process and my notebooks are a bit spread out so I wanted to present these questions and answer them directly below. You can go through my notebooks to see additional reasoning for an 8 yard restricted zone for the PR, but hopefully I can sufficiently distill my analysis and conclusions here.\n",
    "\n",
    "Quick notes: \n",
    "- **yardline distance** is the distance between two players by the yardline they are at (ex: player_1 is at 10 yardline, player_2 is at 15 yardline, yardline_distance = 5)\n",
    "- **Euclidean distance** is the shortest path distance between the two players\n",
    "- **All proximities are that of the closest punt team player to the punt receiver at time of catch**\n",
    "- **Reward** is a proportional metric defined as: number of yards gained on the return / total yards needed for touchdown\n",
    "    - This was calculated to have a standardized value for the value of a return\n",
    "---"
   ]
  },
  {
   "cell_type": "markdown",
   "metadata": {},
   "source": [
    "### <a id='PR'>PR Restricted Zone Analysis</a>\n",
    "So that you don't have to get to the end of this notebook, I am gonna tell you that on average **concussions are occurring on plays where the closest punt team player is within 8.1 yards in the x-direction from the PR or 9.7 yards in euclidean distance from the PR at the time the ball has landed after the punt** ([skip to histogram](#concussion_proximity)). So if we run with the hypothetical and want to cover half of the concussion plays we'd need a restricted zone of 8 yards by yardline distance and 10 yards by Euclidean distance to cover 17 of 33 concussions.\n",
    "\n",
    "Given this restricted zone distance how many punt returns would have been negated? What was the average yardage gained for punt returns that would be negated? Is the penalty then more favorable then that yardage gained? \n",
    "\n",
    "Analysis of punt returns: https://www.kaggle.com/jdemeo/analysis-punt-returns\n",
    "\n",
    "- Summary\n",
    "    - **2604** punt returns were analyzed\n",
    "    - **Average proximity by yardline distance: 9.17 yards**\n",
    "    - **Average proximity by Euclidean distance: 11.04 yards**\n",
    "    - Hypothetical Restricted Zones:\n",
    "        - Given that the closest punt team player is less than or equal to 8 yards (yardline distance) from PR at time of catch:\n",
    "            - Count: **1216**\n",
    "            - **Average yards gained by PR on play: 8.01 yards**\n",
    "            - **Average reward by PR on play: 0.11**\n",
    "        - Given all punt team players are greater than 8 yards (yardline distance) from PR at time of catch:\n",
    "            - Count: **1388**\n",
    "            - **Average yards gained by PR on play: 11.71 yards**\n",
    "            - **Average reward by PR on play: 0.15**\n",
    "        - So we are looking at an average difference of 3.70 yards between the two distributions.\n",
    "        - Given that the closest punt team player is less than or equal to 10 yards (Euclidean distance) from PR at time of catch:\n",
    "            - Count: **1205**\n",
    "            - **Average yards gained by PR on play: 7.91 yards**\n",
    "            - **Average reward by PR on play: 0.11**\n",
    "        - Given all punt team players are greater than 8 yards (Euclidean distance) from PR at time of catch:\n",
    "            - Count: **1399**\n",
    "            - **Average yards gained by PR on play: 11.76 yards**\n",
    "            - **Average reward by PR on play: 0.16**\n",
    "        - So we are looking at an average difference of 3.85 yards between the two distributions.\n",
    "        - I present two hypothetical restricted zone distances to only show that they are nearly equivalent. It's just much easier to know 8 yards by yardline distance then 10 yards by Euclidean distance because of the fields painted yardline markers.\n",
    "    - **So intuitively the further the closest punt team player is from the PR at the time of the catch, the higher the mean return distance and 'reward' value for return.**"
   ]
  },
  {
   "cell_type": "markdown",
   "metadata": {},
   "source": [
    "Now why a restricted zone distance of 10 yards (Euclidean) or 8 yards (yardline)? Well if you plot the difference between means of each pair of distributions given a restricted zone distance you reach a minimum around 8-10 yards by Euclidean distance. This esssentially says that a restricted zone of greater size than this does not change the difference of average yards gained between the distributions. So by choosing a restricted zone of this size, we are able to affect or hopefully prevent at least half of the concussion events (as those plays would end up being called dead by penalty or the play would slow down from the restricted zone) and the restricted zone is at about the size where the difference in returns from plays where the penalty would be called and not be called would no longer benefit from a larger restricted zone with respect to yards gained on return .\n",
    "\n",
    "<img src=\"https://i.imgur.com/rBITQx3.png\"/>\n",
    "    \n",
    "    \n",
    "Now we make the assumption well what happens if we implemented this rule, what affect does it have on the data thats given for the two seasons. This can give us an idea of gains and losses to the game we would have. \n",
    "\n",
    "---"
   ]
  },
  {
   "cell_type": "markdown",
   "metadata": {},
   "source": [
    "Players who are given essentially a buffer of at least 8 yards (yardline) at time of catch are gaining on average **3.7 more yards** than folk who have at least one punt team player in this buffer zone. But under the proposed rule, we'd be **flagging/negating 1216 punt returns**. Man the punt got real boring... But the return team would be gaining on average **2.0 more yards on those particular events** (10 yard penalty - 8.01 yard return average) so I guess that's exciting depending what team you're rooting for. How are we going to make up losing this many plays? Well let's look at the fair catch. \n",
    "- **You could also just stop here if you wanted to reduce the number of punt returns to prevent concussions on the punt. Although, this 1216 flagged number would decrease significantly as players would learn to not incur this penalty at the assumed 100% frequency.**\n",
    "\n",
    "Analysis of fair catches: https://www.kaggle.com/jdemeo/analysis-fair-catches\n",
    "- Don't forget: All proximities are that of the closest punt team player to the punt receiver at time of catch\n",
    "- Summary:\n",
    "    - **1637** fair catches were analyzed\n",
    "    - Average proximity by yardline distance: 2.72 yards\n",
    "    - Average proximity by Euclidean distance: 4.04 yards\n",
    "    - **~5% or ~85 of all fair catches** occur when all punt team players are greater than 8 yards by yardline distance and 10 yards by Euclidean distance from the PR\n",
    "    - Graphic of punt return and fair catch proximity distributions by yardline distance:\n",
    "    \n",
    "<img src=\"https://i.imgur.com/0Q40fz9.png\"/>\n",
    "    \n",
    "So now the next question is well if this restricted zone existed, how many fair catches would have been actually called? Given that **5% of all fair catches (~85 of 1637) were called outside of the proposed restricted zone** distance, I would suspect that the other 95% would be more likely to try a punt return. Let's just say that **95% chooses a punt return** instead just to stay in line with the the above punt return assumptions and negations. We now have **1552 more punt returns** and still would have 85 fair catches given the proposed rule.\n",
    "\n",
    "Now we are looking at an increase of **336 more punt returns** (1552 - 1216), which brings the **count of interesting plays to 3316 total (49.6% of plays)**. I believe this is also on the conservative end since we assume punt team players do not change their behavior at all and will incur the restricted zone penalty in the case of punt returns. We were also generous with how many PRs would actually attempt the punt return instead of still taking the fair catch, which would lower the estimated increase in number of punt returns. \n",
    "\n",
    "So the game got a bit more interesting and we've **eliminated features of 17 of 33 concussions** that occur after the punt. [If you click on this, you'll jump down to my summary of counts of coverage between the NFL's use-of-helmet rule, uncalled penalty rules, and PR restricted zone rule](#coverage). Essentially those 3 **rules would affect 29 of 33 concussion related plays** by being deterrants to certain actions or eliminating features entirely that are associated with these plays. Thanks for taking the time if you got this far along. I'll have a far more condensed rendition in my summary/presentation slides. **Remember safety first, then teamwork** Cheers! \n",
    "\n",
    "<img src=\"https://i.imgur.com/U1z4GGZ.png\"/>\n",
    "\n",
    "---"
   ]
  },
  {
   "cell_type": "markdown",
   "metadata": {},
   "source": [
    "The rest of the notebook goes over analysis of the concussion plays with use of the NGS dataset.\n",
    "\n",
    "### CONCUSSION PLAY ANALYSIS\n",
    "- <b>Next Gen Stats</b>: player level data that describes the movement of each player during a play. NGS data is processed by BIOCORE to produce relevant speed and direction data. The NGS data is identified using GameKey, PlayID, and GSISID. Player data for each play is provided as a function of time (Time) for the duration of the play.\n",
    "- Players are recorded at every <b>10th of a second or 100 milliseconds</b>\n",
    "- Field dimensions: 120 yards by 53.3 yards\n",
    "- Speed can be calculated with Time and dis\n",
    "- <b>Event</b> records essentially game states ('line_set', 'punt', 'punt_received', etc.)\n",
    "- **NGS-concussion.csv** can be obtained from : https://www.kaggle.com/jdemeo/preprocessing-ngs"
   ]
  },
  {
   "cell_type": "code",
   "execution_count": 14,
   "metadata": {},
   "outputs": [
    {
     "name": "stdout",
     "output_type": "stream",
     "text": [
      "Number of unique plays in NGS dataset: 37\n"
     ]
    },
    {
     "data": {
      "text/html": [
       "<div>\n",
       "<style scoped>\n",
       "    .dataframe tbody tr th:only-of-type {\n",
       "        vertical-align: middle;\n",
       "    }\n",
       "\n",
       "    .dataframe tbody tr th {\n",
       "        vertical-align: top;\n",
       "    }\n",
       "\n",
       "    .dataframe thead th {\n",
       "        text-align: right;\n",
       "    }\n",
       "</style>\n",
       "<table border=\"1\" class=\"dataframe\">\n",
       "  <thead>\n",
       "    <tr style=\"text-align: right;\">\n",
       "      <th></th>\n",
       "      <th>GameKey</th>\n",
       "      <th>PlayID</th>\n",
       "      <th>GSISID</th>\n",
       "      <th>Time</th>\n",
       "      <th>x</th>\n",
       "      <th>y</th>\n",
       "      <th>dis</th>\n",
       "      <th>Event</th>\n",
       "      <th>Role</th>\n",
       "      <th>PlayDescription</th>\n",
       "    </tr>\n",
       "  </thead>\n",
       "  <tbody>\n",
       "    <tr>\n",
       "      <th>0</th>\n",
       "      <td>5</td>\n",
       "      <td>3129</td>\n",
       "      <td>31130.0</td>\n",
       "      <td>2016-08-12 02:07:26.300</td>\n",
       "      <td>80.540001</td>\n",
       "      <td>25.969999</td>\n",
       "      <td>0.06</td>\n",
       "      <td>NaN</td>\n",
       "      <td>PLG</td>\n",
       "      <td>(3:44) (Punt formation) P.O'Donnell punts 58 y...</td>\n",
       "    </tr>\n",
       "    <tr>\n",
       "      <th>1</th>\n",
       "      <td>5</td>\n",
       "      <td>3129</td>\n",
       "      <td>31130.0</td>\n",
       "      <td>2016-08-12 02:07:26.400</td>\n",
       "      <td>80.559998</td>\n",
       "      <td>25.920000</td>\n",
       "      <td>0.05</td>\n",
       "      <td>NaN</td>\n",
       "      <td>PLG</td>\n",
       "      <td>(3:44) (Punt formation) P.O'Donnell punts 58 y...</td>\n",
       "    </tr>\n",
       "    <tr>\n",
       "      <th>2</th>\n",
       "      <td>5</td>\n",
       "      <td>3129</td>\n",
       "      <td>31130.0</td>\n",
       "      <td>2016-08-12 02:07:26.500</td>\n",
       "      <td>80.580002</td>\n",
       "      <td>25.879999</td>\n",
       "      <td>0.04</td>\n",
       "      <td>NaN</td>\n",
       "      <td>PLG</td>\n",
       "      <td>(3:44) (Punt formation) P.O'Donnell punts 58 y...</td>\n",
       "    </tr>\n",
       "    <tr>\n",
       "      <th>3</th>\n",
       "      <td>5</td>\n",
       "      <td>3129</td>\n",
       "      <td>31130.0</td>\n",
       "      <td>2016-08-12 02:07:26.600</td>\n",
       "      <td>80.589996</td>\n",
       "      <td>25.850000</td>\n",
       "      <td>0.03</td>\n",
       "      <td>NaN</td>\n",
       "      <td>PLG</td>\n",
       "      <td>(3:44) (Punt formation) P.O'Donnell punts 58 y...</td>\n",
       "    </tr>\n",
       "    <tr>\n",
       "      <th>4</th>\n",
       "      <td>5</td>\n",
       "      <td>3129</td>\n",
       "      <td>31130.0</td>\n",
       "      <td>2016-08-12 02:07:26.700</td>\n",
       "      <td>80.580002</td>\n",
       "      <td>25.840000</td>\n",
       "      <td>0.01</td>\n",
       "      <td>NaN</td>\n",
       "      <td>PLG</td>\n",
       "      <td>(3:44) (Punt formation) P.O'Donnell punts 58 y...</td>\n",
       "    </tr>\n",
       "  </tbody>\n",
       "</table>\n",
       "</div>"
      ],
      "text/plain": [
       "   GameKey  PlayID   GSISID                     Time          x          y  \\\n",
       "0        5    3129  31130.0  2016-08-12 02:07:26.300  80.540001  25.969999   \n",
       "1        5    3129  31130.0  2016-08-12 02:07:26.400  80.559998  25.920000   \n",
       "2        5    3129  31130.0  2016-08-12 02:07:26.500  80.580002  25.879999   \n",
       "3        5    3129  31130.0  2016-08-12 02:07:26.600  80.589996  25.850000   \n",
       "4        5    3129  31130.0  2016-08-12 02:07:26.700  80.580002  25.840000   \n",
       "\n",
       "    dis Event Role                                    PlayDescription  \n",
       "0  0.06   NaN  PLG  (3:44) (Punt formation) P.O'Donnell punts 58 y...  \n",
       "1  0.05   NaN  PLG  (3:44) (Punt formation) P.O'Donnell punts 58 y...  \n",
       "2  0.04   NaN  PLG  (3:44) (Punt formation) P.O'Donnell punts 58 y...  \n",
       "3  0.03   NaN  PLG  (3:44) (Punt formation) P.O'Donnell punts 58 y...  \n",
       "4  0.01   NaN  PLG  (3:44) (Punt formation) P.O'Donnell punts 58 y...  "
      ]
     },
     "execution_count": 14,
     "metadata": {},
     "output_type": "execute_result"
    }
   ],
   "source": [
    "# Load in NGS data, player role data, and play info\n",
    "ngs_concussion = pd.read_csv('data/NGS-concussion.csv')\n",
    "play_player_role_df = pd.read_csv('data/play_player_role_data.csv')\n",
    "play_df = pd.read_csv('data/play_information.csv')\n",
    "\n",
    "# Merge datasets\n",
    "ngs_concussion = pd.merge(ngs_concussion, play_player_role_df,\n",
    "                  how=\"inner\",\n",
    "                  on=['GameKey', 'PlayID', 'GSISID'])\n",
    "\n",
    "ngs_concussion = pd.merge(ngs_concussion, play_df,\n",
    "                  how=\"inner\",\n",
    "                  on=['GameKey', 'PlayID'])\n",
    "\n",
    "# Cleanup\n",
    "keepers = ['GameKey', 'PlayID', 'GSISID', 'Time', 'x', 'y', 'dis', 'Event', 'Role', 'PlayDescription']\n",
    "ngs_concussion = ngs_concussion[keepers]\n",
    "ngs_ids = ngs_concussion.groupby(['GameKey','PlayID']).size().reset_index().rename(columns={0:'count'})\n",
    "print('Number of unique plays in NGS dataset:', ngs_ids.shape[0])\n",
    "ngs_concussion.head()"
   ]
  },
  {
   "cell_type": "code",
   "execution_count": 15,
   "metadata": {},
   "outputs": [],
   "source": [
    "# Filter for after_punt concussions\n",
    "where_condition = (injury_play['after_ball_punted'] == 1)\n",
    "after_punt_df = injury_play[where_condition]\n",
    "after_punt_df.reset_index(inplace=True, drop=True)\n",
    "after_punt_ids = after_punt_df.groupby(['GameKey','PlayID']).size().reset_index().rename(columns={0:'count'})\n",
    "\n",
    "# Get appropriate NGS data\n",
    "ngs_after_punt = pd.merge(ngs_concussion, after_punt_ids,\n",
    "                          how='inner',\n",
    "                          on=['GameKey', 'PlayID'])"
   ]
  },
  {
   "cell_type": "markdown",
   "metadata": {},
   "source": [
    "### Calculating Proximity to PR upon Catch"
   ]
  },
  {
   "cell_type": "code",
   "execution_count": 16,
   "metadata": {},
   "outputs": [
    {
     "data": {
      "text/plain": [
       "'ONLY RUN THE FOLLOWING TWO BLOCKS TO GET AN IDEA OF THE COURSE OF EVENTS FOR A PARTICULAR PLAY'"
      ]
     },
     "execution_count": 16,
     "metadata": {},
     "output_type": "execute_result"
    }
   ],
   "source": [
    "'''ONLY RUN THE FOLLOWING TWO BLOCKS TO GET AN IDEA OF THE COURSE OF EVENTS FOR A PARTICULAR PLAY'''\n",
    "\n",
    "# def isolate_play(df, game_key, play_id):\n",
    "#     '''Create a dataframe of a particular play'''\n",
    "#     where_condition = ((df['GameKey'] == game_key) &\n",
    "#                        (df['PlayID'] == play_id))\n",
    "#     new_df = df[where_condition].copy()\n",
    "#     new_df.sort_values(by=['Time'], inplace=True)\n",
    "#     new_df.reset_index(drop=True, inplace=True)\n",
    "#     return new_df\n",
    "\n",
    "# def course_of_events(df):\n",
    "#     '''Get list of events in order of occurrence for a particular play'''\n",
    "#     events = []\n",
    "#     for i in range(len(df)):\n",
    "#         event = df.loc[i, 'Event']\n",
    "#         if event not in events:\n",
    "#             events.append(event)\n",
    "           \n",
    "#     print('Play Description:', df.loc[0, 'PlayDescription'])\n",
    "#     print('')\n",
    "#     print('Game Events:', events)\n",
    "#     print('-----------------------------------------------')"
   ]
  },
  {
   "cell_type": "code",
   "execution_count": 17,
   "metadata": {},
   "outputs": [],
   "source": [
    "# # Iterate through ids to get events for each play\n",
    "# def whats_going_on(df, ids):\n",
    "#     for i in range(len(ids)):\n",
    "#         game_key = ids.loc[i, 'GameKey']\n",
    "#         play_id = ids.loc[i, 'PlayID']\n",
    "#         print('(', game_key, ',', play_id, ')')\n",
    "#         the_play = isolate_play(df, game_key, play_id)\n",
    "#         course_of_events(the_play)\n",
    "        \n",
    "# whats_going_on(ngs_after_punt, after_punt_ids)"
   ]
  },
  {
   "cell_type": "markdown",
   "metadata": {},
   "source": [
    "- So the events where the ball is caught or hits the turf include: 'punt_received', 'punt_downed', 'kick_received', 'punt_land'\n",
    "- We will look at the proximity of punt team players to the PR at these events in the NGS dataset\n",
    "    - Proximities include just the yardline distance ('x') or Euclidean distance ('circle')\n",
    "        - **When I yardline distance I am talking about the distance from one players position to anothers by the yardline. So if player_1 is at the 10 yardline and player_2 is at the 12 yardline, their x-distance from each other is 2 yards.**\n",
    "        - **Actual distance is the euclidean distance (straight-line distance) between player_1 and player_2**\n",
    "    - Both are considered because implementing a rule that is based on yard distances is easier to gauge when its by the yardline versus the shortest distance between two players"
   ]
  },
  {
   "cell_type": "code",
   "execution_count": 18,
   "metadata": {},
   "outputs": [],
   "source": [
    "def event_df_creation(df, event):\n",
    "    '''Get a new dataframe with data pertinent to a particular event'''\n",
    "    new_df = df[df['Event'] == event].reset_index(drop=True)\n",
    "    unique_ids = new_df.groupby(['GameKey','PlayID']).size().reset_index().rename(columns={0:'count'})\n",
    "    return new_df, unique_ids"
   ]
  },
  {
   "cell_type": "code",
   "execution_count": 19,
   "metadata": {},
   "outputs": [],
   "source": [
    "# Let's indicate what team the player is playing on based off player role\n",
    "return_team_positions = ['PR', 'PDL1', 'PDL2', 'PDL3', 'PDL4', 'PDR1', 'PDR2', 'PDR3', 'PDR4', 'VL', 'VR', \n",
    "                         'PLL', 'PLR', 'VRo', 'VRi', 'VLi', 'VLo', 'PLM', 'PLR1', 'PLR2', 'PLL1', 'PLL2',\n",
    "                         'PFB', 'PDL5', 'PDR5', 'PDL6', 'PLR3', 'PLL3', 'PDR6', 'PLM1', 'PDM']\n",
    "punt_team_positions = ['P', 'PLS', 'PPR', 'PLG', 'PRG', 'PLT', 'PRT', 'PLW', 'PRW', 'GL', 'GR',\n",
    "                       'GRo', 'GRi', 'GLi', 'GLo', 'PC', 'PPRo', 'PPRi', 'PPL', 'PPLi', 'PPLo']\n",
    "\n",
    "def label_team(df):\n",
    "    '''Label each player by the team they play on'''\n",
    "    df['team'] = ''\n",
    "\n",
    "    for i, role in enumerate(df['Role']):\n",
    "#         print(i, role)\n",
    "        if role in return_team_positions:\n",
    "            df.loc[i, 'team'] = 'return team'\n",
    "        elif role in punt_team_positions:\n",
    "            df.loc[i, 'team'] = 'punt team'\n",
    "        else:\n",
    "            df.loc[i, 'team'] = 'unknown'"
   ]
  },
  {
   "cell_type": "code",
   "execution_count": 20,
   "metadata": {},
   "outputs": [],
   "source": [
    "def calculate_player_proximity(role_x, role_y, player_x, player_y):\n",
    "    '''Calculate distance of a player to a particular role'''\n",
    "    leg_x = (role_x - player_x) ** 2\n",
    "    leg_y = (role_y - player_y) ** 2\n",
    "    hypotenuse = np.sqrt(leg_x + leg_y)\n",
    "    return hypotenuse"
   ]
  },
  {
   "cell_type": "code",
   "execution_count": 21,
   "metadata": {},
   "outputs": [],
   "source": [
    "def calculate_x_proximity(role_x, player_x):\n",
    "    '''Calculate distance of a player to a particular role only by yardline'''\n",
    "    return np.abs(role_x - player_x)"
   ]
  },
  {
   "cell_type": "code",
   "execution_count": 22,
   "metadata": {},
   "outputs": [],
   "source": [
    "def calculate_proximity_for_play(df, unique_ids, role):\n",
    "    '''Calculate proximity of each player to the player of a particular role'''\n",
    "    # Create feature for player proximity\n",
    "    df['proximity_to_' + role + '_circle'] = 0\n",
    "    df['proximity_to_' + role + '_x'] = 0\n",
    "    \n",
    "    # Go through each data point in particular NGS dataset\n",
    "    for i in range(len(df)):\n",
    "#         print(i)\n",
    "        \n",
    "        # Play Information\n",
    "        game_key = df.loc[i, 'GameKey']\n",
    "        play_id = df.loc[i, 'PlayID']\n",
    "        \n",
    "        # Get one unique set of data points related to a single (GameKey, PlayID) pair\n",
    "        where_condition = ((df['GameKey'] == game_key) &\\\n",
    "                           (df['PlayID'] == play_id))\n",
    "        just_view = df[where_condition].reset_index()\n",
    "        \n",
    "        # Get coordinates of a player with a particular role\n",
    "        if any(just_view['Role'] == role):\n",
    "            role_x = just_view.loc[just_view['Role'] == role, 'x'].values[0]\n",
    "            role_y = just_view.loc[just_view['Role'] == role, 'y'].values[0]\n",
    "            \n",
    "        # Plays that don't actually have the particular role represented\n",
    "        else:\n",
    "            continue\n",
    "\n",
    "        # Current Player coordinates\n",
    "        position_x = df.loc[i, 'x']\n",
    "        position_y = df.loc[i, 'y']\n",
    "\n",
    "        # Calculate proximity\n",
    "        proximity_hypo = calculate_player_proximity(role_x, role_y, position_x, position_y)\n",
    "        proximity_x = calculate_x_proximity(role_x, position_x)\n",
    "        df.loc[i, 'proximity_to_' + role + '_circle'] = proximity_hypo\n",
    "        df.loc[i, 'proximity_to_' + role + '_x'] = proximity_x\n",
    "        \n",
    "    # Calculate closest player (adds to ids dataframe)\n",
    "    calculate_closest_player(df, unique_ids, 'proximity_to_' + role + '_circle')\n",
    "    calculate_closest_player(df, unique_ids, 'proximity_to_' + role + '_x')"
   ]
  },
  {
   "cell_type": "code",
   "execution_count": 23,
   "metadata": {},
   "outputs": [],
   "source": [
    "def calculate_closest_player(df, unique_ids, column):\n",
    "    '''Find who the closest player on the punt team and create new id set'''\n",
    "    unique_ids[column] = 0\n",
    "    good_indexes = []\n",
    "    \n",
    "    for i in range(len(unique_ids)):\n",
    "#         print(i)\n",
    "        \n",
    "        # Play information\n",
    "        game_key = unique_ids.loc[i, 'GameKey']\n",
    "        play_id = unique_ids.loc[i, 'PlayID']\n",
    "\n",
    "        # Get one unique set of data points related to a single (GameKey, PlayID) pair\n",
    "        where_condition = ((df['GameKey'] == game_key) &\\\n",
    "                           (df['PlayID'] == play_id) &\\\n",
    "                           (df['team'] == 'punt team'))\n",
    "        just_view = df[where_condition].reset_index(drop=True)\n",
    "        \n",
    "        # Take minimum of series and Error handling where the NGS data had no punt team :(\n",
    "        try:\n",
    "            unique_ids.loc[i, column] = min(just_view[column])\n",
    "            good_indexes.append(i)\n",
    "        except ValueError:\n",
    "            continue"
   ]
  },
  {
   "cell_type": "code",
   "execution_count": 24,
   "metadata": {},
   "outputs": [],
   "source": [
    "def all_event_proximities(ngs_df, events):\n",
    "    data_frames = []\n",
    "    \n",
    "    for event in events:\n",
    "        event_df, event_ids = event_df_creation(ngs_df, event)\n",
    "        label_team(event_df)\n",
    "        calculate_proximity_for_play(event_df, event_ids, 'PR')\n",
    "        data_frames.append(event_ids)\n",
    "        \n",
    "    # Combine ids of particular play events\n",
    "    new_ids = pd.concat(data_frames,\n",
    "                        axis=0)\n",
    "    new_ids.reset_index(inplace=True, drop=True)\n",
    "    \n",
    "    return new_ids"
   ]
  },
  {
   "cell_type": "code",
   "execution_count": 25,
   "metadata": {},
   "outputs": [
    {
     "data": {
      "text/html": [
       "<div>\n",
       "<style scoped>\n",
       "    .dataframe tbody tr th:only-of-type {\n",
       "        vertical-align: middle;\n",
       "    }\n",
       "\n",
       "    .dataframe tbody tr th {\n",
       "        vertical-align: top;\n",
       "    }\n",
       "\n",
       "    .dataframe thead th {\n",
       "        text-align: right;\n",
       "    }\n",
       "</style>\n",
       "<table border=\"1\" class=\"dataframe\">\n",
       "  <thead>\n",
       "    <tr style=\"text-align: right;\">\n",
       "      <th></th>\n",
       "      <th>GameKey</th>\n",
       "      <th>PlayID</th>\n",
       "      <th>count</th>\n",
       "      <th>proximity_to_PR_circle</th>\n",
       "      <th>proximity_to_PR_x</th>\n",
       "    </tr>\n",
       "  </thead>\n",
       "  <tbody>\n",
       "    <tr>\n",
       "      <th>0</th>\n",
       "      <td>5</td>\n",
       "      <td>3129</td>\n",
       "      <td>22</td>\n",
       "      <td>17.316649</td>\n",
       "      <td>16.419998</td>\n",
       "    </tr>\n",
       "    <tr>\n",
       "      <th>1</th>\n",
       "      <td>29</td>\n",
       "      <td>538</td>\n",
       "      <td>22</td>\n",
       "      <td>4.798677</td>\n",
       "      <td>4.279999</td>\n",
       "    </tr>\n",
       "    <tr>\n",
       "      <th>2</th>\n",
       "      <td>45</td>\n",
       "      <td>1212</td>\n",
       "      <td>22</td>\n",
       "      <td>3.713031</td>\n",
       "      <td>2.790001</td>\n",
       "    </tr>\n",
       "    <tr>\n",
       "      <th>3</th>\n",
       "      <td>54</td>\n",
       "      <td>1045</td>\n",
       "      <td>22</td>\n",
       "      <td>10.337241</td>\n",
       "      <td>10.309998</td>\n",
       "    </tr>\n",
       "    <tr>\n",
       "      <th>4</th>\n",
       "      <td>144</td>\n",
       "      <td>2342</td>\n",
       "      <td>22</td>\n",
       "      <td>12.411482</td>\n",
       "      <td>7.680000</td>\n",
       "    </tr>\n",
       "  </tbody>\n",
       "</table>\n",
       "</div>"
      ],
      "text/plain": [
       "   GameKey  PlayID  count  proximity_to_PR_circle  proximity_to_PR_x\n",
       "0        5    3129     22               17.316649          16.419998\n",
       "1       29     538     22                4.798677           4.279999\n",
       "2       45    1212     22                3.713031           2.790001\n",
       "3       54    1045     22               10.337241          10.309998\n",
       "4      144    2342     22               12.411482           7.680000"
      ]
     },
     "execution_count": 25,
     "metadata": {},
     "output_type": "execute_result"
    }
   ],
   "source": [
    "# Events of interest\n",
    "events = ['punt_received', 'punt_downed', 'kick_received', 'punt_land']\n",
    "\n",
    "new_ids = all_event_proximities(ngs_after_punt, events)\n",
    "new_ids.head()"
   ]
  },
  {
   "cell_type": "markdown",
   "metadata": {},
   "source": [
    "- We now have the closest proximity of a punt player to the PR when the ball is caught, downed, or lands so let's look at the distribution of this set.\n",
    "- Remember: x = yardline distance, circle = euclidean distance"
   ]
  },
  {
   "cell_type": "code",
   "execution_count": 26,
   "metadata": {},
   "outputs": [],
   "source": [
    "'''Plot of distribution distance of closest player to punt receiver'''\n",
    "def proximity_distribution(df, column):\n",
    "    bins = [i for i in range(0, 30, 1)]\n",
    "    plt.hist(df[column], bins=bins)\n",
    "\n",
    "    plt.title(column)\n",
    "    plt.xlabel('Yards')\n",
    "    plt.ylabel('count')\n",
    "    plt.show()\n",
    "\n",
    "    print(new_ids[column].describe())"
   ]
  },
  {
   "cell_type": "markdown",
   "metadata": {},
   "source": [
    "[Back to PR Restricted Zone Analysis](#PR)\n",
    "#### <a id='concussion_proximity'>Concussion Proximity</a>"
   ]
  },
  {
   "cell_type": "code",
   "execution_count": 30,
   "metadata": {},
   "outputs": [
    {
     "data": {
      "image/png": "[encoded data removed]",
      "text/plain": [
       "<Figure size 432x288 with 1 Axes>"
      ]
     },
     "metadata": {},
     "output_type": "display_data"
    },
    {
     "name": "stdout",
     "output_type": "stream",
     "text": [
      "count    33.000000\n",
      "mean      9.698254\n",
      "std       6.167227\n",
      "min       0.094337\n",
      "25%       4.007398\n",
      "50%       9.930081\n",
      "75%      13.466461\n",
      "max      26.229712\n",
      "Name: proximity_to_PR_circle, dtype: float64\n"
     ]
    },
    {
     "data": {
      "image/png": "[encoded data removed]",
      "text/plain": [
       "<Figure size 432x288 with 1 Axes>"
      ]
     },
     "metadata": {},
     "output_type": "display_data"
    },
    {
     "name": "stdout",
     "output_type": "stream",
     "text": [
      "count    33.000000\n",
      "mean      8.069091\n",
      "std       5.215547\n",
      "min       0.049995\n",
      "25%       3.470001\n",
      "50%       7.920002\n",
      "75%      12.329998\n",
      "max      19.600002\n",
      "Name: proximity_to_PR_x, dtype: float64\n"
     ]
    }
   ],
   "source": [
    "proximity_distribution(new_ids, 'proximity_to_PR_circle')\n",
    "proximity_distribution(new_ids, 'proximity_to_PR_x')"
   ]
  },
  {
   "cell_type": "code",
   "execution_count": 31,
   "metadata": {},
   "outputs": [
    {
     "name": "stdout",
     "output_type": "stream",
     "text": [
      "17\n",
      "17\n"
     ]
    }
   ],
   "source": [
    "# Number of concussion plays affected by a rule with 8 yard restricted zone for PR by yardline distance\n",
    "print(new_ids[new_ids['proximity_to_PR_x'] <= 8].shape[0])\n",
    "\n",
    "# Number of concussion plays affected by a rule with 10 yard restricted zone for PR by euclidean distance to PR\n",
    "print(new_ids[new_ids['proximity_to_PR_circle'] <= 10].shape[0])"
   ]
  },
  {
   "cell_type": "markdown",
   "metadata": {},
   "source": [
    "- We can see on average **concussions are occurring on plays where the closest punt team player is within 8.1 yards in the x-direction from the PR or 9.7 yards in euclidean distance from the PR at the time the ball has landed after the punt.**\n",
    "- Obviously this isn't a normal distribution, but we can see that more than half of concussions are occuring with a yardline distance less than 8 yards (17 of 33) or less than 10 yards euclidean distance (17 or 33) when this type of feature is present during the punt play.\n",
    "- I believe this restricted zone could have helped to prevent these concussions, by forcing players to slow their pursuit of the PR and be more aware of their positioning relative to the PR.\n",
    "- I also must note that many of the concussions could have potentially been prevented by the implementation of the new 'use of helmet' rule. You may have noticed I had one-hot encoded the concussion plays where I believe the 'use of helmet' rule could have changed the behavior of the player invovled in the concussion.\n",
    "    - https://operations.nfl.com/the-rules/2018-rules-changes-and-points-of-emphasis/\n",
    "    - https://operations.nfl.com/the-rules/nfl-video-rulebook/use-of-the-helmet/\n",
    "- The below script is to just find where the PR restricted zone and helmet rule would have overlapped to understand the 'coverage' of these rules for the concussions involved in this dataset."
   ]
  },
  {
   "cell_type": "markdown",
   "metadata": {},
   "source": [
    "## <a id=\"coverage\">Overall Rule Coverage of Concussion Related Plays</a>"
   ]
  },
  {
   "cell_type": "code",
   "execution_count": 32,
   "metadata": {},
   "outputs": [
    {
     "name": "stdout",
     "output_type": "stream",
     "text": [
      "Concussion Coverage by Particular Rules\n",
      "---------------------------------------\n",
      "Count of use-of-helmet rule: 18\n",
      "Count of uncalled penalty rules: 9\n",
      "Count of PR restricted zone rule: 17\n",
      "Count for use-of-helmet and uncalled penalty rules: 2\n",
      "Count for use-of-helmet and PR restricted zone rules: 11\n",
      "Count for uncalled penalty and PR restricted zone rules: 2\n",
      "Count for use-of-helmet, uncalled penalty, and PR restricted zone rules: 0\n"
     ]
    }
   ],
   "source": [
    "# Combine with injury_play data to get one-hot encoding labels\n",
    "combo = pd.merge(new_ids, after_punt_df,\n",
    "                 how=\"inner\",\n",
    "                 on=['GameKey', 'PlayID'])\n",
    "\n",
    "# Get Number of concussions that a particular rule may pertain too\n",
    "print('Concussion Coverage by Particular Rules')\n",
    "print('---------------------------------------')\n",
    "print('Count of use-of-helmet rule:', combo[combo['helmet_rule'] == 1].shape[0])\n",
    "print('Count of uncalled penalty rules:', combo[combo['uncalled_penalty'] == 1].shape[0])\n",
    "print('Count of PR restricted zone rule:', combo[combo['proximity_to_PR_x'] <= 8].shape[0])\n",
    "\n",
    "# Get overlap of rule counts\n",
    "where_condition_1 = ((combo['helmet_rule'] == 1) &\n",
    "                    (combo['uncalled_penalty'] == 1))\n",
    "where_condition_2 = ((combo['helmet_rule'] == 1) &\n",
    "                    (combo['proximity_to_PR_x'] <= 8))\n",
    "where_condition_3 = ((combo['uncalled_penalty'] == 1) &\n",
    "                    (combo['proximity_to_PR_x'] <= 8))\n",
    "where_condition_4 = ((combo['proximity_to_PR_x'] <= 8) &\n",
    "                    (combo['helmet_rule'] == 1) & \n",
    "                    (combo['uncalled_penalty'] == 1))\n",
    "\n",
    "print('Count for use-of-helmet and uncalled penalty rules:', combo[where_condition_1].shape[0])\n",
    "print('Count for use-of-helmet and PR restricted zone rules:', combo[where_condition_2].shape[0])\n",
    "print('Count for uncalled penalty and PR restricted zone rules:', combo[where_condition_3].shape[0])\n",
    "print('Count for use-of-helmet, uncalled penalty, and PR restricted zone rules:', combo[where_condition_4].shape[0])"
   ]
  },
  {
   "cell_type": "markdown",
   "metadata": {},
   "source": [
    "- Total concussions occuring after the punt: 33\n",
    "- These threes rules cover <b>29 of 33</b> concussions that occur after the punt"
   ]
  },
  {
   "cell_type": "code",
   "execution_count": 41,
   "metadata": {},
   "outputs": [],
   "source": [
    "from matplotlib_venn import venn3, venn3_circles"
   ]
  },
  {
   "cell_type": "code",
   "execution_count": 59,
   "metadata": {},
   "outputs": [
    {
     "data": {
      "image/png": "[encoded data removed]",
      "text/plain": [
       "<Figure size 720x432 with 1 Axes>"
      ]
     },
     "metadata": {},
     "output_type": "display_data"
    }
   ],
   "source": [
    "# Make the diagram\n",
    "plt.figure(figsize=(10, 6))\n",
    "labels = ['Use-of-Helmet Rule', 'PR Restricted Zone Rule', 'Uncalled Penalty Rules']\n",
    "v = venn3(subsets = (5, 4, 11, 5, 2, 2, 0), set_labels=labels, )\n",
    "c = venn3_circles(subsets = (5, 4, 11, 5, 2, 2, 0), linestyle='dashed')\n",
    "\n",
    "for text in v.set_labels:\n",
    "    text.set_fontsize(16)\n",
    "for text in v.subset_labels:\n",
    "    text.set_fontsize(18)\n",
    "plt.title('Rule Coverage of Concussions After the Punt', fontsize=18)\n",
    "plt.savefig('figures/venn_diagram.png', bbox_inches='tight')\n",
    "plt.show()"
   ]
  },
  {
   "cell_type": "markdown",
   "metadata": {},
   "source": [
    "# <a id=\"lton\">Links to other notebooks</a>:\n",
    "- Analysis of uncalled penalties: https://www.kaggle.com/jdemeo/analysis-uncalled-penalties\n",
    "- Analysis of punt returns: https://www.kaggle.com/jdemeo/analysis-punt-returns\n",
    "- Analysis of fair catches: https://www.kaggle.com/jdemeo/analysis-fair-catches\n",
    "- Preprocessing of Play Information: https://www.kaggle.com/jdemeo/preprocessing-punt-play\n",
    "- Preprocessing of NGS data for the above notebooks: https://www.kaggle.com/jdemeo/preprocessing-ngs"
   ]
  },
  {
   "cell_type": "code",
   "execution_count": null,
   "metadata": {},
   "outputs": [],
   "source": []
  }
 ],
 "metadata": {
  "kernelspec": {
   "display_name": "ML",
   "language": "python",
   "name": "ml"
  },
  "language_info": {
   "codemirror_mode": {
    "name": "ipython",
    "version": 3
   },
   "file_extension": ".py",
   "mimetype": "text/x-python",
   "name": "python",
   "nbconvert_exporter": "python",
   "pygments_lexer": "ipython3",
   "version": "3.7.1"
  }
 },
 "nbformat": 4,
 "nbformat_minor": 2
}
