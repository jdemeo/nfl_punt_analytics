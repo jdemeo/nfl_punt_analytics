{
 "cells": [
  {
   "cell_type": "markdown",
   "metadata": {},
   "source": [
    "## Get some context:\n",
    "- 2018 Rules Changes And Points of Emphasis: https://operations.nfl.com/the-rules/2018-rules-changes-and-points-of-emphasis/\n",
    "- NFL 2018 Health and Safety Report: https://annualreport.playsmartplaysafe.com/#data-injury-reduction-plan\n",
    "- NFL 2017 Injury Data: https://www.playsmartplaysafe.com/newsroom/reports/2017-injury-data/\n",
    "- Evolution of NFL Rules: https://operations.nfl.com/the-rules/evolution-of-the-nfl-rules/\n",
    "- ESPN coverage of NFL Call to Action: http://www.espn.com/nfl/story/_/id/24743994/really-changed-nfl-call-action-concussions\n",
    "- 2018 Kickoff Rule Changes: https://www.si.com/nfl/2018/09/07/nfl-kickoff-rule-changes-explained-onside-return-clarified\n",
    "- Chronology of Kickoff rule changes: http://www.footballzebras.com/2018/05/chronology-of-kickoff-rules-changes/\n",
    "- Relevant Concussion paper: https://journals.sagepub.com/doi/full/10.1177/0363546518804498"
   ]
  },
  {
   "cell_type": "markdown",
   "metadata": {},
   "source": [
    "## Game Plan\n",
    "- Look at the film, be the film...\n",
    "    - Find key attributes that increase risk of concussion\n",
    "    - Note if any new rules ('Use of Helmet' Rule) exist for 2018 which possibly could have prevented that concussion\n",
    "- Compare those features to the control videos and routes of players from punts without concussions\n",
    "- The goal should be to propose rules that improve player safety, but also to maintaining the integrity of the game.\n",
    "- The notebook will be broken up into multiple parts: preprocessing, consussion analysis, proposed rules with potential impacts to the game"
   ]
  },
  {
   "cell_type": "code",
   "execution_count": 1,
   "metadata": {},
   "outputs": [],
   "source": [
    "import pandas as pd\n",
    "import numpy as np\n",
    "import seaborn as sns\n",
    "import matplotlib.pyplot as plt\n",
    "import matplotlib.patches as mpatches\n",
    "import re"
   ]
  },
  {
   "cell_type": "markdown",
   "metadata": {},
   "source": [
    "## GAME DATA\n",
    "- <b>Game Data</b>: Game level data that specifies the type of season (pre, reg, post), week, and hosting city and team. Each game is uniquely identified across all seasons using GameKey.\n",
    "- <b>GameKey</b>: is unique\n",
    "- Two seasons: 2016, 2017\n",
    "    - 65 preseason games\n",
    "    - 256 regular season games\n",
    "    - 11 post season, 1 allstar\n",
    "- Preseason splits: [1:65], [334:398]\n",
    "- Regular split: [66:321], [399:654]\n",
    "- Postseason split: [322:332], [655:665]\n",
    "- Probowl split: 333, 666\n",
    "- You can explore this dataset on your own, but i didn't find it very helpful other than understanding the seasonal splits (above)"
   ]
  },
  {
   "cell_type": "code",
   "execution_count": 2,
   "metadata": {},
   "outputs": [
    {
     "name": "stdout",
     "output_type": "stream",
     "text": [
      "(666, 18)\n"
     ]
    }
   ],
   "source": [
    "game_df = pd.read_csv('data/game_data.csv')\n",
    "print(game_df.shape)\n",
    "game_df.head(1)\n",
    "\n",
    "# Cleanup Memory\n",
    "del game_df"
   ]
  },
  {
   "cell_type": "markdown",
   "metadata": {},
   "source": [
    "# PLAY INFORMATION\n",
    "- <b>Play Information</b>: Play level data that describes the type of play, possession team, score and a brief narrative of each play. Plays are uniquely identified using a its PlayID along with the corresponding GameKey. <b>PlayIDs ARE NOT UNIQUE.</b>\n",
    "- All plays are punts (just check counts of 'Play_Type')\n",
    "- This dataset has alot of information that can be useful in your analysis. 'PlayDescription' tells you the summary of the play which can be used to parse and classify each play. You know where the ball is being punted from ('YardLine') and who is punting ('Poss_Team') so you can combine this information with 'PlayDescription' to synthesize how far a player returns the ball as well as create your own 'reward' metrics for placing a value on the punt return. <b>If you're going to implement a rule change that effects how the ball is received, you should understand what plays in this dataset, you'll have affected (usually negated).</b>\n",
    "    - I'm sure many folk are considering the CFL rule for a \"no yards penalty\" or some variation of it. Essentially the punt receiver (PR) gets at least a 5 yard buffer against any opponent player to allow for receiving the punt. Penalties are doled out if a punt team player that is not the punter or was behind the punter upon the punt enters this restricted area. Note CFL does not have a fair catch rule. Anyway a rule where there is some restricted area/safety area for the PR would result in many plays in this play dataset being negated. It's important to understand whats being negated and understand what value to the game if any is being lost as a result.\n",
    "    - The funny CFL punt: https://www.sbnation.com/2017/9/9/16280946/cfl-punt-return-weird-plays-bc-lions-montreal-alouettes-2017"
   ]
  },
  {
   "cell_type": "code",
   "execution_count": 3,
   "metadata": {},
   "outputs": [
    {
     "name": "stdout",
     "output_type": "stream",
     "text": [
      "(6681, 14)\n"
     ]
    },
    {
     "data": {
      "text/html": [
       "<div>\n",
       "<style scoped>\n",
       "    .dataframe tbody tr th:only-of-type {\n",
       "        vertical-align: middle;\n",
       "    }\n",
       "\n",
       "    .dataframe tbody tr th {\n",
       "        vertical-align: top;\n",
       "    }\n",
       "\n",
       "    .dataframe thead th {\n",
       "        text-align: right;\n",
       "    }\n",
       "</style>\n",
       "<table border=\"1\" class=\"dataframe\">\n",
       "  <thead>\n",
       "    <tr style=\"text-align: right;\">\n",
       "      <th></th>\n",
       "      <th>Season_Year</th>\n",
       "      <th>Season_Type</th>\n",
       "      <th>GameKey</th>\n",
       "      <th>Game_Date</th>\n",
       "      <th>Week</th>\n",
       "      <th>PlayID</th>\n",
       "      <th>Game_Clock</th>\n",
       "      <th>YardLine</th>\n",
       "      <th>Quarter</th>\n",
       "      <th>Play_Type</th>\n",
       "      <th>Poss_Team</th>\n",
       "      <th>Home_Team_Visit_Team</th>\n",
       "      <th>Score_Home_Visiting</th>\n",
       "      <th>PlayDescription</th>\n",
       "    </tr>\n",
       "  </thead>\n",
       "  <tbody>\n",
       "    <tr>\n",
       "      <th>0</th>\n",
       "      <td>2016</td>\n",
       "      <td>Pre</td>\n",
       "      <td>2</td>\n",
       "      <td>08/13/2016</td>\n",
       "      <td>2</td>\n",
       "      <td>191</td>\n",
       "      <td>12:30</td>\n",
       "      <td>LA 47</td>\n",
       "      <td>1</td>\n",
       "      <td>Punt</td>\n",
       "      <td>LA</td>\n",
       "      <td>LA-DAL</td>\n",
       "      <td>0 - 7</td>\n",
       "      <td>(12:30) J.Hekker punts 52 yards to DAL 1, Cent...</td>\n",
       "    </tr>\n",
       "  </tbody>\n",
       "</table>\n",
       "</div>"
      ],
      "text/plain": [
       "   Season_Year Season_Type  GameKey   Game_Date  Week  PlayID Game_Clock  \\\n",
       "0         2016         Pre        2  08/13/2016     2     191      12:30   \n",
       "\n",
       "  YardLine  Quarter Play_Type Poss_Team Home_Team_Visit_Team  \\\n",
       "0    LA 47        1      Punt        LA               LA-DAL   \n",
       "\n",
       "  Score_Home_Visiting                                    PlayDescription  \n",
       "0               0 - 7  (12:30) J.Hekker punts 52 yards to DAL 1, Cent...  "
      ]
     },
     "execution_count": 3,
     "metadata": {},
     "output_type": "execute_result"
    }
   ],
   "source": [
    "play_df = pd.read_csv('data/play_information.csv')\n",
    "print(play_df.shape)\n",
    "play_df.head(1)"
   ]
  },
  {
   "cell_type": "code",
   "execution_count": 4,
   "metadata": {},
   "outputs": [
    {
     "name": "stdout",
     "output_type": "stream",
     "text": [
      "Number of games without a punt: 4\n",
      "Game 1 had no punts\n",
      "Game 333 had no punts\n",
      "Game 390 had no punts\n",
      "Game 666 had no punts\n"
     ]
    }
   ],
   "source": [
    "# HOW MANY GAMES HAD NO PUNTS AND WHICH GAMES\n",
    "stuff = []\n",
    "# Collect all game id's in punt data\n",
    "for element in play_df['GameKey']:\n",
    "    stuff.append(element)\n",
    "print('Number of games without a punt:', 666 - len(set(stuff)))\n",
    "\n",
    "for element in [i for i in range(1, 667)]:\n",
    "    if element not in set(stuff):\n",
    "        print('Game', element, 'had no punts')"
   ]
  },
  {
   "cell_type": "markdown",
   "metadata": {},
   "source": [
    "- Game 1: 'Hall of Fame Game' was cancelled due to weather\n",
    "- Game 333: Probowl game\n",
    "    - If you search the game and find the box-score, there were 3 punts\n",
    "- Game 399: Was cancelled due to Hurricane Harvey :(\n",
    "- Game 666: Probowl game\n",
    "    - If you search the game and find the box-score, there were 8 punts"
   ]
  },
  {
   "cell_type": "markdown",
   "metadata": {},
   "source": [
    "- I'm gonna drop <b>alot of columns</b> because I don't find them very useful. I'll look specifically at <b>'PlayDescription'</b> to get a rough idea of how a play panned out, use that data to create one-hot encodings of types of plays (touchback, punt return, blocked kick, etc) and miscellaneous attributes of a play (fumble, muffed, etc). This will help to understand how many plays could be deemed 'interesting' (exciting, action after the catch, a blocked kick) and 'uninteresting' (out of bounds kicks, touchbacks, fair catches, etc.). This labeling is subjective and is used later to place value on the result of a punt both to a team and its fanbase.\n",
    "- Note: I'll sometimes interuse the words play and punt. Sorry if there is any confusion, I always mean the entirety of the punt play when I use those words."
   ]
  },
  {
   "cell_type": "markdown",
   "metadata": {},
   "source": [
    "- Example Play Descriptions for one-hot-encodings:\n",
    "    - <b>Interesting outcomes</b>:\n",
    "        - <b>Returned Punt</b>: B.Nortman punts 40 yards to BUF 23, Center-C.Holba. B.Tate to BUF 34 for 11 yards (D.Payne).\n",
    "        - <b>Muffed catch</b>: S.Waters punts 36 yards to BLT 15, Center-J.Jansen. K.Clay MUFFS catch, RECOVERED by CAR-F.Whittaker at BLT 12. F.Whittaker to BLT 12 for no gain (K.Clay).\n",
    "        - <b>Blocked Punt</b>: B.Wing punt is BLOCKED by B.Carter, Center-Z.DeOssie, recovered by NYG-J.Currie at NYG 15. J.Currie to NYG 15 for no gain (J.Burris).\n",
    "        - <b>Fumbles</b>: M.Darr punts 42 yards to TEN 14, Center-J.Denney. K.Reed to TEN 21 for 7 yards (Dan.Thomas). FUMBLES (Dan.Thomas), RECOVERED by MIA-J.Denney at TEN 23. J.Denney to TEN 23 for no gain (K.Byard).\n",
    "        - <b>Touchdown</b>: J.Locke punts 61 yards to CIN 20, Center-K.McDermott. A.Erickson for 80 yards, TOUCHDOWN.\n",
    "        - <b>Fake Punt</b>: P.McAfee pass deep right to E.Swoope to PIT 8 for 35 yards (J.Gilbert).\n",
    "            - Passing: P.McAfee pass deep right to E.Swoope to PIT 8 for 35 yards (J.Gilbert).\n",
    "            - Running: C.Jones left end to PHI 43 for 30 yards (D.Sproles). Fake punt run around left end.\n",
    "                - Lots of variations in descriptions for these bad boys\n",
    "    - Uninteresting outcomes:\n",
    "        - <b>Fair Catch</b>: J.Locke punts 47 yards to GB 10, Center-K.McDermott, fair catch by M.Hyde.\n",
    "        - <b>Downed Punt</b>: J.Locke punts 50 yards to GB 9, Center-K.McDermott, downed by MIN-J.Kearse.\n",
    "            - This is a play where the punting team controls the ball before any receiving team player after the ball has been punted\n",
    "        - <b>Touchbacks</b>: J.Hekker punts 50 yards to end zone, Center-J.Overbaugh, Touchback.\n",
    "        - <b>Out of Bounds Punt</b>: J.Schum punts 35 yards to MIN 34, Center-B.Goode, out of bounds.\n",
    "        - <b>Dead Ball</b>: B.Nortman punts 51 yards to BUF 34, Center-C.Holba. B.Tate, dead ball declared at BUF 34 for no gain.\n",
    "        - <b>No Play</b>: (:04) (Punt formation) PENALTY on ATL-M.Bosher, Delay of Game, 5 yards, enforced at ATL 49 - No Play.\n",
    "            - Some 'No Play' or '(Punt formation) Penalty' descriptions vary where a punt was executed and a penalty occurred that would negate the play, such that the punt is reattempted\n",
    "            - Such penalties include: False Start, Illegal Substitution, Delay of Game, Illegal Formation, Neutral Zone Infraction, Player Out of Bounds on Punt, Defensive 12 On-field, Ineligible Downfield Kick, Illegal Shift, Unnecessary Roughness, Roughing the Kicker, Defensive Offside, Ineligible Downfield Kick, Offensive Holding\n",
    "\n",
    "- Note: a play may have more than one of the above classifications."
   ]
  },
  {
   "cell_type": "code",
   "execution_count": 16,
   "metadata": {},
   "outputs": [],
   "source": [
    "# Create condensed version of play data\n",
    "keeper_columns = ['GameKey', 'PlayID', 'PlayDescription', 'Poss_Team', 'YardLine']\n",
    "condensed_play_df = play_df[keeper_columns].copy()"
   ]
  },
  {
   "cell_type": "code",
   "execution_count": 17,
   "metadata": {},
   "outputs": [],
   "source": [
    "def find_that_play_word(keyword, df):\n",
    "    \"\"\"Help to find keywords\"\"\"\n",
    "    df[keyword] = 0\n",
    "    count = 0\n",
    "    for i, description in enumerate(df['PlayDescription']):\n",
    "        game_key = df.loc[i, 'GameKey']\n",
    "        play_id = df.loc[i, 'PlayID']\n",
    "        # Find keyword in lowercased string of play description\n",
    "        if description.lower().find(keyword) != -1:\n",
    "#             print('Keyword', keyword, 'found for (game, play):', '(' + str(game_key) + ',' + str(play_id) + ')')\n",
    "#             print('Play description:', description)\n",
    "#             print('---')\n",
    "                \n",
    "            # One-hot encode with keyword\n",
    "            df.loc[i, keyword] = 1\n",
    "            count += 1\n",
    "\n",
    "    print('# of', keyword, 'occuring on a punt play:', count)"
   ]
  },
  {
   "cell_type": "markdown",
   "metadata": {},
   "source": [
    "- Choice of strings to parse for were determined based off just perusing the 'PlayDescription' until my eyes bled. There are probably cases where I'm still making poor assumptions, but I'll have to live with it.\n",
    "\n",
    "### Uninteresting Outcomes"
   ]
  },
  {
   "cell_type": "code",
   "execution_count": 18,
   "metadata": {},
   "outputs": [
    {
     "name": "stdout",
     "output_type": "stream",
     "text": [
      "# of fair catch occuring on a punt play: 1663\n",
      "# of touchback occuring on a punt play: 407\n",
      "# of downed occuring on a punt play: 811\n",
      "# of , out of bounds occuring on a punt play: 640\n",
      "# of dead ball occuring on a punt play: 2\n",
      "# of no play occuring on a punt play: 243\n",
      "# of (punt formation) penalty on occuring on a punt play: 138\n"
     ]
    }
   ],
   "source": [
    "find_that_play_word('fair catch', condensed_play_df)\n",
    "find_that_play_word('touchback', condensed_play_df)\n",
    "find_that_play_word('downed', condensed_play_df)\n",
    "find_that_play_word(', out of bounds', condensed_play_df)\n",
    "find_that_play_word('dead ball', condensed_play_df)\n",
    "find_that_play_word('no play', condensed_play_df)\n",
    "find_that_play_word('(punt formation) penalty on', condensed_play_df) # Picks up additional 'no play' type punts"
   ]
  },
  {
   "cell_type": "markdown",
   "metadata": {},
   "source": [
    "- Some of these counts may overlap, but won't matter for the processing"
   ]
  },
  {
   "cell_type": "code",
   "execution_count": 19,
   "metadata": {},
   "outputs": [
    {
     "name": "stdout",
     "output_type": "stream",
     "text": [
      "There are now 2980 \"interesting plays\" from 6681 punt plays\n",
      "Proportion of interesting punts: 0.44604101182457717\n"
     ]
    },
    {
     "data": {
      "text/html": [
       "<div>\n",
       "<style scoped>\n",
       "    .dataframe tbody tr th:only-of-type {\n",
       "        vertical-align: middle;\n",
       "    }\n",
       "\n",
       "    .dataframe tbody tr th {\n",
       "        vertical-align: top;\n",
       "    }\n",
       "\n",
       "    .dataframe thead th {\n",
       "        text-align: right;\n",
       "    }\n",
       "</style>\n",
       "<table border=\"1\" class=\"dataframe\">\n",
       "  <thead>\n",
       "    <tr style=\"text-align: right;\">\n",
       "      <th></th>\n",
       "      <th>GameKey</th>\n",
       "      <th>PlayID</th>\n",
       "      <th>PlayDescription</th>\n",
       "      <th>Poss_Team</th>\n",
       "      <th>YardLine</th>\n",
       "      <th>fair catch</th>\n",
       "      <th>touchback</th>\n",
       "      <th>downed</th>\n",
       "      <th>, out of bounds</th>\n",
       "      <th>dead ball</th>\n",
       "      <th>no play</th>\n",
       "      <th>(punt formation) penalty on</th>\n",
       "    </tr>\n",
       "  </thead>\n",
       "  <tbody>\n",
       "    <tr>\n",
       "      <th>0</th>\n",
       "      <td>2</td>\n",
       "      <td>1227</td>\n",
       "      <td>(10:01) C.Jones punts 40 yards to LA 42, Cente...</td>\n",
       "      <td>DAL</td>\n",
       "      <td>DAL 18</td>\n",
       "      <td>0</td>\n",
       "      <td>0</td>\n",
       "      <td>0</td>\n",
       "      <td>0</td>\n",
       "      <td>0</td>\n",
       "      <td>0</td>\n",
       "      <td>0</td>\n",
       "    </tr>\n",
       "  </tbody>\n",
       "</table>\n",
       "</div>"
      ],
      "text/plain": [
       "   GameKey  PlayID                                    PlayDescription  \\\n",
       "0        2    1227  (10:01) C.Jones punts 40 yards to LA 42, Cente...   \n",
       "\n",
       "  Poss_Team YardLine  fair catch  touchback  downed  , out of bounds  \\\n",
       "0       DAL   DAL 18           0          0       0                0   \n",
       "\n",
       "   dead ball  no play  (punt formation) penalty on  \n",
       "0          0        0                            0  "
      ]
     },
     "execution_count": 19,
     "metadata": {},
     "output_type": "execute_result"
    }
   ],
   "source": [
    "# Reduce play_df even further \n",
    "where_condition = (\n",
    "    (condensed_play_df['fair catch'] == 1) |\n",
    "    (condensed_play_df['touchback'] == 1) |\n",
    "    (condensed_play_df['downed'] == 1) |\n",
    "    (condensed_play_df[', out of bounds'] == 1) |\n",
    "    (condensed_play_df['dead ball'] == 1) |\n",
    "    (condensed_play_df['no play'] == 1) |\n",
    "    (condensed_play_df['(punt formation) penalty on'] == 1))\n",
    "interesting_plays_df = condensed_play_df[~where_condition].reset_index(drop=True)\n",
    "\n",
    "print('There are now', len(interesting_plays_df), '\"interesting plays\" from', len(condensed_play_df), 'punt plays')\n",
    "print('Proportion of interesting punts:', len(interesting_plays_df)/len(condensed_play_df))\n",
    "interesting_plays_df.head(1)"
   ]
  },
  {
   "cell_type": "markdown",
   "metadata": {},
   "source": [
    "- So we can see that around <b>55.4% of punts (3701/6681)</b> result in a play that is 'uninteresting'. Maybe the punt isn't worth the time.\n",
    "- The <b>touchback rate was 57.6% for kickoffs in 2016</b>. Just for perspective of 'uninteresting outcomes'.\n",
    "    - Reference: http://www.espn.com/nfl/story/_/id/18393780/kickoff-returns-reduced-18-percentage-points-2016-season\n",
    "- Now that we have a condensed set of punt plays where something potentially interesting occurred, lets parse for the more interesting than interesting plays on punts (touchdowns, fumbles, blocks, etc.).\n",
    "    - Note: If you're curious on this filtering, it does filter out some plays that involved concussions (GameKey, PlayID): (21, 2587), (234, 3278), (266, 2902), (280, 2918), (399, 3312), (607, 978)"
   ]
  },
  {
   "cell_type": "markdown",
   "metadata": {},
   "source": [
    "## LINK TO FAIR CATCH ANALYSIS* * * * * * * * * "
   ]
  },
  {
   "cell_type": "code",
   "execution_count": 9,
   "metadata": {},
   "outputs": [],
   "source": [
    "# Create dataset of fair catch plays\n",
    "# It will be used in later analyses\n",
    "where_condition = ((condensed_play_df['fair catch'] == 1))\n",
    "fc_df = condensed_play_df[where_condition].reset_index(drop=True)\n",
    "# Drop unnecessary columns\n",
    "keeper_columns = ['GameKey', 'PlayID', 'PlayDescription', 'Poss_Team', 'YardLine']\n",
    "fc_df = fc_df[keeper_columns]\n",
    "fc_df.to_csv('data/play-fc.csv', index=False)"
   ]
  },
  {
   "cell_type": "code",
   "execution_count": 20,
   "metadata": {},
   "outputs": [],
   "source": [
    "# I only have this here for reference of what I've filtered by\n",
    "uninteresting_keywords = ['fair catch', 'touchback.', 'downed', ', out of bounds', 'dead ball', 'no play',\n",
    "                         '(punt formation) penalty on']\n",
    "interesting_keywords = ['muffs', 'blocked by','touchdown.', 'fumble', 'ruling', 'fake punt',\n",
    "                        'up the middle', 'pass', 'right end', 'left end', 'right guard',\n",
    "                        'direct snap', 'touchdown nullified']"
   ]
  },
  {
   "cell_type": "markdown",
   "metadata": {},
   "source": [
    "### Interesting outcomes"
   ]
  },
  {
   "cell_type": "code",
   "execution_count": 21,
   "metadata": {},
   "outputs": [
    {
     "name": "stdout",
     "output_type": "stream",
     "text": [
      "# of muffs occuring on a punt play: 198\n",
      "# of blocked by occuring on a punt play: 29\n",
      "# of touchdown. occuring on a punt play: 41\n",
      "# of fumble occuring on a punt play: 68\n",
      "# of ruling occuring on a punt play: 25\n",
      "# of fake punt occuring on a punt play: 6\n",
      "# of safety occuring on a punt play: 8\n",
      "# of up the middle occuring on a punt play: 11\n",
      "# of pass occuring on a punt play: 20\n",
      "# of right end occuring on a punt play: 7\n",
      "# of left end occuring on a punt play: 3\n",
      "# of right guard occuring on a punt play: 3\n",
      "# of direct snap occuring on a punt play: 9\n",
      "# of touchdown nullified occuring on a punt play: 12\n"
     ]
    }
   ],
   "source": [
    "# 'Interesting outcomes'\n",
    "find_that_play_word('muffs', interesting_plays_df)\n",
    "find_that_play_word('blocked by', interesting_plays_df)\n",
    "find_that_play_word('touchdown.', interesting_plays_df)\n",
    "find_that_play_word('fumble', interesting_plays_df)\n",
    "find_that_play_word('ruling', interesting_plays_df)\n",
    "find_that_play_word('fake punt', interesting_plays_df)\n",
    "find_that_play_word('safety', interesting_plays_df)\n",
    "find_that_play_word('up the middle', interesting_plays_df)\n",
    "find_that_play_word('pass', interesting_plays_df)\n",
    "find_that_play_word('right end', interesting_plays_df)\n",
    "find_that_play_word('left end', interesting_plays_df)\n",
    "find_that_play_word('right guard', interesting_plays_df)\n",
    "find_that_play_word('direct snap', interesting_plays_df)\n",
    "find_that_play_word('touchdown nullified', interesting_plays_df)"
   ]
  },
  {
   "cell_type": "code",
   "execution_count": 47,
   "metadata": {},
   "outputs": [
    {
     "name": "stdout",
     "output_type": "stream",
     "text": [
      "(2627, 5)\n"
     ]
    },
    {
     "data": {
      "text/html": [
       "<div>\n",
       "<style scoped>\n",
       "    .dataframe tbody tr th:only-of-type {\n",
       "        vertical-align: middle;\n",
       "    }\n",
       "\n",
       "    .dataframe tbody tr th {\n",
       "        vertical-align: top;\n",
       "    }\n",
       "\n",
       "    .dataframe thead th {\n",
       "        text-align: right;\n",
       "    }\n",
       "</style>\n",
       "<table border=\"1\" class=\"dataframe\">\n",
       "  <thead>\n",
       "    <tr style=\"text-align: right;\">\n",
       "      <th></th>\n",
       "      <th>GameKey</th>\n",
       "      <th>PlayID</th>\n",
       "      <th>PlayDescription</th>\n",
       "      <th>Poss_Team</th>\n",
       "      <th>YardLine</th>\n",
       "    </tr>\n",
       "  </thead>\n",
       "  <tbody>\n",
       "    <tr>\n",
       "      <th>0</th>\n",
       "      <td>2</td>\n",
       "      <td>1227</td>\n",
       "      <td>(10:01) C.Jones punts 40 yards to LA 42, Cente...</td>\n",
       "      <td>DAL</td>\n",
       "      <td>DAL 18</td>\n",
       "    </tr>\n",
       "    <tr>\n",
       "      <th>1</th>\n",
       "      <td>3</td>\n",
       "      <td>455</td>\n",
       "      <td>(6:44) (Punt formation) S.Koch punts 54 yards ...</td>\n",
       "      <td>BLT</td>\n",
       "      <td>BLT 32</td>\n",
       "    </tr>\n",
       "    <tr>\n",
       "      <th>2</th>\n",
       "      <td>3</td>\n",
       "      <td>1542</td>\n",
       "      <td>(2:54) (Punt formation) S.Koch punts 45 yards ...</td>\n",
       "      <td>BLT</td>\n",
       "      <td>BLT 34</td>\n",
       "    </tr>\n",
       "    <tr>\n",
       "      <th>3</th>\n",
       "      <td>4</td>\n",
       "      <td>927</td>\n",
       "      <td>(1:53) A.Lee punts 40 yards to GB 27, Center-C...</td>\n",
       "      <td>CLV</td>\n",
       "      <td>CLV 33</td>\n",
       "    </tr>\n",
       "    <tr>\n",
       "      <th>4</th>\n",
       "      <td>4</td>\n",
       "      <td>1725</td>\n",
       "      <td>(2:48) A.Lee punts 66 yards to GB 15, Center-C...</td>\n",
       "      <td>CLV</td>\n",
       "      <td>CLV 19</td>\n",
       "    </tr>\n",
       "  </tbody>\n",
       "</table>\n",
       "</div>"
      ],
      "text/plain": [
       "   GameKey  PlayID                                    PlayDescription  \\\n",
       "0        2    1227  (10:01) C.Jones punts 40 yards to LA 42, Cente...   \n",
       "1        3     455  (6:44) (Punt formation) S.Koch punts 54 yards ...   \n",
       "2        3    1542  (2:54) (Punt formation) S.Koch punts 45 yards ...   \n",
       "3        4     927  (1:53) A.Lee punts 40 yards to GB 27, Center-C...   \n",
       "4        4    1725  (2:48) A.Lee punts 66 yards to GB 15, Center-C...   \n",
       "\n",
       "  Poss_Team YardLine  \n",
       "0       DAL   DAL 18  \n",
       "1       BLT   BLT 32  \n",
       "2       BLT   BLT 34  \n",
       "3       CLV   CLV 33  \n",
       "4       CLV   CLV 19  "
      ]
     },
     "execution_count": 47,
     "metadata": {},
     "output_type": "execute_result"
    }
   ],
   "source": [
    "# Create a dataset where plays are currently assumed to be actual punt returns \n",
    "where_condition = (\n",
    "    (interesting_plays_df['muffs'] == 1) |\n",
    "    (interesting_plays_df['blocked by'] == 1) |\n",
    "    (interesting_plays_df['touchdown.'] == 1) |\n",
    "    (interesting_plays_df['fumble'] == 1) |\n",
    "    (interesting_plays_df['ruling'] == 1) |\n",
    "    (interesting_plays_df['fake punt'] == 1) |\n",
    "    (interesting_plays_df['safety'] == 1) |\n",
    "    (interesting_plays_df['up the middle'] == 1) |\n",
    "    (interesting_plays_df['pass'] == 1) |\n",
    "    (interesting_plays_df['right end'] == 1) |\n",
    "    (interesting_plays_df['left end'] == 1) |\n",
    "    (interesting_plays_df['right guard'] == 1) |\n",
    "    (interesting_plays_df['direct snap'] == 1) |\n",
    "    (interesting_plays_df['touchdown nullified'] == 1))\n",
    "remainder_df = interesting_plays_df[~where_condition].reset_index(drop=True)\n",
    "\n",
    "# Isolate touchdowns that were from punt returns\n",
    "where_condition = ((interesting_plays_df['touchdown.'] == 1) &\n",
    "                   (interesting_plays_df['blocked by'] == 0) &\n",
    "                   (interesting_plays_df['direct snap'] == 0) &\n",
    "                   (interesting_plays_df['right guard'] == 0) &\n",
    "                   (interesting_plays_df['fumble'] == 0) &\n",
    "                   (interesting_plays_df['pass'] == 0))\n",
    "td_df = interesting_plays_df[where_condition].reset_index(drop=True)\n",
    "\n",
    "# Combine touchdown punt returns and regular punt returns\n",
    "remainder_df = pd.concat([remainder_df, td_df], axis=0)\n",
    "\n",
    "# Drop unnecessary columns\n",
    "keeper_columns = ['GameKey', 'PlayID', 'PlayDescription', 'Poss_Team', 'YardLine']\n",
    "remainder_df = remainder_df[keeper_columns]\n",
    "remainder_df.reset_index(inplace=True, drop=True)\n",
    "print(remainder_df.shape)\n",
    "remainder_df.head()"
   ]
  },
  {
   "cell_type": "code",
   "execution_count": 48,
   "metadata": {},
   "outputs": [
    {
     "name": "stdout",
     "output_type": "stream",
     "text": [
      "# of penalty on occuring on a punt play: 531\n"
     ]
    }
   ],
   "source": [
    "# Just for reference if you want to filter return plays that have a penalty\n",
    "find_that_play_word('penalty on', remainder_df)"
   ]
  },
  {
   "cell_type": "markdown",
   "metadata": {},
   "source": [
    "- So now we have a condensed set of punts that result in some return minus the above filtered 'interesting' plays.\n",
    "- We'll now look at this set of plays and extract some information from the 'PlayDescription'"
   ]
  },
  {
   "cell_type": "markdown",
   "metadata": {},
   "source": [
    "### Play Description Parsing\n",
    "- The following work-up/analysis does not adjust for penalties on the play. I know this isn't clean and big returns on punts do have a pretty good chance of a penalty was helping with the success of the return, but I'm only parsing the PlayDescription to get a rough idea of the return amounts and potential value of a return. I'll go back and parse more properly in future versions of the notebook."
   ]
  },
  {
   "cell_type": "code",
   "execution_count": 49,
   "metadata": {},
   "outputs": [],
   "source": [
    "# for i, element in enumerate(remainder_df['PlayDescription']):\n",
    "#     print(i)\n",
    "#     print(element)"
   ]
  },
  {
   "cell_type": "code",
   "execution_count": 50,
   "metadata": {},
   "outputs": [],
   "source": [
    "'''\n",
    "Need to parse through PlayDescription in order to get return distance of play and distance to touchdown\n",
    "Patterns that return two distances for yardage on play are lateral plays\n",
    "'''\n",
    "\n",
    "# Regex for them patterns\n",
    "punt_distance_pattern = re.compile(r'punts ((-?)\\d+) yards? to(\\s| \\w+ )((-?)\\d+)')\n",
    "yards_gained_pattern = re.compile(r'for ((-?)\\d+) yard')\n",
    "no_yards_gained_pattern = re.compile(r'([A-Z]\\w+) ((-?)\\d+) (for no gain)')\n",
    "\n",
    "remainder_df['punt distance'] = 0\n",
    "remainder_df['side ball lands'] = ''\n",
    "remainder_df['yardline received'] = 0\n",
    "remainder_df['yardage on play'] = 0\n",
    "\n",
    "for i, element in enumerate(remainder_df['PlayDescription']):\n",
    "\n",
    "    punt_distance = punt_distance_pattern.findall(element) # ('Punt distance', '', 'Side Ball Lands', 'Yardline Received')\n",
    "    yards_gained = yards_gained_pattern.findall(element)   # ('Yardage on Play', '', )\n",
    "    no_gain = no_yards_gained_pattern.findall(element)\n",
    "    \n",
    "#     print(punt_distance)\n",
    "#     print(yards_gained)\n",
    "#     print(no_gain)\n",
    "    \n",
    "    # A play that results in yards gained or lossed\n",
    "    if yards_gained != []:\n",
    "        remainder_df.loc[i, 'punt distance'] = int(punt_distance[0][0])\n",
    "        remainder_df.loc[i, 'side ball lands'] = punt_distance[0][2]\n",
    "        remainder_df.loc[i, 'yardline received'] = int(punt_distance[0][3])\n",
    "        \n",
    "        # A normal return\n",
    "        if len(yards_gained) == 1:\n",
    "            remainder_df.loc[i, 'yardage on play'] = int(yards_gained[0][0])\n",
    "            \n",
    "        # For laterals\n",
    "        else:\n",
    "            remainder_df.loc[i, 'yardage on play'] = int(yards_gained[0][0]) + int(yards_gained[1][0])\n",
    "            \n",
    "    # A play that resulted in no gain in yards\n",
    "    elif no_gain != []:\n",
    "        remainder_df.loc[i, 'punt distance'] = int(punt_distance[0][0])\n",
    "        remainder_df.loc[i, 'side ball lands'] = punt_distance[0][2]\n",
    "        remainder_df.loc[i, 'yardline received'] = int(punt_distance[0][3])\n",
    "\n",
    "#     print('---')"
   ]
  },
  {
   "cell_type": "code",
   "execution_count": 51,
   "metadata": {},
   "outputs": [],
   "source": [
    "# Doing some hand processing of specific returns where the yardage gained on return was\n",
    "# officially changed (I know not elegant, especially if dataframe indices change overtime)\n",
    "culprits = [476, 891, 1062, 1064, 1096, 2193]\n",
    "yard_changes = [14, 6, 0, 3, 0, 4]\n",
    "for i, element in enumerate(culprits):\n",
    "    remainder_df.loc[element, 'yardage on play'] = yard_changes[i]"
   ]
  },
  {
   "cell_type": "markdown",
   "metadata": {},
   "source": [
    "- We'll calculate distance to a touchdown for each play to create a reward metric for each play\n",
    "- A more proper metric for the value of a punt return should also take into account the current score, time remaining, playoff implications, and return by the home team or not just to name a few factors. I don't do this just to have a more simplified model for reward. \n",
    "    - Note that this model is just a proportion, which is also a bit flawed in the sense that if a kick is a very short kick in the punt teams territory, the chances of a reasonable return are very low although the value of the play both for the return team and fans of that team are high despite a 'reward' from my calculation will show up as being low. "
   ]
  },
  {
   "cell_type": "code",
   "execution_count": 52,
   "metadata": {},
   "outputs": [
    {
     "name": "stdout",
     "output_type": "stream",
     "text": [
      "Number of plays where punt team is punting in opponents territory: 46\n",
      "Proportion of plays that are in opponents territory: 0.017510468214693566\n"
     ]
    }
   ],
   "source": [
    "# Check if punt team is always punting from their side of the field\n",
    "count = 0\n",
    "for i in range(len(remainder_df)):\n",
    "    team_name_len = len(remainder_df.loc[i, 'Poss_Team'])\n",
    "    if remainder_df.loc[i, 'Poss_Team'] == remainder_df.loc[i, 'YardLine'][:team_name_len]:\n",
    "        continue\n",
    "    else:\n",
    "        count += 1\n",
    "print(\"Number of plays where punt team is punting in opponents territory:\", count)\n",
    "print(\"Proportion of plays that are in opponents territory:\", count/remainder_df.shape[0])"
   ]
  },
  {
   "cell_type": "code",
   "execution_count": 53,
   "metadata": {},
   "outputs": [],
   "source": [
    "def calculate_distance_to_td (data_sample):\n",
    "    '''Calculate distance needed for touchdown for each play'''\n",
    "    # Punts that land on the 50 yard line\n",
    "    if data_sample['yardline received'] == 50:\n",
    "        distance_to_touchdown = 50\n",
    "    \n",
    "    # Punting on punting team's side of field\n",
    "    elif data_sample['Poss_Team'] == data_sample['YardLine'][:len(data_sample['Poss_Team'])]:\n",
    "        # Ball remains on punt team's side of field\n",
    "        if data_sample['side ball lands'] == data_sample['YardLine'][:len(data_sample['Poss_Team'])]:\n",
    "            distance_to_touchdown = data_sample['yardline received']\n",
    "        # Ball is punted to return team's side of field\n",
    "        else:\n",
    "            distance_to_touchdown = (50 - data_sample['yardline received']) + 50\n",
    "            \n",
    "    # Punting on opponents side of field\n",
    "    else:\n",
    "        distance_to_touchdown = (50 - data_sample['yardline received']) + 50\n",
    "    return distance_to_touchdown"
   ]
  },
  {
   "cell_type": "code",
   "execution_count": 54,
   "metadata": {},
   "outputs": [
    {
     "data": {
      "text/html": [
       "<div>\n",
       "<style scoped>\n",
       "    .dataframe tbody tr th:only-of-type {\n",
       "        vertical-align: middle;\n",
       "    }\n",
       "\n",
       "    .dataframe tbody tr th {\n",
       "        vertical-align: top;\n",
       "    }\n",
       "\n",
       "    .dataframe thead th {\n",
       "        text-align: right;\n",
       "    }\n",
       "</style>\n",
       "<table border=\"1\" class=\"dataframe\">\n",
       "  <thead>\n",
       "    <tr style=\"text-align: right;\">\n",
       "      <th></th>\n",
       "      <th>GameKey</th>\n",
       "      <th>PlayID</th>\n",
       "      <th>PlayDescription</th>\n",
       "      <th>Poss_Team</th>\n",
       "      <th>YardLine</th>\n",
       "      <th>penalty on</th>\n",
       "      <th>punt distance</th>\n",
       "      <th>side ball lands</th>\n",
       "      <th>yardline received</th>\n",
       "      <th>yardage on play</th>\n",
       "      <th>reward</th>\n",
       "    </tr>\n",
       "  </thead>\n",
       "  <tbody>\n",
       "    <tr>\n",
       "      <th>0</th>\n",
       "      <td>2</td>\n",
       "      <td>1227</td>\n",
       "      <td>(10:01) C.Jones punts 40 yards to LA 42, Cente...</td>\n",
       "      <td>DAL</td>\n",
       "      <td>DAL 18</td>\n",
       "      <td>0</td>\n",
       "      <td>40</td>\n",
       "      <td>LA</td>\n",
       "      <td>42</td>\n",
       "      <td>25</td>\n",
       "      <td>0.431034</td>\n",
       "    </tr>\n",
       "    <tr>\n",
       "      <th>1</th>\n",
       "      <td>3</td>\n",
       "      <td>455</td>\n",
       "      <td>(6:44) (Punt formation) S.Koch punts 54 yards ...</td>\n",
       "      <td>BLT</td>\n",
       "      <td>BLT 32</td>\n",
       "      <td>0</td>\n",
       "      <td>54</td>\n",
       "      <td>CAR</td>\n",
       "      <td>14</td>\n",
       "      <td>9</td>\n",
       "      <td>0.104651</td>\n",
       "    </tr>\n",
       "    <tr>\n",
       "      <th>2</th>\n",
       "      <td>3</td>\n",
       "      <td>1542</td>\n",
       "      <td>(2:54) (Punt formation) S.Koch punts 45 yards ...</td>\n",
       "      <td>BLT</td>\n",
       "      <td>BLT 34</td>\n",
       "      <td>1</td>\n",
       "      <td>45</td>\n",
       "      <td>CAR</td>\n",
       "      <td>21</td>\n",
       "      <td>-1</td>\n",
       "      <td>-0.012658</td>\n",
       "    </tr>\n",
       "    <tr>\n",
       "      <th>3</th>\n",
       "      <td>4</td>\n",
       "      <td>927</td>\n",
       "      <td>(1:53) A.Lee punts 40 yards to GB 27, Center-C...</td>\n",
       "      <td>CLV</td>\n",
       "      <td>CLV 33</td>\n",
       "      <td>0</td>\n",
       "      <td>40</td>\n",
       "      <td>GB</td>\n",
       "      <td>27</td>\n",
       "      <td>1</td>\n",
       "      <td>0.013699</td>\n",
       "    </tr>\n",
       "    <tr>\n",
       "      <th>4</th>\n",
       "      <td>4</td>\n",
       "      <td>1725</td>\n",
       "      <td>(2:48) A.Lee punts 66 yards to GB 15, Center-C...</td>\n",
       "      <td>CLV</td>\n",
       "      <td>CLV 19</td>\n",
       "      <td>0</td>\n",
       "      <td>66</td>\n",
       "      <td>GB</td>\n",
       "      <td>15</td>\n",
       "      <td>5</td>\n",
       "      <td>0.058824</td>\n",
       "    </tr>\n",
       "  </tbody>\n",
       "</table>\n",
       "</div>"
      ],
      "text/plain": [
       "   GameKey  PlayID                                    PlayDescription  \\\n",
       "0        2    1227  (10:01) C.Jones punts 40 yards to LA 42, Cente...   \n",
       "1        3     455  (6:44) (Punt formation) S.Koch punts 54 yards ...   \n",
       "2        3    1542  (2:54) (Punt formation) S.Koch punts 45 yards ...   \n",
       "3        4     927  (1:53) A.Lee punts 40 yards to GB 27, Center-C...   \n",
       "4        4    1725  (2:48) A.Lee punts 66 yards to GB 15, Center-C...   \n",
       "\n",
       "  Poss_Team YardLine  penalty on  punt distance side ball lands  \\\n",
       "0       DAL   DAL 18           0             40             LA    \n",
       "1       BLT   BLT 32           0             54            CAR    \n",
       "2       BLT   BLT 34           1             45            CAR    \n",
       "3       CLV   CLV 33           0             40             GB    \n",
       "4       CLV   CLV 19           0             66             GB    \n",
       "\n",
       "   yardline received  yardage on play    reward  \n",
       "0                 42               25  0.431034  \n",
       "1                 14                9  0.104651  \n",
       "2                 21               -1 -0.012658  \n",
       "3                 27                1  0.013699  \n",
       "4                 15                5  0.058824  "
      ]
     },
     "execution_count": 54,
     "metadata": {},
     "output_type": "execute_result"
    }
   ],
   "source": [
    "# Calculate the value of a punt return based solely on the proportion of yardage gained on the return\n",
    "# Relative to how many yards are needed to score a touchdown from where the punt initially lands\n",
    "remainder_df['reward'] = 0\n",
    "for i in range(len(remainder_df)):\n",
    "    yards_on_return = remainder_df.loc[i, 'yardage on play']\n",
    "    distance_to_touchdown = calculate_distance_to_td(remainder_df.iloc[i, :])\n",
    "    remainder_df.loc[i, 'reward'] = yards_on_return / distance_to_touchdown\n",
    "#     print('Value of return:', yards_on_return / distance_to_touchdown)\n",
    "\n",
    "remainder_df.head()"
   ]
  },
  {
   "cell_type": "code",
   "execution_count": 55,
   "metadata": {},
   "outputs": [],
   "source": [
    "# Create dataset for external usage\n",
    "remainder_df.to_csv('data/play-punt_returns.csv', index=False)"
   ]
  },
  {
   "cell_type": "code",
   "execution_count": 56,
   "metadata": {},
   "outputs": [],
   "source": [
    "remainder_df = pd.read_csv('data/play-punt_returns.csv')"
   ]
  },
  {
   "cell_type": "markdown",
   "metadata": {},
   "source": [
    "### PLAYER PUNT DATA\n",
    "- <b>Player Punt Data</b>: Player level data that specifies the traditional football position for each player. Each player is identified using his GSISID.\n",
    "- <b>GSISID</b>: unique id for each player\n",
    "- This dataset is mostly useful for identifying particular players in the videos provided\n",
    "- Note that some players are shown to have multiple jersey numbers associated with them"
   ]
  },
  {
   "cell_type": "code",
   "execution_count": 57,
   "metadata": {},
   "outputs": [
    {
     "name": "stdout",
     "output_type": "stream",
     "text": [
      "(3259, 3)\n",
      "      GSISID Number Position\n",
      "186    28121     22       RB\n",
      "452    28121    31w       RB\n",
      "1114   28121     28       RB\n",
      "1353   28121      6       RB\n",
      "2051   28121    31o       RB\n"
     ]
    }
   ],
   "source": [
    "player_df = pd.read_csv('data/player_punt_data.csv')\n",
    "print(player_df.shape)\n",
    "print(player_df[player_df['GSISID'] == 28121])\n",
    "\n",
    "# Clear up memory\n",
    "del player_df"
   ]
  },
  {
   "cell_type": "markdown",
   "metadata": {},
   "source": [
    "### PLAY PLAYER ROLE DATA\n",
    "- <b>Play Player Role Data</b>: Play and player level data that specifies a punt specific player role. This dataset will specify each player that played in each play. A player’s role in a play is uniquely defined by the Gamekey PlayID and GSISID."
   ]
  },
  {
   "cell_type": "code",
   "execution_count": 58,
   "metadata": {},
   "outputs": [
    {
     "name": "stdout",
     "output_type": "stream",
     "text": [
      "(146573, 5)\n"
     ]
    },
    {
     "data": {
      "text/html": [
       "<div>\n",
       "<style scoped>\n",
       "    .dataframe tbody tr th:only-of-type {\n",
       "        vertical-align: middle;\n",
       "    }\n",
       "\n",
       "    .dataframe tbody tr th {\n",
       "        vertical-align: top;\n",
       "    }\n",
       "\n",
       "    .dataframe thead th {\n",
       "        text-align: right;\n",
       "    }\n",
       "</style>\n",
       "<table border=\"1\" class=\"dataframe\">\n",
       "  <thead>\n",
       "    <tr style=\"text-align: right;\">\n",
       "      <th></th>\n",
       "      <th>Season_Year</th>\n",
       "      <th>GameKey</th>\n",
       "      <th>PlayID</th>\n",
       "      <th>GSISID</th>\n",
       "      <th>Role</th>\n",
       "    </tr>\n",
       "  </thead>\n",
       "  <tbody>\n",
       "    <tr>\n",
       "      <th>146571</th>\n",
       "      <td>2017</td>\n",
       "      <td>414</td>\n",
       "      <td>3425</td>\n",
       "      <td>33704</td>\n",
       "      <td>PRG</td>\n",
       "    </tr>\n",
       "    <tr>\n",
       "      <th>146572</th>\n",
       "      <td>2017</td>\n",
       "      <td>414</td>\n",
       "      <td>2210</td>\n",
       "      <td>33704</td>\n",
       "      <td>PRG</td>\n",
       "    </tr>\n",
       "  </tbody>\n",
       "</table>\n",
       "</div>"
      ],
      "text/plain": [
       "        Season_Year  GameKey  PlayID  GSISID Role\n",
       "146571         2017      414    3425   33704  PRG\n",
       "146572         2017      414    2210   33704  PRG"
      ]
     },
     "execution_count": 58,
     "metadata": {},
     "output_type": "execute_result"
    }
   ],
   "source": [
    "play_player_role_df = pd.read_csv('data/play_player_role_data.csv')\n",
    "print(play_player_role_df.shape)\n",
    "play_player_role_df.tail(2)"
   ]
  },
  {
   "cell_type": "markdown",
   "metadata": {},
   "source": [
    "# NGS DATA\n",
    "- <b>Next Gen Stats</b>:player level data that describes the movement of each player during a play. NGS data is processed by BIOCORE to produce relevant speed and direction data. The NGS data is identified using GameKey, PlayID, and GSISID. Player data for each play is provided as a function of time (Time) for the duration of the play.\n",
    "- Players are recorded at every <b>10th of a second or 100 milliseconds</b>\n",
    "- Field dimensions: 120 yards by 53.3 yards\n",
    "- Speed can be calculated with Time and dis\n",
    "- <b>'Event'</b> record events during the play such as a ball snap, the punt, when a punt is received, etc.\n",
    "\n",
    "# <a id='ngs_analysis'>Analyze NGS play data</a>\n",
    "\n",
    "[Plot Return Yardage](#return_yardage)\n",
    "- We'll be taking our condensed set of games and natural joining with the NGS data for each year and then recombining data so we have a dataset of 'cleanish' punt returns. We'll use this data to get conditional statistics on returns given distance of closest punt player to punt receiver. We'll use the assumption that the furthest player from the punt at the 'event': 'punt_returned' is the one who actually is receiving the ball.\n",
    "- Consider events, speed, and player proximities"
   ]
  },
  {
   "cell_type": "code",
   "execution_count": 60,
   "metadata": {},
   "outputs": [
    {
     "name": "stdout",
     "output_type": "stream",
     "text": [
      "# of unique plays according to play_player_role dataset: 6670\n",
      "# of roles in dataset: 52\n"
     ]
    }
   ],
   "source": [
    "# How many unique plays in play_player_role dataset?\n",
    "print('# of unique plays according to play_player_role dataset:',\n",
    "      len(play_player_role_df.groupby(['GameKey','PlayID']).size().reset_index().rename(columns={0:'count'})))\n",
    "\n",
    "# How many roles are there?\n",
    "print('# of roles in dataset:', len(play_player_role_df['Role'].value_counts()))"
   ]
  },
  {
   "cell_type": "markdown",
   "metadata": {},
   "source": [
    "- NGS data exists for 6666 punts \n",
    "- Play Information dataset has 6681 punts accounted for\n",
    "- I just wanted to note that there is some missing data between the datasets"
   ]
  },
  {
   "cell_type": "markdown",
   "metadata": {},
   "source": [
    "### So what do I care about?\n",
    "- We're going to look at how players are positioned given a particular play event. We'll look specifically at the event 'punt_received' to see how close the punt team players are to the punt receiver. I am interested in whether or not if there is much 'value' or 'reward' for returns in which an opposing player is relatively close (<= 8 yards) to the punt receiver. This is done to better understand how much value would be lost if a rule in which a 'downed ball' would be called if punt team players are too close to the punt receiver before the ball is caught.\n",
    "    - Reasons for having a restricted zone for the PR is to hopefully negate up to <b>19 of the concussions</b> that are in the concussion dataset. Just watch the film to see which ones this pertains too.\n",
    "    - Having a restricted zone would help to slow down the punt play and allow the PR around a second to decide what to do after the catch. This could potentially temper player speeds as they approach the PR to prevent a penalty from occurring."
   ]
  },
  {
   "cell_type": "code",
   "execution_count": 61,
   "metadata": {},
   "outputs": [
    {
     "data": {
      "text/html": [
       "<div>\n",
       "<style scoped>\n",
       "    .dataframe tbody tr th:only-of-type {\n",
       "        vertical-align: middle;\n",
       "    }\n",
       "\n",
       "    .dataframe tbody tr th {\n",
       "        vertical-align: top;\n",
       "    }\n",
       "\n",
       "    .dataframe thead th {\n",
       "        text-align: right;\n",
       "    }\n",
       "</style>\n",
       "<table border=\"1\" class=\"dataframe\">\n",
       "  <thead>\n",
       "    <tr style=\"text-align: right;\">\n",
       "      <th></th>\n",
       "      <th>GameKey</th>\n",
       "      <th>PlayID</th>\n",
       "      <th>PlayDescription</th>\n",
       "      <th>Poss_Team</th>\n",
       "      <th>YardLine</th>\n",
       "      <th>penalty on</th>\n",
       "      <th>punt distance</th>\n",
       "      <th>side ball lands</th>\n",
       "      <th>yardline received</th>\n",
       "      <th>yardage on play</th>\n",
       "      <th>reward</th>\n",
       "      <th>GSISID</th>\n",
       "      <th>Time</th>\n",
       "      <th>x</th>\n",
       "      <th>y</th>\n",
       "      <th>dis</th>\n",
       "      <th>o</th>\n",
       "      <th>dir</th>\n",
       "      <th>Event</th>\n",
       "      <th>Role</th>\n",
       "    </tr>\n",
       "  </thead>\n",
       "  <tbody>\n",
       "    <tr>\n",
       "      <th>0</th>\n",
       "      <td>3</td>\n",
       "      <td>455</td>\n",
       "      <td>(6:44) (Punt formation) S.Koch punts 54 yards ...</td>\n",
       "      <td>BLT</td>\n",
       "      <td>BLT 32</td>\n",
       "      <td>0</td>\n",
       "      <td>54</td>\n",
       "      <td>CAR</td>\n",
       "      <td>14</td>\n",
       "      <td>9</td>\n",
       "      <td>0.104651</td>\n",
       "      <td>31762.0</td>\n",
       "      <td>2016-08-11 23:50:54.300</td>\n",
       "      <td>40.450001</td>\n",
       "      <td>30.990000</td>\n",
       "      <td>0.01</td>\n",
       "      <td>343.500000</td>\n",
       "      <td>74.970001</td>\n",
       "      <td>NaN</td>\n",
       "      <td>PLG</td>\n",
       "    </tr>\n",
       "    <tr>\n",
       "      <th>1</th>\n",
       "      <td>3</td>\n",
       "      <td>455</td>\n",
       "      <td>(6:44) (Punt formation) S.Koch punts 54 yards ...</td>\n",
       "      <td>BLT</td>\n",
       "      <td>BLT 32</td>\n",
       "      <td>0</td>\n",
       "      <td>54</td>\n",
       "      <td>CAR</td>\n",
       "      <td>14</td>\n",
       "      <td>9</td>\n",
       "      <td>0.104651</td>\n",
       "      <td>27539.0</td>\n",
       "      <td>2016-08-11 23:50:54.300</td>\n",
       "      <td>38.740002</td>\n",
       "      <td>27.600000</td>\n",
       "      <td>0.13</td>\n",
       "      <td>9.730000</td>\n",
       "      <td>242.610001</td>\n",
       "      <td>NaN</td>\n",
       "      <td>PPR</td>\n",
       "    </tr>\n",
       "    <tr>\n",
       "      <th>2</th>\n",
       "      <td>3</td>\n",
       "      <td>455</td>\n",
       "      <td>(6:44) (Punt formation) S.Koch punts 54 yards ...</td>\n",
       "      <td>BLT</td>\n",
       "      <td>BLT 32</td>\n",
       "      <td>0</td>\n",
       "      <td>54</td>\n",
       "      <td>CAR</td>\n",
       "      <td>14</td>\n",
       "      <td>9</td>\n",
       "      <td>0.104651</td>\n",
       "      <td>32573.0</td>\n",
       "      <td>2016-08-11 23:50:54.300</td>\n",
       "      <td>40.320000</td>\n",
       "      <td>27.320000</td>\n",
       "      <td>0.02</td>\n",
       "      <td>23.820000</td>\n",
       "      <td>269.019989</td>\n",
       "      <td>NaN</td>\n",
       "      <td>PRT</td>\n",
       "    </tr>\n",
       "    <tr>\n",
       "      <th>3</th>\n",
       "      <td>3</td>\n",
       "      <td>455</td>\n",
       "      <td>(6:44) (Punt formation) S.Koch punts 54 yards ...</td>\n",
       "      <td>BLT</td>\n",
       "      <td>BLT 32</td>\n",
       "      <td>0</td>\n",
       "      <td>54</td>\n",
       "      <td>CAR</td>\n",
       "      <td>14</td>\n",
       "      <td>9</td>\n",
       "      <td>0.104651</td>\n",
       "      <td>30458.0</td>\n",
       "      <td>2016-08-11 23:50:54.300</td>\n",
       "      <td>40.490002</td>\n",
       "      <td>32.279999</td>\n",
       "      <td>0.01</td>\n",
       "      <td>329.540009</td>\n",
       "      <td>45.400002</td>\n",
       "      <td>NaN</td>\n",
       "      <td>PLT</td>\n",
       "    </tr>\n",
       "    <tr>\n",
       "      <th>4</th>\n",
       "      <td>3</td>\n",
       "      <td>455</td>\n",
       "      <td>(6:44) (Punt formation) S.Koch punts 54 yards ...</td>\n",
       "      <td>BLT</td>\n",
       "      <td>BLT 32</td>\n",
       "      <td>0</td>\n",
       "      <td>54</td>\n",
       "      <td>CAR</td>\n",
       "      <td>14</td>\n",
       "      <td>9</td>\n",
       "      <td>0.104651</td>\n",
       "      <td>27557.0</td>\n",
       "      <td>2016-08-11 23:50:54.300</td>\n",
       "      <td>41.200001</td>\n",
       "      <td>29.910000</td>\n",
       "      <td>0.01</td>\n",
       "      <td>10.250000</td>\n",
       "      <td>175.419998</td>\n",
       "      <td>NaN</td>\n",
       "      <td>PLS</td>\n",
       "    </tr>\n",
       "  </tbody>\n",
       "</table>\n",
       "</div>"
      ],
      "text/plain": [
       "   GameKey  PlayID                                    PlayDescription  \\\n",
       "0        3     455  (6:44) (Punt formation) S.Koch punts 54 yards ...   \n",
       "1        3     455  (6:44) (Punt formation) S.Koch punts 54 yards ...   \n",
       "2        3     455  (6:44) (Punt formation) S.Koch punts 54 yards ...   \n",
       "3        3     455  (6:44) (Punt formation) S.Koch punts 54 yards ...   \n",
       "4        3     455  (6:44) (Punt formation) S.Koch punts 54 yards ...   \n",
       "\n",
       "  Poss_Team YardLine  penalty on  punt distance side ball lands  \\\n",
       "0       BLT   BLT 32           0             54            CAR    \n",
       "1       BLT   BLT 32           0             54            CAR    \n",
       "2       BLT   BLT 32           0             54            CAR    \n",
       "3       BLT   BLT 32           0             54            CAR    \n",
       "4       BLT   BLT 32           0             54            CAR    \n",
       "\n",
       "   yardline received  yardage on play    reward   GSISID  \\\n",
       "0                 14                9  0.104651  31762.0   \n",
       "1                 14                9  0.104651  27539.0   \n",
       "2                 14                9  0.104651  32573.0   \n",
       "3                 14                9  0.104651  30458.0   \n",
       "4                 14                9  0.104651  27557.0   \n",
       "\n",
       "                      Time          x          y   dis           o  \\\n",
       "0  2016-08-11 23:50:54.300  40.450001  30.990000  0.01  343.500000   \n",
       "1  2016-08-11 23:50:54.300  38.740002  27.600000  0.13    9.730000   \n",
       "2  2016-08-11 23:50:54.300  40.320000  27.320000  0.02   23.820000   \n",
       "3  2016-08-11 23:50:54.300  40.490002  32.279999  0.01  329.540009   \n",
       "4  2016-08-11 23:50:54.300  41.200001  29.910000  0.01   10.250000   \n",
       "\n",
       "          dir Event Role  \n",
       "0   74.970001   NaN  PLG  \n",
       "1  242.610001   NaN  PPR  \n",
       "2  269.019989   NaN  PRT  \n",
       "3   45.400002   NaN  PLT  \n",
       "4  175.419998   NaN  PLS  "
      ]
     },
     "execution_count": 61,
     "metadata": {},
     "output_type": "execute_result"
    }
   ],
   "source": [
    "# Dataset was preprocessed in a separate notebook\n",
    "condensed_ngs = pd.read_csv('data/NGS-punt_returns.csv')\n",
    "condensed_ngs.head()"
   ]
  },
  {
   "cell_type": "markdown",
   "metadata": {},
   "source": [
    "## LINK TO PREPROCESSING NOTEBOOK * * * \n",
    "\n",
    "## LINK TO PUNT RETURN ANALYSIS NOTEBOOK * * * "
   ]
  },
  {
   "cell_type": "code",
   "execution_count": 62,
   "metadata": {},
   "outputs": [],
   "source": [
    "def event_df_creation(df, event):\n",
    "    '''Get a new dataframe with data pertinent to a particular event'''\n",
    "    new_df = df[df['Event'] == event].reset_index(drop=True)\n",
    "    unique_ids = new_df.groupby(['GameKey','PlayID']).size().reset_index().rename(columns={0:'count'})\n",
    "    return new_df, unique_ids"
   ]
  },
  {
   "cell_type": "code",
   "execution_count": 63,
   "metadata": {},
   "outputs": [
    {
     "name": "stdout",
     "output_type": "stream",
     "text": [
      "(57386, 20)\n"
     ]
    },
    {
     "data": {
      "text/html": [
       "<div>\n",
       "<style scoped>\n",
       "    .dataframe tbody tr th:only-of-type {\n",
       "        vertical-align: middle;\n",
       "    }\n",
       "\n",
       "    .dataframe tbody tr th {\n",
       "        vertical-align: top;\n",
       "    }\n",
       "\n",
       "    .dataframe thead th {\n",
       "        text-align: right;\n",
       "    }\n",
       "</style>\n",
       "<table border=\"1\" class=\"dataframe\">\n",
       "  <thead>\n",
       "    <tr style=\"text-align: right;\">\n",
       "      <th></th>\n",
       "      <th>GameKey</th>\n",
       "      <th>PlayID</th>\n",
       "      <th>PlayDescription</th>\n",
       "      <th>Poss_Team</th>\n",
       "      <th>YardLine</th>\n",
       "      <th>penalty on</th>\n",
       "      <th>punt distance</th>\n",
       "      <th>side ball lands</th>\n",
       "      <th>yardline received</th>\n",
       "      <th>yardage on play</th>\n",
       "      <th>reward</th>\n",
       "      <th>GSISID</th>\n",
       "      <th>Time</th>\n",
       "      <th>x</th>\n",
       "      <th>y</th>\n",
       "      <th>dis</th>\n",
       "      <th>o</th>\n",
       "      <th>dir</th>\n",
       "      <th>Event</th>\n",
       "      <th>Role</th>\n",
       "    </tr>\n",
       "  </thead>\n",
       "  <tbody>\n",
       "    <tr>\n",
       "      <th>0</th>\n",
       "      <td>3</td>\n",
       "      <td>455</td>\n",
       "      <td>(6:44) (Punt formation) S.Koch punts 54 yards ...</td>\n",
       "      <td>BLT</td>\n",
       "      <td>BLT 32</td>\n",
       "      <td>0</td>\n",
       "      <td>54</td>\n",
       "      <td>CAR</td>\n",
       "      <td>14</td>\n",
       "      <td>9</td>\n",
       "      <td>0.104651</td>\n",
       "      <td>31338.0</td>\n",
       "      <td>2016-08-11 23:51:08.400</td>\n",
       "      <td>64.199997</td>\n",
       "      <td>9.53</td>\n",
       "      <td>0.91</td>\n",
       "      <td>8.75</td>\n",
       "      <td>101.239998</td>\n",
       "      <td>punt_received</td>\n",
       "      <td>PRW</td>\n",
       "    </tr>\n",
       "  </tbody>\n",
       "</table>\n",
       "</div>"
      ],
      "text/plain": [
       "   GameKey  PlayID                                    PlayDescription  \\\n",
       "0        3     455  (6:44) (Punt formation) S.Koch punts 54 yards ...   \n",
       "\n",
       "  Poss_Team YardLine  penalty on  punt distance side ball lands  \\\n",
       "0       BLT   BLT 32           0             54            CAR    \n",
       "\n",
       "   yardline received  yardage on play    reward   GSISID  \\\n",
       "0                 14                9  0.104651  31338.0   \n",
       "\n",
       "                      Time          x     y   dis     o         dir  \\\n",
       "0  2016-08-11 23:51:08.400  64.199997  9.53  0.91  8.75  101.239998   \n",
       "\n",
       "           Event Role  \n",
       "0  punt_received  PRW  "
      ]
     },
     "execution_count": 63,
     "metadata": {},
     "output_type": "execute_result"
    }
   ],
   "source": [
    "# Look at 'punt_received' event\n",
    "punt_received_df, PR_unique_ids = event_df_creation(condensed_ngs, 'punt_received')\n",
    "print(punt_received_df.shape)\n",
    "punt_received_df.head(1)"
   ]
  },
  {
   "cell_type": "code",
   "execution_count": 64,
   "metadata": {},
   "outputs": [
    {
     "name": "stdout",
     "output_type": "stream",
     "text": [
      "(57403, 20)\n"
     ]
    },
    {
     "data": {
      "text/html": [
       "<div>\n",
       "<style scoped>\n",
       "    .dataframe tbody tr th:only-of-type {\n",
       "        vertical-align: middle;\n",
       "    }\n",
       "\n",
       "    .dataframe tbody tr th {\n",
       "        vertical-align: top;\n",
       "    }\n",
       "\n",
       "    .dataframe thead th {\n",
       "        text-align: right;\n",
       "    }\n",
       "</style>\n",
       "<table border=\"1\" class=\"dataframe\">\n",
       "  <thead>\n",
       "    <tr style=\"text-align: right;\">\n",
       "      <th></th>\n",
       "      <th>GameKey</th>\n",
       "      <th>PlayID</th>\n",
       "      <th>PlayDescription</th>\n",
       "      <th>Poss_Team</th>\n",
       "      <th>YardLine</th>\n",
       "      <th>penalty on</th>\n",
       "      <th>punt distance</th>\n",
       "      <th>side ball lands</th>\n",
       "      <th>yardline received</th>\n",
       "      <th>yardage on play</th>\n",
       "      <th>reward</th>\n",
       "      <th>GSISID</th>\n",
       "      <th>Time</th>\n",
       "      <th>x</th>\n",
       "      <th>y</th>\n",
       "      <th>dis</th>\n",
       "      <th>o</th>\n",
       "      <th>dir</th>\n",
       "      <th>Event</th>\n",
       "      <th>Role</th>\n",
       "    </tr>\n",
       "  </thead>\n",
       "  <tbody>\n",
       "    <tr>\n",
       "      <th>0</th>\n",
       "      <td>3</td>\n",
       "      <td>455</td>\n",
       "      <td>(6:44) (Punt formation) S.Koch punts 54 yards ...</td>\n",
       "      <td>BLT</td>\n",
       "      <td>BLT 32</td>\n",
       "      <td>0</td>\n",
       "      <td>54</td>\n",
       "      <td>CAR</td>\n",
       "      <td>14</td>\n",
       "      <td>9</td>\n",
       "      <td>0.104651</td>\n",
       "      <td>24417.0</td>\n",
       "      <td>2016-08-11 23:51:04.000</td>\n",
       "      <td>31.67</td>\n",
       "      <td>29.41</td>\n",
       "      <td>0.18</td>\n",
       "      <td>346.529999</td>\n",
       "      <td>130.740005</td>\n",
       "      <td>punt</td>\n",
       "      <td>P</td>\n",
       "    </tr>\n",
       "  </tbody>\n",
       "</table>\n",
       "</div>"
      ],
      "text/plain": [
       "   GameKey  PlayID                                    PlayDescription  \\\n",
       "0        3     455  (6:44) (Punt formation) S.Koch punts 54 yards ...   \n",
       "\n",
       "  Poss_Team YardLine  penalty on  punt distance side ball lands  \\\n",
       "0       BLT   BLT 32           0             54            CAR    \n",
       "\n",
       "   yardline received  yardage on play    reward   GSISID  \\\n",
       "0                 14                9  0.104651  24417.0   \n",
       "\n",
       "                      Time      x      y   dis           o         dir Event  \\\n",
       "0  2016-08-11 23:51:04.000  31.67  29.41  0.18  346.529999  130.740005  punt   \n",
       "\n",
       "  Role  \n",
       "0    P  "
      ]
     },
     "execution_count": 64,
     "metadata": {},
     "output_type": "execute_result"
    }
   ],
   "source": [
    "# Look at 'punt' event\n",
    "punt_df, P_unique_ids = event_df_creation(condensed_ngs, 'punt')\n",
    "print(punt_df.shape)\n",
    "punt_df.head(1)"
   ]
  },
  {
   "cell_type": "code",
   "execution_count": 65,
   "metadata": {},
   "outputs": [
    {
     "name": "stdout",
     "output_type": "stream",
     "text": [
      "Number of plays with punt_received as an event: 2604 vs 2627 from the remainder dataframe\n",
      "Number of plays with punt as an event: 2617 vs 2627 from the remainder dataframe\n"
     ]
    }
   ],
   "source": [
    "print('Number of plays with punt_received as an event:',\n",
    "      punt_received_df.groupby(['GameKey','PlayID']).size().reset_index().drop(columns=0).shape[0],\n",
    "     'vs', remainder_df.shape[0], 'from the remainder dataframe')\n",
    "print('Number of plays with punt as an event:',\n",
    "      punt_df.groupby(['GameKey','PlayID']).size().reset_index().drop(columns=0).shape[0],\n",
    "     'vs', remainder_df.shape[0], 'from the remainder dataframe')"
   ]
  },
  {
   "cell_type": "markdown",
   "metadata": {},
   "source": [
    "- I'll have to hunt down those 13 plays that have no punt returns and see whatsup later.\n",
    "- So we're gonna calculate the proximity of players to the punt receiver when the ball is consider caught (event = punt_received). This will help to analyze how a plays outcome is affected by the proximity of punt team players to the PR. The <b>assumption</b> for this calculation is that the ball is always received by the PR."
   ]
  },
  {
   "cell_type": "code",
   "execution_count": null,
   "metadata": {},
   "outputs": [],
   "source": [
    "# Let's indicate what team the player is playing on based off player role\n",
    "return_team_positions = ['PR', 'PDL1', 'PDL2', 'PDL3', 'PDL4', 'PDR1', 'PDR2', 'PDR3', 'PDR4', 'VL', 'VR', \n",
    "                         'PLL', 'PLR', 'VRo', 'VRi', 'VLi', 'VLo', 'PLM', 'PLR1', 'PLR2', 'PLL1', 'PLL2',\n",
    "                         'PFB', 'PDL5', 'PDR5', 'PDL6', 'PLR3', 'PLL3', 'PDR6', 'PLM1', 'PDM']\n",
    "punt_team_positions = ['P', 'PLS', 'PPR', 'PLG', 'PRG', 'PLT', 'PRT', 'PLW', 'PRW', 'GL', 'GR',\n",
    "                       'GRo', 'GRi', 'GLi', 'GLo', 'PC', 'PPRo', 'PPRi', 'PPL', 'PPLi', 'PPLo']\n",
    "\n",
    "def label_team(df):\n",
    "    '''Label each player by the team they play on'''\n",
    "    df['team'] = ''\n",
    "\n",
    "    for i, role in enumerate(df['Role']):\n",
    "        print(i, role)\n",
    "        if role in return_team_positions:\n",
    "            df.loc[i, 'team'] = 'return team'\n",
    "        elif role in punt_team_positions:\n",
    "            df.loc[i, 'team'] = 'punt team'\n",
    "        else:\n",
    "            df.loc[i, 'team'] = 'unknown'"
   ]
  },
  {
   "cell_type": "code",
   "execution_count": null,
   "metadata": {},
   "outputs": [],
   "source": [
    "# Label punt_received dataset\n",
    "label_team(punt_received_df)"
   ]
  },
  {
   "cell_type": "code",
   "execution_count": null,
   "metadata": {},
   "outputs": [],
   "source": [
    "def calculate_player_proximity(role_x, role_y, player_x, player_y):\n",
    "    '''Calculate distance of a player to a particular role'''\n",
    "    leg_x = (role_x - player_x) ** 2\n",
    "    leg_y = (role_y - player_y) ** 2\n",
    "    hypotenuse = np.sqrt(leg_x + leg_y)\n",
    "    return hypotenuse"
   ]
  },
  {
   "cell_type": "code",
   "execution_count": null,
   "metadata": {},
   "outputs": [],
   "source": [
    "def calculate_proximity_for_play(df, unique_ids, role):\n",
    "    # Create feature for player proximity\n",
    "    df['proximity_to_' + role] = 0\n",
    "    \n",
    "    for i in range(len(df)):\n",
    "        print(i)\n",
    "        \n",
    "        # Play Information\n",
    "        game_key = df.loc[i, 'GameKey']\n",
    "        play_id = df.loc[i, 'PlayID']\n",
    "        \n",
    "        # Get one unique set of data points related to a single (GameKey, PlayID) pair\n",
    "        where_condition = ((df['GameKey'] == game_key) &\\\n",
    "                           (df['PlayID'] == play_id))\n",
    "        just_view = df[where_condition].reset_index()\n",
    "        \n",
    "        if any(just_view['Role'] == role):\n",
    "            # Get coordinates of a player with a particular role\n",
    "            role_x = just_view.loc[just_view['Role'] == role, 'x'].values[0]\n",
    "            role_y = just_view.loc[just_view['Role'] == role, 'y'].values[0]\n",
    "\n",
    "            # Current Player coordinates\n",
    "            position_x = df.loc[i, 'x']\n",
    "            position_y = df.loc[i, 'y']\n",
    "\n",
    "            # Calculate proximity\n",
    "            proximity = calculate_player_proximity(role_x, role_y, position_x, position_y)\n",
    "            df.loc[i, 'proximity_to_' + role] = proximity\n",
    "\n",
    "        # Plays that don't actually have the particular role represented\n",
    "        else:\n",
    "            continue"
   ]
  },
  {
   "cell_type": "code",
   "execution_count": null,
   "metadata": {},
   "outputs": [],
   "source": [
    "# Calculate proximity to punt receiver for each player\n",
    "calculate_proximity_for_play(punt_received_df, PR_unique_ids, 'PR')"
   ]
  },
  {
   "cell_type": "code",
   "execution_count": null,
   "metadata": {},
   "outputs": [],
   "source": [
    "# We'll drop punts that have no PR designated and the data point of the PR (proximity_to_PR == 0)\n",
    "pr_proximities = punt_received_df[~(punt_received_df['proximity_to_PR'] == 0)].reset_index(drop=True).copy()"
   ]
  },
  {
   "cell_type": "code",
   "execution_count": null,
   "metadata": {},
   "outputs": [],
   "source": [
    "def plot_punt_events(df, unique_ids):\n",
    "    '''\n",
    "    Function to either plot out plays where a given event has occured\n",
    "    df: NGS dataframe that has already been filtered by some event\n",
    "    unique_ids: unique (gamekey,playID) pairs built from NGS dataframe of an event\n",
    "    '''\n",
    "    # Iterate through unique (GameKey, PlayID)\n",
    "    for i in range(len(unique_ids)):\n",
    "        print(i)\n",
    "\n",
    "        # Play information\n",
    "        game_key = unique_ids.loc[i, 'GameKey']\n",
    "        play_id = unique_ids.loc[i, 'PlayID']\n",
    "\n",
    "        # Get one unique set of data points related to a single (GameKey, PlayID) pair\n",
    "        where_condition = ((df['GameKey'] == game_key) &\\\n",
    "                           (df['PlayID'] == play_id))\n",
    "        just_view = df[where_condition].reset_index()\n",
    "        print('Play Description:', just_view.loc[0, 'PlayDescription'])\n",
    "        \n",
    "        # Prepare figure of players positions when punt is received\n",
    "        fig, ax = plt.subplots()\n",
    "        sns.set()\n",
    "        for j in range(len(just_view)):\n",
    "            # Player information\n",
    "            team = just_view.loc[j, 'team']\n",
    "            position_x = just_view.loc[j, 'x']\n",
    "            position_y = just_view.loc[j, 'y']\n",
    "\n",
    "            # Label based on offense or defense and map player position\n",
    "            if team == 'return team':\n",
    "                ax.scatter(position_x, position_y, alpha=0.8, color='red')\n",
    "            elif team == 'punt team':\n",
    "                ax.scatter(position_x, position_y, alpha=0.8, color='blue')\n",
    "            else:\n",
    "                ax.scatter(position_x, position_y, alpha=0.8, color='green')\n",
    "\n",
    "        # Normal length of field is 120 yards\n",
    "        plt.xlim(-10, 130)\n",
    "        plt.xticks(np.arange(0, 130, step=10),\n",
    "                   ['End', 'GL', '10', '20', '30', '40', '50', '40', '30', '20', '10', 'GL', 'End'])\n",
    "        # Normal width is 53.3 yards\n",
    "        plt.ylim(-10, 65)\n",
    "        plt.yticks(np.arange(0, 65, 53.3), ['Sideline', 'Sideline'])\n",
    "        plt.title('Playing Field')\n",
    "        plt.xlabel('yardline')\n",
    "        plt.ylabel('width of field')\n",
    "        red_patch = mpatches.Patch(color='red', label='return team')\n",
    "        blue_patch = mpatches.Patch(color='blue', label='punt team')\n",
    "        green_patch = mpatches.Patch(color='green', label='unknown')\n",
    "        plt.legend(handles=[red_patch, blue_patch, green_patch])\n",
    "        plt.show()"
   ]
  },
  {
   "cell_type": "code",
   "execution_count": null,
   "metadata": {},
   "outputs": [],
   "source": [
    "# Plot all positions at the time of specific event\n",
    "plot_punt_events(punt_received_df, PR_unique_ids)"
   ]
  },
  {
   "cell_type": "code",
   "execution_count": null,
   "metadata": {},
   "outputs": [],
   "source": [
    "pr_proximities.head(1)"
   ]
  },
  {
   "cell_type": "code",
   "execution_count": null,
   "metadata": {},
   "outputs": [],
   "source": [
    "# Get set of unique_ids for the punts for the pr_proximities dataset\n",
    "pr_proximities_unique_ids = pr_proximities.groupby(['GameKey','PlayID']).size()\\\n",
    "    .reset_index().rename(columns={0:'count'})"
   ]
  },
  {
   "cell_type": "code",
   "execution_count": null,
   "metadata": {},
   "outputs": [],
   "source": [
    "def calculate_closest_player(df, unique_ids, column):\n",
    "    unique_ids['proximity'] = 0\n",
    "    \n",
    "    for i in range(len(unique_ids)):\n",
    "        print(i)\n",
    "        \n",
    "        # Play information\n",
    "        game_key = unique_ids.loc[i, 'GameKey']\n",
    "        play_id = unique_ids.loc[i, 'PlayID']\n",
    "\n",
    "        # Get one unique set of data points related to a single (GameKey, PlayID) pair\n",
    "        where_condition = ((df['GameKey'] == game_key) &\\\n",
    "                           (df['PlayID'] == play_id))\n",
    "        just_view = df[where_condition].reset_index(drop=True)\n",
    "        \n",
    "        # Take minimum of series\n",
    "        unique_ids.loc[i, 'proximity'] = min(just_view[column])"
   ]
  },
  {
   "cell_type": "code",
   "execution_count": null,
   "metadata": {},
   "outputs": [],
   "source": [
    "calculate_closest_player(pr_proximities, pr_proximities_unique_ids, 'proximity_to_PR')"
   ]
  },
  {
   "cell_type": "code",
   "execution_count": null,
   "metadata": {},
   "outputs": [],
   "source": [
    "'''Plot of distribution distance of closest player to punt receiver'''\n",
    "bins = [i for i in range(0, 40, 1)]\n",
    "plt.hist(pr_proximities_unique_ids['proximity'], bins=bins)\n",
    "\n",
    "plt.title('Distribution of closest player on punt team to punt receiver')\n",
    "plt.xlabel('Yards')\n",
    "plt.ylabel('count')\n",
    "plt.show()\n",
    "\n",
    "pr_proximities_unique_ids['proximity'].describe()"
   ]
  },
  {
   "cell_type": "code",
   "execution_count": null,
   "metadata": {},
   "outputs": [],
   "source": [
    "# Combine Unique ID's appropriately\n",
    "yard_and_proximity = pd.merge(pr_proximities_unique_ids, remainder_df,\n",
    "                          how='inner',\n",
    "                          on=['GameKey', 'PlayID'])\n",
    "print(yard_and_proximity.shape)\n",
    "yard_and_proximity.head()"
   ]
  },
  {
   "cell_type": "markdown",
   "metadata": {},
   "source": [
    "### Let's Look at Yardage and Proximity"
   ]
  },
  {
   "cell_type": "code",
   "execution_count": null,
   "metadata": {},
   "outputs": [],
   "source": [
    "def build_that_histogram(x, title):\n",
    "    bins = [i for i in range(min(x), max(x), 1)]\n",
    "    plt.hist(x, bins=bins)\n",
    "\n",
    "    plt.title(title)\n",
    "    plt.xlabel('Yards')\n",
    "    plt.ylabel('count')\n",
    "    plt.show()"
   ]
  },
  {
   "cell_type": "code",
   "execution_count": null,
   "metadata": {},
   "outputs": [],
   "source": [
    "# Let's look at what are the number of yards gained given how close the nearest opposing player\n",
    "# to the punt receiver is\n",
    "mean_dif = []\n",
    "for i in range(1, 20):\n",
    "    \n",
    "    # Check for cases less than or equal to a certain distance\n",
    "    where_condition = yard_and_proximity['proximity'] <= i\n",
    "    title = 'Proximity <= ' + str(i) + ' yards'\n",
    "    x = yard_and_proximity[where_condition]['yardage on play']\n",
    "    build_that_histogram(x, title)\n",
    "    print(x.describe())\n",
    "    mean1 = x.describe()[1]\n",
    "    \n",
    "    # Check for cases greater than a certain distance\n",
    "    where_condition = yard_and_proximity['proximity'] > i\n",
    "    title = 'Proximity > ' + str(i) + ' yards'\n",
    "    x = yard_and_proximity[where_condition]['yardage on play']\n",
    "    build_that_histogram(x, title)\n",
    "    print(x.describe())\n",
    "    mean2 = x.describe()[1]\n",
    "    \n",
    "    mean_dif.append(mean2 - mean1)\n",
    "    print('---')\n",
    "    print('---')"
   ]
  },
  {
   "cell_type": "code",
   "execution_count": null,
   "metadata": {},
   "outputs": [],
   "source": [
    "plt.scatter([i for i in range(1, 20)], mean_dif)"
   ]
  },
  {
   "cell_type": "markdown",
   "metadata": {},
   "source": [
    "### Let's Look at Reward and Proximity"
   ]
  },
  {
   "cell_type": "code",
   "execution_count": null,
   "metadata": {},
   "outputs": [],
   "source": [
    "def build_that_histogram_rewards(x, title):\n",
    "    bins = [i * 0.01 for i in range(-15, 100, 1)]\n",
    "    plt.hist(x, bins=bins)\n",
    "\n",
    "    plt.title(title)\n",
    "    plt.xlabel('Reward')\n",
    "    plt.ylabel('Count')\n",
    "    plt.show()"
   ]
  },
  {
   "cell_type": "code",
   "execution_count": null,
   "metadata": {},
   "outputs": [],
   "source": [
    "mean_dif = []\n",
    "for i in range(1, 20):\n",
    "    # Check for cases less than or equal to a certain distance\n",
    "    where_condition = yard_and_proximity['proximity'] <= i\n",
    "    title = 'Proximity <= ' + str(i) + ' yards'\n",
    "    x = yard_and_proximity[where_condition]['reward']\n",
    "    build_that_histogram_rewards(x, title)\n",
    "    print(x.describe())\n",
    "    mean1 = x.describe()[1]\n",
    "    \n",
    "    # Check for cases greater than than a certain distance\n",
    "    where_condition = yard_and_proximity['proximity'] > i\n",
    "    title = 'Proximity > ' + str(i) + ' yards'\n",
    "    x = yard_and_proximity[where_condition]['reward']\n",
    "    build_that_histogram_rewards(x, title)\n",
    "    print(x.describe())\n",
    "    mean2 = x.describe()[1]\n",
    "    \n",
    "    mean_dif.append(mean2 - mean1)\n",
    "    print('---')\n",
    "    print('---')"
   ]
  },
  {
   "cell_type": "code",
   "execution_count": null,
   "metadata": {},
   "outputs": [],
   "source": [
    "plt.scatter([i for i in range(1, 20)], mean_dif)"
   ]
  },
  {
   "cell_type": "markdown",
   "metadata": {},
   "source": [
    "- So intuitively the further a punt team player is from the PR the higher the mean return distance and 'reward' value for return.\n",
    "    - By looking at the plot of mean differences we can see at what yardage there is marginal gains in yardage between the distributions in proximities. This looks like about the distance of 8-9 yards.\n",
    "- Considering this and that 18 of the concussions could have benefitted from a PR restricted zone of 8 yards, a rule for an 8 yard restricted zone for a PR is proposed.\n",
    "- <b>PR Restricted Zone Rule:</b> The PR is given 8 yards to the nearest punt team player. If a punt team player infringes on this zone when the ball contacts a surface (player, field, ref) after the ball has been punted, the play is called dead and a 10 yard penalty is assesed from where the ball contacts a surface after the ball has been punted. A PR must be making attempt to catch the ball for this restricted zone to apply."
   ]
  },
  {
   "cell_type": "code",
   "execution_count": null,
   "metadata": {},
   "outputs": [],
   "source": [
    "RB = 3\n",
    "WR = 23\n",
    "CB = 4\n",
    "S = 2\n",
    "salaries = [10250000, 634143, 555000, 622450, 2914000, 964443, 2792829, 705205, \n",
    "            1400000, 10000000, 1907000, 758915, 633944, 1400000, 1486143, 7000000, \n",
    "            1005000, 669998, 646555, 525000, 2820696, 769039, 540000, 480000, \n",
    "            741497, 2585497, 2340000, 905000, 1005000, 5500000, 6000000, 658961]\n",
    "np.average(salaries)"
   ]
  },
  {
   "cell_type": "markdown",
   "metadata": {},
   "source": [
    "### Cost of Losing Punt Receiver\n",
    "- 5 of 10 offensive players receiving a concussion are PR\n",
    "    - PR Position Breakdown for current roster:\n",
    "        - WR: 23, CB: 4, RB: 3, S: 2\n",
    "    - Their value is ~2.2M/year and was calculated from:\n",
    "        - https://www.ourlads.com/nfldepthcharts/depthchartpos/PR\n",
    "        - https://www.spotrac.com/\n",
    "    - 2013: 16 days on average off the field with a concussion\n",
    "        - https://www.usatoday.com/story/sports/nfl/2013/07/31/concussions-keeping-nfl-players-off-the-field-longer/2604023/"
   ]
  },
  {
   "cell_type": "code",
   "execution_count": null,
   "metadata": {},
   "outputs": [],
   "source": []
  }
 ],
 "metadata": {
  "kernelspec": {
   "display_name": "ML",
   "language": "python",
   "name": "ml"
  },
  "language_info": {
   "codemirror_mode": {
    "name": "ipython",
    "version": 3
   },
   "file_extension": ".py",
   "mimetype": "text/x-python",
   "name": "python",
   "nbconvert_exporter": "python",
   "pygments_lexer": "ipython3",
   "version": "3.7.1"
  }
 },
 "nbformat": 4,
 "nbformat_minor": 2
}
