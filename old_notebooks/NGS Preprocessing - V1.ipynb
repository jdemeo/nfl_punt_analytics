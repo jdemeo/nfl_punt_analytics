{
 "cells": [
  {
   "cell_type": "code",
   "execution_count": 2,
   "metadata": {},
   "outputs": [],
   "source": [
    "import pandas as pd\n",
    "import numpy as np"
   ]
  },
  {
   "cell_type": "markdown",
   "metadata": {},
   "source": [
    "### Combining NGS Data by Year"
   ]
  },
  {
   "cell_type": "code",
   "execution_count": null,
   "metadata": {},
   "outputs": [],
   "source": [
    "# 2016 Season Data Processing\n",
    "ngs_2016_pre = pd.read_csv('data/NGS-2016-pre.csv')\n",
    "ngs_2016_1_6 = pd.read_csv('data/NGS-2016-reg-wk1-6.csv')\n",
    "ngs_2016_7_12 = pd.read_csv('data/NGS-2016-reg-wk7-12.csv')\n",
    "ngs_2016_13_17 = pd.read_csv('data/NGS-2016-reg-wk13-17.csv')\n",
    "ngs_2016_post = pd.read_csv('data/NGS-2016-post.csv')\n",
    "\n",
    "# Combine\n",
    "ngs_2016 = pd.concat([ngs_2016_pre, ngs_2016_1_6, ngs_2016_7_12, ngs_2016_13_17, ngs_2016_post], axis=0)\n",
    "ngs_2016.to_csv('data/NGS-2016.csv', index=False)\n",
    "\n",
    "# Clear up memory\n",
    "del ngs_2016_pre\n",
    "del ngs_2016_1_6\n",
    "del ngs_2016_7_12\n",
    "del ngs_2016_13_17\n",
    "del ngs_2016_post\n",
    "\n",
    "# 2017 Season Data Processing\n",
    "ngs_2017_pre = pd.read_csv('data/NGS-2017-pre.csv')\n",
    "ngs_2017_1_6 = pd.read_csv('data/NGS-2017-reg-wk1-6.csv')\n",
    "ngs_2017_7_12 = pd.read_csv('data/NGS-2017-reg-wk7-12.csv')\n",
    "ngs_2017_13_17 = pd.read_csv('data/NGS-2017-reg-wk13-17.csv')\n",
    "ngs_2017_post = pd.read_csv('data/NGS-2017-post.csv')\n",
    "\n",
    "# Combine\n",
    "ngs_2017 = pd.concat([ngs_2017_pre, ngs_2017_1_6, ngs_2017_7_12, ngs_2017_13_17, ngs_2017_post], axis=0)\n",
    "ngs_2017.to_csv('data/NGS-2017.csv', index=False)\n",
    "\n",
    "# Clear up memory\n",
    "del ngs_2017_pre\n",
    "del ngs_2017_1_6\n",
    "del ngs_2017_7_12\n",
    "del ngs_2017_13_17\n",
    "del ngs_2017_post"
   ]
  },
  {
   "cell_type": "markdown",
   "metadata": {},
   "source": [
    "### Combining NGS Data with Concussion Data"
   ]
  },
  {
   "cell_type": "code",
   "execution_count": null,
   "metadata": {},
   "outputs": [],
   "source": [
    "# Load in all NGS data and punt_return play info\n",
    "ngs_2016 = pd.read_csv('data/NGS-2016.csv')\n",
    "ngs_2017 = pd.read_csv('data/NGS-2017.csv')\n",
    "concussion_df = pd.read_csv('data/video_review.csv')\n",
    "remainder_df = concussion_df.groupby(['GameKey','PlayID']).size().reset_index().rename(columns={0:'count'})"
   ]
  },
  {
   "cell_type": "code",
   "execution_count": null,
   "metadata": {},
   "outputs": [],
   "source": [
    "# Create condensed set of NGS data\n",
    "condensed_ngs_2016 = pd.merge(remainder_df, ngs_2016,\n",
    "                          how='inner',\n",
    "                          on=['GameKey', 'PlayID'])\n",
    "\n",
    "# Memory Management\n",
    "del ngs_2016\n",
    "\n",
    "condensed_ngs_2017 = pd.merge(remainder_df, ngs_2017,\n",
    "                          how='inner',\n",
    "                          on=['GameKey', 'PlayID'])\n",
    "\n",
    "# Memory Management\n",
    "del ngs_2017\n",
    "del remainder_df\n",
    "\n",
    "condensed_ngs = pd.concat([condensed_ngs_2016, condensed_ngs_2017], axis=0)\n",
    "\n",
    "# Memory Management\n",
    "del condensed_ngs_2016\n",
    "del condensed_ngs_2017"
   ]
  },
  {
   "cell_type": "code",
   "execution_count": null,
   "metadata": {},
   "outputs": [],
   "source": [
    "# Combine Player Roles with NGS Data\n",
    "play_player_role_df = pd.read_csv('data/play_player_role_data.csv')\n",
    "play_df = pd.read_csv('data/play_information.csv')\n",
    "\n",
    "role_ngs = pd.merge(condensed_ngs, play_player_role_df,\n",
    "                    how='left',\n",
    "                    on=['GameKey', 'PlayID', 'GSISID'])\n",
    "\n",
    "role_ngs = pd.merge(role_ngs, play_df,\n",
    "                    how='left',\n",
    "                    on=['GameKey', 'PlayID'])\n",
    "\n",
    "# Cleanup\n",
    "keepers = ['GameKey', 'PlayID', 'GSISID', 'Time', 'x', 'y', 'dis', 'o', 'Event', 'Role', 'PlayDescription']\n",
    "role_ngs = role_ngs[keepers]\n",
    "\n",
    "# Memory Management\n",
    "del play_player_role_df\n",
    "del condensed_ngs\n",
    "\n",
    "role_ngs.to_csv('data/NGS-concussions.csv', index=False)"
   ]
  },
  {
   "cell_type": "markdown",
   "metadata": {},
   "source": [
    "### Combining NGS Data with Punt Returns\n",
    "- We'll be taking our condensed set of games and natural joining with the NGS data for each year and then recombining data so we have a dataset of 'cleanish' punt returns. We'll use this data to get conditional statistics on returns given distance of closest punt player to punt receiver. We use the assumption that all the punt receiver is always the one who is getting the ball at the 'Event': 'punt_returned' from the NGS data.\n",
    "- 'play-punt_returns.csv' comes from preprocessing notebook\n",
    "- **LINK TO PUNT RETURN NOTEBOOK**"
   ]
  },
  {
   "cell_type": "code",
   "execution_count": null,
   "metadata": {},
   "outputs": [],
   "source": [
    "# Load in all NGS data and punt_return play info\n",
    "ngs_2016 = pd.read_csv('data/NGS-2016.csv')\n",
    "ngs_2017 = pd.read_csv('data/NGS-2017.csv')\n",
    "remainder_df = pd.read_csv('data/play-punt_returns.csv')"
   ]
  },
  {
   "cell_type": "code",
   "execution_count": null,
   "metadata": {},
   "outputs": [],
   "source": [
    "# Create condensed set of NGS data\n",
    "condensed_ngs_2016 = pd.merge(remainder_df, ngs_2016,\n",
    "                          how='inner',\n",
    "                          on=['GameKey', 'PlayID'])\n",
    "\n",
    "# Memory Management\n",
    "del ngs_2016\n",
    "\n",
    "condensed_ngs_2017 = pd.merge(remainder_df, ngs_2017,\n",
    "                          how='inner',\n",
    "                          on=['GameKey', 'PlayID'])\n",
    "\n",
    "# Memory Management\n",
    "del ngs_2017\n",
    "del remainder_df\n",
    "\n",
    "condensed_ngs = pd.concat([condensed_ngs_2016, condensed_ngs_2017], axis=0)\n",
    "\n",
    "# Memory Management\n",
    "del condensed_ngs_2016\n",
    "del condensed_ngs_2017"
   ]
  },
  {
   "cell_type": "code",
   "execution_count": null,
   "metadata": {},
   "outputs": [],
   "source": [
    "# Combine Player Roles with NGS Data\n",
    "play_player_role_df = pd.read_csv('data/play_player_role_data.csv')\n",
    "\n",
    "role_ngs = pd.merge(condensed_ngs, play_player_role_df,\n",
    "                    how='left',\n",
    "                    on=['GameKey', 'PlayID', 'GSISID'])\n",
    "\n",
    "droppers = ['Season_Year_x', 'Season_Year_y']\n",
    "role_ngs.drop(columns=droppers, inplace=True)\n",
    "\n",
    "# Memory Management\n",
    "del play_player_role_df\n",
    "del condensed_ngs\n",
    "\n",
    "role_ngs.to_csv('data/NGS-punt_returns.csv', index=False)"
   ]
  },
  {
   "cell_type": "markdown",
   "metadata": {},
   "source": [
    "### Combining NGS Data with Fair Catches\n",
    "- We combine this data to calculate proximity data for these plays which will help to build an inuition of when a fair catch occurs relative to the punt teams positioning.\n",
    "- 'play-fc.csv' comes from the preproessing notebook **LNIK TO NOTEBOOKJ**\n",
    "- **LINK TO FAIR CATCH ANALYSIS NOTEBOOK**"
   ]
  },
  {
   "cell_type": "code",
   "execution_count": null,
   "metadata": {},
   "outputs": [],
   "source": [
    "# Load in all NGS data and punt_return play info\n",
    "ngs_2016 = pd.read_csv('data/NGS-2016.csv')\n",
    "ngs_2017 = pd.read_csv('data/NGS-2017.csv')\n",
    "remainder_df = pd.read_csv('data/play-fc.csv')"
   ]
  },
  {
   "cell_type": "code",
   "execution_count": null,
   "metadata": {},
   "outputs": [],
   "source": [
    "ngs"
   ]
  },
  {
   "cell_type": "code",
   "execution_count": null,
   "metadata": {},
   "outputs": [],
   "source": [
    "# Create condensed set of NGS data\n",
    "condensed_ngs_2016 = pd.merge(remainder_df, ngs_2016,\n",
    "                          how='inner',\n",
    "                          on=['GameKey', 'PlayID'])\n",
    "\n",
    "# Memory Management\n",
    "del ngs_2016\n",
    "\n",
    "condensed_ngs_2017 = pd.merge(remainder_df, ngs_2017,\n",
    "                          how='inner',\n",
    "                          on=['GameKey', 'PlayID'])\n",
    "\n",
    "# Memory Management\n",
    "del ngs_2017\n",
    "del remainder_df\n",
    "\n",
    "condensed_ngs = pd.concat([condensed_ngs_2016, condensed_ngs_2017], axis=0)\n",
    "\n",
    "# Memory Management\n",
    "del condensed_ngs_2016\n",
    "del condensed_ngs_2017"
   ]
  },
  {
   "cell_type": "code",
   "execution_count": null,
   "metadata": {},
   "outputs": [],
   "source": [
    "# Combine Player Roles with NGS Data\n",
    "play_player_role_df = pd.read_csv('data/play_player_role_data.csv')\n",
    "\n",
    "role_ngs = pd.merge(condensed_ngs, play_player_role_df,\n",
    "                    how='left',\n",
    "                    on=['GameKey', 'PlayID', 'GSISID'])\n",
    "\n",
    "droppers = ['Season_Year_x', 'Season_Year_y']\n",
    "role_ngs.drop(columns=droppers, inplace=True)\n",
    "\n",
    "# Memory Management\n",
    "del play_player_role_df\n",
    "del condensed_ngs\n",
    "\n",
    "role_ngs.to_csv('data/NGS-fc.csv', index=False)"
   ]
  },
  {
   "cell_type": "code",
   "execution_count": null,
   "metadata": {},
   "outputs": [],
   "source": [
    "role_ngs.shape"
   ]
  },
  {
   "cell_type": "markdown",
   "metadata": {},
   "source": [
    "### ALTERNATIVE PROCESSING"
   ]
  },
  {
   "cell_type": "code",
   "execution_count": 3,
   "metadata": {},
   "outputs": [
    {
     "name": "stderr",
     "output_type": "stream",
     "text": [
      "<string>:2: DtypeWarning: Columns (10) have mixed types. Specify dtype option on import or set low_memory=False.\n"
     ]
    },
    {
     "name": "stdout",
     "output_type": "stream",
     "text": [
      "CPU times: user 2min 36s, sys: 41.8 s, total: 3min 18s\n",
      "Wall time: 2min 48s\n"
     ]
    }
   ],
   "source": [
    "%%time\n",
    "\n",
    "# 2016 Season Data Processing\n",
    "ngs_2016_pre = pd.read_csv('data/NGS-2016-pre.csv')\n",
    "ngs_2016_1_6 = pd.read_csv('data/NGS-2016-reg-wk1-6.csv')\n",
    "ngs_2016_7_12 = pd.read_csv('data/NGS-2016-reg-wk7-12.csv')\n",
    "ngs_2016_13_17 = pd.read_csv('data/NGS-2016-reg-wk13-17.csv')\n",
    "ngs_2016_post = pd.read_csv('data/NGS-2016-post.csv')\n",
    "\n",
    "# Combine\n",
    "ngs_2016 = pd.concat([ngs_2016_pre, ngs_2016_1_6, ngs_2016_7_12, ngs_2016_13_17, ngs_2016_post], axis=0)\n",
    "\n",
    "# Clear up memory\n",
    "del ngs_2016_pre\n",
    "del ngs_2016_1_6\n",
    "del ngs_2016_7_12\n",
    "del ngs_2016_13_17\n",
    "del ngs_2016_post\n",
    "\n",
    "# 2017 Season Data Processing\n",
    "ngs_2017_pre = pd.read_csv('data/NGS-2017-pre.csv')\n",
    "ngs_2017_1_6 = pd.read_csv('data/NGS-2017-reg-wk1-6.csv')\n",
    "ngs_2017_7_12 = pd.read_csv('data/NGS-2017-reg-wk7-12.csv')\n",
    "ngs_2017_13_17 = pd.read_csv('data/NGS-2017-reg-wk13-17.csv')\n",
    "ngs_2017_post = pd.read_csv('data/NGS-2017-post.csv')\n",
    "\n",
    "# Combine\n",
    "ngs_2017 = pd.concat([ngs_2017_pre, ngs_2017_1_6, ngs_2017_7_12, ngs_2017_13_17, ngs_2017_post], axis=0)\n",
    "\n",
    "# Clear up memory\n",
    "del ngs_2017_pre\n",
    "del ngs_2017_1_6\n",
    "del ngs_2017_7_12\n",
    "del ngs_2017_13_17\n",
    "del ngs_2017_post\n",
    "\n",
    "# Combine\n",
    "ngs_all = pd.concat([ngs_2016, ngs_2017], axis=0)\n",
    "\n",
    "# Clear up memory\n",
    "del ngs_2016\n",
    "del ngs_2017\n",
    "\n",
    "# Drop unneeded columns\n",
    "droppers = ['Season_Year', 'o', 'dir']\n",
    "ngs_all.drop(columns=droppers, inplace=True)"
   ]
  },
  {
   "cell_type": "markdown",
   "metadata": {},
   "source": [
    "- Get NGS subsets"
   ]
  },
  {
   "cell_type": "code",
   "execution_count": 10,
   "metadata": {},
   "outputs": [],
   "source": [
    "# Fair Catch\n",
    "fair_catch_df = pd.read_csv('data/play-fair_catch.csv')\n",
    "remainder_df = fair_catch_df.groupby(['GameKey','PlayID']).size().reset_index().rename(columns={0:'count'})\n",
    "\n",
    "# Create condensed set of NGS data\n",
    "condensed_ngs = pd.merge(remainder_df, ngs_all,\n",
    "                          how='inner',\n",
    "                          on=['GameKey', 'PlayID'])\n",
    "\n",
    "condensed_ngs.to_csv('data/NGS-fair_catch.csv', index=False)"
   ]
  },
  {
   "cell_type": "code",
   "execution_count": 12,
   "metadata": {},
   "outputs": [],
   "source": [
    "# Punt Return\n",
    "fair_catch_df = pd.read_csv('data/play-punt_return.csv')\n",
    "remainder_df = fair_catch_df.groupby(['GameKey','PlayID']).size().reset_index().rename(columns={0:'count'})\n",
    "\n",
    "# Create condensed set of NGS data\n",
    "condensed_ngs = pd.merge(remainder_df, ngs_all,\n",
    "                          how='inner',\n",
    "                          on=['GameKey', 'PlayID'])\n",
    "\n",
    "condensed_ngs.to_csv('data/NGS-punt_return.csv', index=False)"
   ]
  },
  {
   "cell_type": "code",
   "execution_count": 13,
   "metadata": {},
   "outputs": [],
   "source": [
    "# Concussion\n",
    "concussion_df = pd.read_csv('data/video_review.csv')\n",
    "remainder_df = concussion_df.groupby(['GameKey','PlayID']).size().reset_index().rename(columns={0:'count'})\n",
    "\n",
    "# Create condensed set of NGS data\n",
    "condensed_ngs = pd.merge(remainder_df, ngs_all,\n",
    "                          how='inner',\n",
    "                          on=['GameKey', 'PlayID'])\n",
    "\n",
    "condensed_ngs.to_csv('data/NGS-concussion.csv', index=False)"
   ]
  },
  {
   "cell_type": "code",
   "execution_count": null,
   "metadata": {},
   "outputs": [],
   "source": []
  },
  {
   "cell_type": "code",
   "execution_count": null,
   "metadata": {},
   "outputs": [],
   "source": []
  },
  {
   "cell_type": "markdown",
   "metadata": {},
   "source": [
    "### Combine NGS data with concussion data"
   ]
  },
  {
   "cell_type": "code",
   "execution_count": null,
   "metadata": {},
   "outputs": [],
   "source": [
    "# Combine NGS data with concussion data\n",
    "concussion_df = pd.read_csv('data/video_review.csv')\n",
    "remainder_df = concussion_df.groupby(['GameKey','PlayID']).size().reset_index().rename(columns={0:'count'})\n",
    "\n",
    "del concussion_df\n",
    "\n",
    "# Create condensed set of NGS data\n",
    "condensed_ngs = pd.merge(remainder_df, ngs_all,\n",
    "                          how='inner',\n",
    "                          on=['GameKey', 'PlayID'])\n",
    "\n",
    "del remainder_df\n",
    "\n",
    "# Combine Player Roles with NGS Data\n",
    "play_player_role_df = pd.read_csv('data/play_player_role_data.csv')\n",
    "play_df = pd.read_csv('data/play_information.csv')\n",
    "\n",
    "role_ngs = pd.merge(condensed_ngs, play_player_role_df,\n",
    "                    how='left',\n",
    "                    on=['GameKey', 'PlayID', 'GSISID'])\n",
    "\n",
    "role_ngs = pd.merge(role_ngs, play_df,\n",
    "                    how='left',\n",
    "                    on=['GameKey', 'PlayID'])\n",
    "\n",
    "# Cleanup\n",
    "keepers = ['GameKey', 'PlayID', 'GSISID', 'Time', 'x', 'y', 'dis', 'Event', 'Role', 'PlayDescription']\n",
    "role_ngs = role_ngs[keepers]\n",
    "\n",
    "role_ngs.to_csv('NGS-concussions.csv', index=False)\n",
    "\n",
    "del condensed_ngs\n",
    "del play_df\n",
    "del role_ngs"
   ]
  },
  {
   "cell_type": "code",
   "execution_count": null,
   "metadata": {},
   "outputs": [],
   "source": []
  }
 ],
 "metadata": {
  "kernelspec": {
   "display_name": "ML",
   "language": "python",
   "name": "ml"
  },
  "language_info": {
   "codemirror_mode": {
    "name": "ipython",
    "version": 3
   },
   "file_extension": ".py",
   "mimetype": "text/x-python",
   "name": "python",
   "nbconvert_exporter": "python",
   "pygments_lexer": "ipython3",
   "version": "3.7.1"
  }
 },
 "nbformat": 4,
 "nbformat_minor": 2
}
