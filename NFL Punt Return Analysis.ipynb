{
 "cells": [
  {
   "cell_type": "code",
   "execution_count": 1,
   "metadata": {},
   "outputs": [],
   "source": [
    "import pandas as pd\n",
    "import numpy as np\n",
    "import seaborn as sns\n",
    "import matplotlib.pyplot as plt\n",
    "import matplotlib.patches as mpatches"
   ]
  },
  {
   "cell_type": "markdown",
   "metadata": {},
   "source": [
    "- We'll look at some general characteristics of the plays that involve a punt return. The dataset presented is created by parsing the PlayDescription field and isolating punts that actually resulted in some return rather than plays with no chance of return (dead ball, fair catch, etc.). I've also stripped the dataset of particular plays such as punt returns for a touchdown since I play with that data in a separate notebook."
   ]
  },
  {
   "cell_type": "code",
   "execution_count": 19,
   "metadata": {},
   "outputs": [
    {
     "name": "stdout",
     "output_type": "stream",
     "text": [
      "(2589, 11)\n"
     ]
    },
    {
     "data": {
      "text/html": [
       "<div>\n",
       "<style scoped>\n",
       "    .dataframe tbody tr th:only-of-type {\n",
       "        vertical-align: middle;\n",
       "    }\n",
       "\n",
       "    .dataframe tbody tr th {\n",
       "        vertical-align: top;\n",
       "    }\n",
       "\n",
       "    .dataframe thead th {\n",
       "        text-align: right;\n",
       "    }\n",
       "</style>\n",
       "<table border=\"1\" class=\"dataframe\">\n",
       "  <thead>\n",
       "    <tr style=\"text-align: right;\">\n",
       "      <th></th>\n",
       "      <th>GameKey</th>\n",
       "      <th>PlayID</th>\n",
       "      <th>count</th>\n",
       "      <th>proximity</th>\n",
       "      <th>PlayDescription</th>\n",
       "      <th>Poss_Team</th>\n",
       "      <th>YardLine</th>\n",
       "      <th>punt distance</th>\n",
       "      <th>side ball lands</th>\n",
       "      <th>yardline received</th>\n",
       "      <th>yardage on play</th>\n",
       "    </tr>\n",
       "  </thead>\n",
       "  <tbody>\n",
       "    <tr>\n",
       "      <th>0</th>\n",
       "      <td>3</td>\n",
       "      <td>455</td>\n",
       "      <td>22</td>\n",
       "      <td>7.120003</td>\n",
       "      <td>(6:44) (Punt formation) S.Koch punts 54 yards ...</td>\n",
       "      <td>BLT</td>\n",
       "      <td>BLT 32</td>\n",
       "      <td>54</td>\n",
       "      <td>CAR</td>\n",
       "      <td>14</td>\n",
       "      <td>9</td>\n",
       "    </tr>\n",
       "    <tr>\n",
       "      <th>1</th>\n",
       "      <td>3</td>\n",
       "      <td>1542</td>\n",
       "      <td>21</td>\n",
       "      <td>0.730001</td>\n",
       "      <td>(2:54) (Punt formation) S.Koch punts 45 yards ...</td>\n",
       "      <td>BLT</td>\n",
       "      <td>BLT 34</td>\n",
       "      <td>45</td>\n",
       "      <td>CAR</td>\n",
       "      <td>21</td>\n",
       "      <td>-1</td>\n",
       "    </tr>\n",
       "    <tr>\n",
       "      <th>2</th>\n",
       "      <td>4</td>\n",
       "      <td>927</td>\n",
       "      <td>22</td>\n",
       "      <td>4.889999</td>\n",
       "      <td>(1:53) A.Lee punts 40 yards to GB 27, Center-C...</td>\n",
       "      <td>CLV</td>\n",
       "      <td>CLV 33</td>\n",
       "      <td>40</td>\n",
       "      <td>GB</td>\n",
       "      <td>27</td>\n",
       "      <td>1</td>\n",
       "    </tr>\n",
       "    <tr>\n",
       "      <th>3</th>\n",
       "      <td>4</td>\n",
       "      <td>1725</td>\n",
       "      <td>21</td>\n",
       "      <td>15.660004</td>\n",
       "      <td>(2:48) A.Lee punts 66 yards to GB 15, Center-C...</td>\n",
       "      <td>CLV</td>\n",
       "      <td>CLV 19</td>\n",
       "      <td>66</td>\n",
       "      <td>GB</td>\n",
       "      <td>15</td>\n",
       "      <td>5</td>\n",
       "    </tr>\n",
       "    <tr>\n",
       "      <th>4</th>\n",
       "      <td>4</td>\n",
       "      <td>2888</td>\n",
       "      <td>22</td>\n",
       "      <td>12.639999</td>\n",
       "      <td>(3:29) T.Masthay punts 43 yards to GB 44, Cent...</td>\n",
       "      <td>GB</td>\n",
       "      <td>GB 1</td>\n",
       "      <td>43</td>\n",
       "      <td>GB</td>\n",
       "      <td>44</td>\n",
       "      <td>24</td>\n",
       "    </tr>\n",
       "  </tbody>\n",
       "</table>\n",
       "</div>"
      ],
      "text/plain": [
       "   GameKey  PlayID  count  proximity  \\\n",
       "0        3     455     22   7.120003   \n",
       "1        3    1542     21   0.730001   \n",
       "2        4     927     22   4.889999   \n",
       "3        4    1725     21  15.660004   \n",
       "4        4    2888     22  12.639999   \n",
       "\n",
       "                                     PlayDescription Poss_Team YardLine  \\\n",
       "0  (6:44) (Punt formation) S.Koch punts 54 yards ...       BLT   BLT 32   \n",
       "1  (2:54) (Punt formation) S.Koch punts 45 yards ...       BLT   BLT 34   \n",
       "2  (1:53) A.Lee punts 40 yards to GB 27, Center-C...       CLV   CLV 33   \n",
       "3  (2:48) A.Lee punts 66 yards to GB 15, Center-C...       CLV   CLV 19   \n",
       "4  (3:29) T.Masthay punts 43 yards to GB 44, Cent...        GB     GB 1   \n",
       "\n",
       "   punt distance side ball lands  yardline received  yardage on play  \n",
       "0             54            CAR                  14                9  \n",
       "1             45            CAR                  21               -1  \n",
       "2             40             GB                  27                1  \n",
       "3             66             GB                  15                5  \n",
       "4             43             GB                  44               24  "
      ]
     },
     "execution_count": 19,
     "metadata": {},
     "output_type": "execute_result"
    }
   ],
   "source": [
    "remainder_df = pd.read_csv('data/yardage_and_proximity.csv')\n",
    "print(remainder_df.shape)\n",
    "remainder_df.head()"
   ]
  },
  {
   "cell_type": "code",
   "execution_count": 20,
   "metadata": {},
   "outputs": [
    {
     "name": "stdout",
     "output_type": "stream",
     "text": [
      "Number of plays where punt team is punting in opponents territory: 46 -> 0.017767477790652762\n"
     ]
    }
   ],
   "source": [
    "# Check if punt team is always punting from their side of the field\n",
    "count = 0\n",
    "for i in range(len(remainder_df)):\n",
    "    team_name_len = len(remainder_df.loc[i, 'Poss_Team'])\n",
    "    if remainder_df.loc[i, 'Poss_Team'] == remainder_df.loc[i, 'YardLine'][:team_name_len]:\n",
    "        continue\n",
    "    else:\n",
    "        count += 1\n",
    "print(\"Number of plays where punt team is punting in opponents territory:\", count, '->', count/remainder_df.shape[0])"
   ]
  },
  {
   "cell_type": "code",
   "execution_count": 21,
   "metadata": {},
   "outputs": [
    {
     "data": {
      "image/png": "[encoded data removed]",
      "text/plain": [
       "<Figure size 432x288 with 1 Axes>"
      ]
     },
     "metadata": {},
     "output_type": "display_data"
    },
    {
     "name": "stdout",
     "output_type": "stream",
     "text": [
      "count    2589.000000\n",
      "mean        9.570877\n",
      "std        10.195922\n",
      "min       -11.000000\n",
      "25%         3.000000\n",
      "50%         8.000000\n",
      "75%        13.000000\n",
      "max        91.000000\n",
      "Name: yardage on play, dtype: float64\n"
     ]
    }
   ],
   "source": [
    "'''Plot of distribution of punt return distances'''\n",
    "sns.set()\n",
    "bins = [i for i in range(-15, 95, 1)]\n",
    "plt.hist(remainder_df['yardage on play'], bins=bins)\n",
    "\n",
    "plt.title('Distribution of punt return distances')\n",
    "plt.xlabel('Yards')\n",
    "plt.ylabel('count')\n",
    "plt.show()\n",
    "\n",
    "print(remainder_df['yardage on play'].describe())"
   ]
  },
  {
   "cell_type": "markdown",
   "metadata": {},
   "source": [
    "- Punt returns really tapper off after 20 yards. Really should consider what is the 'value' of a return when considering implementing a particular rule."
   ]
  },
  {
   "cell_type": "code",
   "execution_count": 23,
   "metadata": {},
   "outputs": [
    {
     "data": {
      "image/png": "[encoded data removed]",
      "text/plain": [
       "<Figure size 432x288 with 1 Axes>"
      ]
     },
     "metadata": {},
     "output_type": "display_data"
    },
    {
     "name": "stdout",
     "output_type": "stream",
     "text": [
      "count    2589.000000\n",
      "mean        8.897852\n",
      "std         5.723655\n",
      "min         0.000000\n",
      "25%         4.529999\n",
      "50%         8.190002\n",
      "75%        12.300003\n",
      "max        37.650002\n",
      "Name: proximity, dtype: float64\n"
     ]
    }
   ],
   "source": [
    "from math import ceil\n",
    "\n",
    "\"\"\"Plot of distribution of nearest punt player's proximity to PR\"\"\"\n",
    "sns.set()\n",
    "bins = [i for i in range(0, ceil(max(remainder_df['proximity'])), 1)]\n",
    "plt.hist(remainder_df['proximity'], bins=bins)\n",
    "\n",
    "plt.title(\"Distribution of nearest punt player's proximity to PR\")\n",
    "plt.xlabel('Yards')\n",
    "plt.ylabel('count')\n",
    "plt.show()\n",
    "\n",
    "print(remainder_df['proximity'].describe())"
   ]
  },
  {
   "cell_type": "markdown",
   "metadata": {},
   "source": [
    "- The distribution above describes the distances of the closest punt team player to the player on the return team who I assume is receiving the punt at the point at which they are catching the ball.\n",
    "- Proximity can be important when considering the 'risk' of a play."
   ]
  },
  {
   "cell_type": "code",
   "execution_count": null,
   "metadata": {},
   "outputs": [],
   "source": []
  }
 ],
 "metadata": {
  "kernelspec": {
   "display_name": "ML",
   "language": "python",
   "name": "ml"
  },
  "language_info": {
   "codemirror_mode": {
    "name": "ipython",
    "version": 3
   },
   "file_extension": ".py",
   "mimetype": "text/x-python",
   "name": "python",
   "nbconvert_exporter": "python",
   "pygments_lexer": "ipython3",
   "version": "3.7.1"
  }
 },
 "nbformat": 4,
 "nbformat_minor": 2
}
